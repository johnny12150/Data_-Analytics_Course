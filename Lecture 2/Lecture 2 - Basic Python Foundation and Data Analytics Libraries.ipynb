{
 "cells": [
  {
   "cell_type": "markdown",
   "metadata": {},
   "source": [
    "### 第二章. 基礎Python程式語言與數據分析相關的軟件包介紹\n",
    "### Chapter 2. Basic Python Foundation and Data Analytics Libraries\n",
    "### <font color = 'red'>學習新技能的最佳方式是先找到需要解決的問題，然後即刻使用它，你不需要完全掌握技能後才使用它，我們都是在邊使用中邊學習</color>。"
   ]
  },
  {
   "cell_type": "markdown",
   "metadata": {},
   "source": [
    "### 前言：\n",
    "- #### 在前章教材中，我們安裝了Anaconda發行版(distribution)其內含有許多免費的科學計算和數據科學軟件包(package)，例如：NumPy，Pandas，Matplotlib等等，我們將在本章中使用它們。 \n",
    "- #### NumPy最主要的是提供了卓越性能的向量/矢量(vector)運算。在第三節中，我們將探討NumPy的一些基本概念，包括陣列/數組(arrays)和數據類型(data types)的相關運算。了解了NumPy的基本概念後，我們就更能理解在使用統計學和線性代數(Statistics and Linear Algebra)中的常用函數，來進行數據分析了。\n",
    "- #### Pandas是個Python資料分析的軟件包。在第四節中，我們會介紹關於Pandas的基本功能和數據結構的入門教程。我們將會學習到Pandas是如何能夠高效地查詢，匯總和操作數據。Pandas能提供的功能，可如關聯式數據庫表(relational database tables)以及Excel試算表提供的功能。NumPy和Pandas的搭配使用，就可以執行基本的統計分析。 \n",
    "- #### Matplotlib是個Python數據視覺化的軟件包，搭配Pandas可以繪製一些基本的圖。數據視覺化為本書的一個章節，我們會在該章中介紹除了Matplotlib以外的其他軟件包的使用。\n",
    "- #### 本章最主要的內容是讓讀者能了解與數據分析相關軟件包的基礎功能及概念，以利讀者能較快速地進入數據分析的領域，我們鼓勵讀者閱讀以下參考文獻提到的書籍，自我探索NumPy，Pandas以及Matplotlib的進一步細節和深度。"
   ]
  },
  {
   "cell_type": "markdown",
   "metadata": {},
   "source": [
    "### 參考文獻\n",
    "- #### 免費參考書籍一：Think Python是初學者的Python編程入門。 它從編程的基本概念開始，精心設計與定義所有的術語(terms)，以便讀者能依照邏輯性地導出新的概念。作者Allen B. Downey的Think Python 2e這本書是免費的，只要不用於商業目的下，可以自由複制，分發與修改。下載網址為[Think Python 2nd Edition](http://greenteapress.com/wp/think-python-2e/)。\n",
    "- #### 免費參考書籍二：一步一腳印的方式學Python(Learning Python The Hard Way)，這本書對於沒有太多程式設計經驗的人來說，是非常簡易而生動的一本學習Python的書。英文的原文網址為https://learnpythonthehardway.org/book。 這本書的[免費的中HTML版](https://flyouting.gitbooks.io/learn-python-the-hard-way-cn/content/)。\n",
    "- #### 付費的書籍：\n",
    "     - #### **Numpy and Pandas**的介紹：Wes McKinney, *Python for Data Analysis - Second edition, Packt Publishing*, 2017.\n",
    "    - #### **Numpy的介紹**：Leo Chin and Tanmay Dutta, *NumPy Essentials, Packt Publishing*, 2016.\n",
    "    - #### **Numpy的介紹**：Ivan Idris, *NumPy Cookbook - Second edition, Packt Publishing*, 2015.\n",
    "    - #### **Numpy的介紹**：Ivan Idris, *Learning NumPy Array, Packt Publishing*, 2014\n",
    "    - #### **Pandas的介紹**：Theodore Petrou, *Pandas Cookbook, Packt Publishing*, 2017.\n",
    "    - #### **Pandas的介紹**：Michael Heydt, *Learning Pandas - Second edition, Packt Publishing*, 2017.\n",
    "    - #### **Pandas的介紹**：Femi Anthony, *Mastering Pandas, Packt Publishing*, 2015.\n",
    "    - #### **Matplotlib的介紹**：Duncan M. McGreggor, *Mastering matplotlib, Packt Publishing*, 2015.\n",
    "- #### 網站內容參考：\n",
    "    - #### **Numpy的介紹**：[Python Numpy 官方文件](https://docs.scipy.org/doc/numpy-dev/user/quickstart.html)\n",
    "    - #### **Numpy的介紹**：[Python Numpy Tutorial](http://cs231n.github.io/python-numpy-tutorial/)\n",
    "    - #### **Numpy的介紹**：[Python Numpy Array Tutorial](https://www.datacamp.com/community/tutorials/python-numpy-tutorial)\n",
    "    - #### **Pandas的介紹**：[Pandas官方文件](https://pandas.pydata.org/pandas-docs/stable/tutorials.html)\n",
    "    - #### **Pandas的介紹**：[Pandas Tutorial: DataFrames in Python](https://www.datacamp.com/community/tutorials/pandas-tutorial-dataframe-python)\n",
    "    - #### **Matplotlib的介紹**：[Matplotlib官方文件](https://matplotlib.org/)\n",
    "    - #### **Matplotlib的介紹**：[Matplotlib Tutorial: Python Plotting](https://www.datacamp.com/community/tutorials/matplotlib-tutorial-python)\n",
    "    - #### 如果需要公開的數據集，可以參考[Awesome Public Datasets](https://github.com/ChristosChristofidis/awesome-public-datasets)"
   ]
  },
  {
   "cell_type": "markdown",
   "metadata": {},
   "source": [
    "### Python是開源軟體，其伴隨的軟件包自然也是開源軟體，版本的更新是使用者要主動注意的，以下的程式代碼可以讓我們清楚目前使用的軟件包其版本的狀況。"
   ]
  },
  {
   "cell_type": "code",
   "execution_count": 1,
   "metadata": {},
   "outputs": [
    {
     "data": {
      "application/javascript": [
       "IPython.notebook.set_autosave_interval(120000)"
      ]
     },
     "metadata": {},
     "output_type": "display_data"
    },
    {
     "name": "stdout",
     "output_type": "stream",
     "text": [
      "Autosaving every 120 seconds\n"
     ]
    },
    {
     "data": {
      "application/json": {
       "Software versions": [
        {
         "module": "Python",
         "version": "3.6.5 64bit [GCC 4.2.1 Compatible Apple LLVM 6.1.0 (clang-602.0.53)]"
        },
        {
         "module": "IPython",
         "version": "6.4.0"
        },
        {
         "module": "OS",
         "version": "Darwin 17.7.0 x86_64 i386 64bit"
        },
        {
         "module": "pandas",
         "version": "0.23.4"
        },
        {
         "module": "numpy",
         "version": "1.15.2"
        },
        {
         "module": "matplotlib",
         "version": "3.0.0"
        },
        {
         "module": "scipy",
         "version": "1.1.0"
        }
       ]
      },
      "text/html": [
       "<table><tr><th>Software</th><th>Version</th></tr><tr><td>Python</td><td>3.6.5 64bit [GCC 4.2.1 Compatible Apple LLVM 6.1.0 (clang-602.0.53)]</td></tr><tr><td>IPython</td><td>6.4.0</td></tr><tr><td>OS</td><td>Darwin 17.7.0 x86_64 i386 64bit</td></tr><tr><td>pandas</td><td>0.23.4</td></tr><tr><td>numpy</td><td>1.15.2</td></tr><tr><td>matplotlib</td><td>3.0.0</td></tr><tr><td>scipy</td><td>1.1.0</td></tr><tr><td colspan='2'>Mon Oct 01 09:10:30 2018 CST</td></tr></table>"
      ],
      "text/latex": [
       "\\begin{tabular}{|l|l|}\\hline\n",
       "{\\bf Software} & {\\bf Version} \\\\ \\hline\\hline\n",
       "Python & 3.6.5 64bit [GCC 4.2.1 Compatible Apple LLVM 6.1.0 (clang-602.0.53)] \\\\ \\hline\n",
       "IPython & 6.4.0 \\\\ \\hline\n",
       "OS & Darwin 17.7.0 x86\\_64 i386 64bit \\\\ \\hline\n",
       "pandas & 0.23.4 \\\\ \\hline\n",
       "numpy & 1.15.2 \\\\ \\hline\n",
       "matplotlib & 3.0.0 \\\\ \\hline\n",
       "scipy & 1.1.0 \\\\ \\hline\n",
       "\\hline \\multicolumn{2}{|l|}{Mon Oct 01 09:10:30 2018 CST} \\\\ \\hline\n",
       "\\end{tabular}\n"
      ],
      "text/plain": [
       "Software versions\n",
       "Python 3.6.5 64bit [GCC 4.2.1 Compatible Apple LLVM 6.1.0 (clang-602.0.53)]\n",
       "IPython 6.4.0\n",
       "OS Darwin 17.7.0 x86_64 i386 64bit\n",
       "pandas 0.23.4\n",
       "numpy 1.15.2\n",
       "matplotlib 3.0.0\n",
       "scipy 1.1.0\n",
       "Mon Oct 01 09:10:30 2018 CST"
      ]
     },
     "execution_count": 1,
     "metadata": {},
     "output_type": "execute_result"
    }
   ],
   "source": [
    "# -*- coding: UTF-8 -*-\n",
    "%autosave 120\n",
    "%load_ext version_information\n",
    "%version_information pandas, numpy, matplotlib, scipy"
   ]
  },
  {
   "cell_type": "code",
   "execution_count": 2,
   "metadata": {},
   "outputs": [
    {
     "name": "stdout",
     "output_type": "stream",
     "text": [
      "3.6.5 | packaged by conda-forge | (default, Apr  6 2018, 13:44:09) \n",
      "[GCC 4.2.1 Compatible Apple LLVM 6.1.0 (clang-602.0.53)] \n",
      " 0.23.4\n"
     ]
    }
   ],
   "source": [
    "import sys, pandas\n",
    "print(sys.version, '\\n', pandas.__version__)"
   ]
  },
  {
   "cell_type": "markdown",
   "metadata": {},
   "source": [
    "### 作者也為本章撰寫了以下的三個自定義函數，主要是執行肩並肩的列印、釋放記憶體空間以及建立工作區目錄。請讀者自行了解其Python代碼的寫法"
   ]
  },
  {
   "cell_type": "code",
   "execution_count": 3,
   "metadata": {},
   "outputs": [],
   "source": [
    "# 定義函數以便執行肩並肩的列印\n",
    "def side_by_side(*objs, **kwds):\n",
    "    from pandas.io.formats.printing import adjoin\n",
    "    space = kwds.get('space', 4)\n",
    "    reprs = [repr(obj).split('\\n') for obj in objs]\n",
    "    print (adjoin(space, *reprs))\n",
    "    print()\n",
    "    return"
   ]
  },
  {
   "cell_type": "code",
   "execution_count": 4,
   "metadata": {},
   "outputs": [],
   "source": [
    "# 釋放記憶體空間 - Free Memory\n",
    "# (1) 獲取物件及其大小的排序列表 \n",
    "# (2) 將刪除的物件所佔的記憶體釋放\n",
    "def memoryClean(dirList):\n",
    "    print('Total Process Memory Usages: %s' %psutil.Process().memory_info().rss)\n",
    "    print('Memory Usage Statistics: %s' %str(psutil.virtual_memory()))\n",
    "    reserved_vars = ['In', 'Out', 'exit', 'quit', 'ipython_vars', \n",
    "                     'side_by_side', 'memoryClean']\n",
    "    # Display Memory Usage\n",
    "    # sorted([(x, sys.getsizeof(globals().get(x))) for x in dir()\n",
    "            # if not x.startswith('_') and\n",
    "            # x not in sys.modules and\n",
    "            # x not in ipython_vars],key=lambda x: x[1], reverse=True)\n",
    "    for name in dirList:\n",
    "        if not name.startswith('_') and name not in sys.modules and name not in reserved_vars:\n",
    "            del globals()[name]\n",
    "    import gc\n",
    "    gc.collect()\n",
    "    %matplotlib inline"
   ]
  },
  {
   "cell_type": "code",
   "execution_count": 5,
   "metadata": {},
   "outputs": [],
   "source": [
    "# 建立目錄\n",
    "IODataDir = \"./Data_and_Images\"\n",
    "import os\n",
    "if not os.path.exists(IODataDir):\n",
    "    os.makedirs(IODataDir)"
   ]
  },
  {
   "cell_type": "markdown",
   "metadata": {},
   "source": [
    "# 本章目錄"
   ]
  },
  {
   "cell_type": "markdown",
   "metadata": {},
   "source": [
    "* [1. 迅速上手使用Python](#1.-迅速上手使用Python)\n",
    "    * [1.1 導入Python軟件包 - Importing Packages](#-1.1-導入Python軟件包---Importing-Packages)\n",
    "    * [1.2 Python的變數宣告 - Declaring Variables](#1.2-Python的變數宣告---Declaring Variables)\n",
    "    * [1.3 數據類型 - Data Types](#1.3-數據類型---Data Types)\n",
    "    * [1.4 當下命名空間內的物件名稱列表 - Local Namespace](#1.4-當下命名空間內的物件名稱列表---Local Namespace)\n",
    "* [2. Python的列表、元组以及字典 - List, Tuple, and Dictionary](#2.-Python的列表、元组以及字典---List,-Tuple,-and-Dictionary)\n",
    "    * [2.1 列表與元组 - Lists and Tuples](#2.1-列表與元组---Lists-and-Tuples)\n",
    "    * [2.2 字典 - Dictionaries](#2.2-字典---Dictionaries)\n",
    "* [3. Numpy陣列 - Arrays](#3.-Numpy陣列---Arrays)\n",
    "    * [3.1 在Python中創建純量(scalar)及數組(array)](#3.1-在Python中創建純量&#40;scalar&#41;及數組&#40;array&#41;)\n",
    "    * [3.2 向量的運算](#3.2-向量的運算)\n",
    "    * [3.3 矩陣的運算](#3.3-矩陣的運算)\n",
    "* [4. Pandas簡介(Introduction to Pandas)](#4.-Pandas簡介&#40;Introduction-to-Pandas&#41;)\n",
    "    * [4.1 數據集的載入](#4.1-數據集的載入)\n",
    "    * [4.2 DataFrames的構建](#4.2-DataFrames的構建)\n",
    "    * [4.3 電子商務網站的交易數據的清理](#4.3-電子商務網站的交易數據的清理)\n",
    "        * [4.3.1 遺漏的數據或不當的數據清理](#4.3.1-遺漏的數據或不當的數據清理)\n",
    "        * [4.3.2 加密後的行動電話號碼之轉換處理](#4.3.2-加密後的行動電話號碼之轉換處理)\n",
    "        * [4.3.3 轉換訂單日期的數據型態](#4.3.3-轉換訂單日期的數據型態)\n",
    "    * [4.4 數據的準備(Data Wrangling)](#4.4-數據的準備&#40;Data-Wrangling&#41;)\n",
    "        * [4.4.1 計算每個顧客其最近一次消費距今的天數(recency)](#4.4.1-計算每個顧客其最近一次消費距今的天數&#40;recency&#41;)\n",
    "        * [4.4.2 計算每個顧客消費的頻率並取得消費頻率的統計量描述(frequency)](#4.4.2-計算每個顧客消費的頻率並取得消費頻率的統計量描述&#40;frequency&#41;)\n",
    "        * [4.4.3 計算每個顧客消費總額的統計量描述(monetary)](#4.4.3-計算每個顧客消費總額的統計量描述&#40;monetary&#41;)\n",
    "        * [4.4.4 計算每個顧客消費於各商品的統計量描述](#4.4.4-計算每個顧客消費於各商品的統計量描述)\n",
    "    * [4.5 整合並構建處理後的數據表格以利後續數據分析](#4.5-整合並構建處理後的數據表格以利後續數據分析)\n",
    "\n",
    "        "
   ]
  },
  {
   "cell_type": "markdown",
   "metadata": {},
   "source": [
    "### 1. 迅速上手使用Python"
   ]
  },
  {
   "cell_type": "markdown",
   "metadata": {},
   "source": [
    "### 1.1 導入Python軟件包 - Importing Packages\n",
    "- #### Python的生態裡，有大量的軟件包大大的擴展了python的功能。 幾乎所有的那些軟件包都是開源的(open source)，不像stata或matlab這樣的軟件包，其中一些關鍵函數庫是專有的，而且可能要花費很多錢。 在許多的程式代碼中，我們通常會先將需要的軟件包載入記憶體中，以利在往後的程式碼中使用。\n",
    "- #### 軟件包的載入是使用import $*$ 將軟件包中所有的類(classes)和函數(functions)載入命名空間(namespace)。如果軟件包過大，我們可以藉由*from [name] import [class / object]* 指定所需要的類或物件。\n",
    "- #### 為了避免名稱衝突，我們可以重新命名import的內容。\n",
    "- #### numpy，pandas以及matplotlib.pyplot的共通的命名約定為numpy是np，pandas是pd，matplotlib.pyplot是plt。\n",
    "- #### %matplotlib inline的目的是將圖形輸出在Jupyter Notebook的環境裡，$%$這個符號是IPython核心所提供的魔術命令符號(magic)，詳細的使用方法與教學，可以參考[IPython文件庫](http://ipython.readthedocs.io/en/stable/interactive/magics.html)。"
   ]
  },
  {
   "cell_type": "code",
   "execution_count": 6,
   "metadata": {},
   "outputs": [],
   "source": [
    "# 將圖形輸出在Jupyter Notebook的環境裡\n",
    "%matplotlib inline\n",
    "from numpy import *\n",
    "from pandas import *\n",
    "\n",
    "import pandas as pd\n",
    "#載入所需要的 the Series and dataframe classes\n",
    "from pandas import Series, DataFrame\n",
    "\n",
    "# 共通的命名約定: numpy是np，pandas是pd，matplotlib.pyplot是plt。\n",
    "import numpy as np\n",
    "import pandas as pd\n",
    "import matplotlib.pyplot as plt"
   ]
  },
  {
   "cell_type": "markdown",
   "metadata": {},
   "source": [
    "### 打開一個新的筆記本，並在單元格中鍵入以下內容"
   ]
  },
  {
   "cell_type": "code",
   "execution_count": 7,
   "metadata": {},
   "outputs": [
    {
     "name": "stdout",
     "output_type": "stream",
     "text": [
      "Hello World\n"
     ]
    }
   ],
   "source": [
    "print(\"Hello World\") # Then Press Shift+Enter"
   ]
  },
  {
   "cell_type": "markdown",
   "metadata": {},
   "source": [
    "[回本章目錄](#本章目錄)"
   ]
  },
  {
   "cell_type": "markdown",
   "metadata": {},
   "source": [
    "### 1.2 Python的變數宣告 - Declaring Variables "
   ]
  },
  {
   "cell_type": "code",
   "execution_count": 8,
   "metadata": {},
   "outputs": [
    {
     "name": "stdout",
     "output_type": "stream",
     "text": [
      "12 16 24 4.0\n"
     ]
    }
   ],
   "source": [
    "alpha = 12\n",
    "beta = 16\n",
    "# 可以一次定義多個變量（這稱為解包）\n",
    "alpha2, beta2 = alpha*2, beta/4\n",
    "# 所有Python的變數都是物件\"Objects\"\n",
    "print(alpha, beta, alpha2, beta2)"
   ]
  },
  {
   "cell_type": "markdown",
   "metadata": {},
   "source": [
    "#### 其他內建的數學運算符包括+、-、**冪指數等。可以在[這找到更詳盡的細節](https://docs.python.org/3/reference/expressions.html#the-power-operator)。"
   ]
  },
  {
   "cell_type": "markdown",
   "metadata": {},
   "source": [
    "[回本章目錄](#本章目錄)"
   ]
  },
  {
   "cell_type": "markdown",
   "metadata": {},
   "source": [
    "### 1.3 數據類型 - Data Types"
   ]
  },
  {
   "cell_type": "code",
   "execution_count": 9,
   "metadata": {},
   "outputs": [
    {
     "name": "stdout",
     "output_type": "stream",
     "text": [
      "<class 'int'>    <class 'float'>    <class 'str'>\n",
      "\n"
     ]
    }
   ],
   "source": [
    "side_by_side(type(1), type(1.5), type('a'))"
   ]
  },
  {
   "cell_type": "markdown",
   "metadata": {},
   "source": [
    "[回本章目錄](#本章目錄)"
   ]
  },
  {
   "cell_type": "markdown",
   "metadata": {},
   "source": [
    "### 1.4 當下命名空間內的物件名稱列表 - Local Namespace\n",
    "#### 由於執行下列程式代碼將輸出大量的文字，讀者可以刪除$#$後，自行執行程式代碼"
   ]
  },
  {
   "cell_type": "code",
   "execution_count": 10,
   "metadata": {},
   "outputs": [],
   "source": [
    "# dir(np)"
   ]
  },
  {
   "cell_type": "code",
   "execution_count": 11,
   "metadata": {},
   "outputs": [],
   "source": [
    "# dir(['ipython_vars'])"
   ]
  },
  {
   "cell_type": "markdown",
   "metadata": {},
   "source": [
    "[回本章目錄](#本章目錄)"
   ]
  },
  {
   "cell_type": "markdown",
   "metadata": {},
   "source": [
    "### 2. Python的列表、元组以及字典 - List, Tuple, and Dictionary"
   ]
  },
  {
   "cell_type": "markdown",
   "metadata": {},
   "source": [
    "### 2.1 列表與元组 - Lists and Tuples\n",
    "#### 列表和元組可以當成普通的“數組”，它們能保存任意數量任意類型的Python物件。和數組一樣，通過從0開始的數字索引找到內含的元素，但是列表和元組可以存儲不同類型的對象。列表和元組有幾處重要的區別。列表元素用中括號( [ ])包裹，元素的個數及元素的值可以改變。元組元素用小括號(( ))包裹，不可以更改（儘管他們的內容可以）。元組可以看成是只能讀的列表。通過切片運算(sliceing)( [ ] 和 [ : ] )可以得到子集，這一點與字符串的使用方法一樣。"
   ]
  },
  {
   "cell_type": "code",
   "execution_count": 12,
   "metadata": {},
   "outputs": [
    {
     "name": "stdout",
     "output_type": "stream",
     "text": [
      "'Ma'    1    [1, 2, 3]    <class 'list'>    4    'robots'    ('robots', 77, 93)    <class 'tuple'>    4\n",
      "\n"
     ]
    }
   ],
   "source": [
    "myname = 'Marianne'\n",
    "aList = [1, 2, 3, 4]\n",
    "aTuple = ('robots', 77, 93, 'try')\n",
    "side_by_side(myname[0:2], aList[0], aList[:3], type(aList), len(aList),\n",
    "             aTuple[0], aTuple[0:3], type(aTuple), len(aTuple))"
   ]
  },
  {
   "cell_type": "code",
   "execution_count": 13,
   "metadata": {},
   "outputs": [
    {
     "name": "stdout",
     "output_type": "stream",
     "text": [
      "[1, 2, 3, 4, 5, 6, 7]    6    3\n",
      "\n"
     ]
    }
   ],
   "source": [
    "# 列表的串聯 concatenate lists\n",
    "anotherList = [5, 6, 7]\n",
    "side_by_side(aList+anotherList, (aList+anotherList)[5] , (aList+anotherList)[-5])"
   ]
  },
  {
   "cell_type": "markdown",
   "metadata": {},
   "source": [
    "[回本章目錄](#本章目錄)"
   ]
  },
  {
   "cell_type": "markdown",
   "metadata": {},
   "source": [
    "### 2.2 字典 - Dictionaries\n",
    "#### 字典是Python中用來查找東西的，具體而言，字典將鍵與值相關聯，亦就是字典由鍵與值(key-value)成對構成。幾乎所有類型的Python物件都可以用作鍵，不過一般還是以數字或者字符串最為常用。值可以是任意類型的Python物件，字典元素用大括號({})包裹。\n",
    "#### 每個鍵必須是唯一的，但值可以重複。"
   ]
  },
  {
   "cell_type": "code",
   "execution_count": 14,
   "metadata": {},
   "outputs": [
    {
     "name": "stdout",
     "output_type": "stream",
     "text": [
      "'round edible fruit'    <class 'dict'>    'attractive semi-precious gem'    5\n",
      "\n"
     ]
    }
   ],
   "source": [
    "meaning = {'apple': 'round edible fruit',\n",
    "           'computer': 'electronic device that drives people crazy',\n",
    "           'window': 'glass fitted in a wall',\n",
    "           'python': 'large tropical snake',\n",
    "           }\n",
    "# 加入元素\n",
    "meaning['ruby'] = 'attractive semi-precious gem'\n",
    "# 查找，取用，獲得一個元素\n",
    "side_by_side(meaning['apple'],type(meaning), meaning['ruby'], len(meaning)) # Look up, access, get an element"
   ]
  },
  {
   "cell_type": "code",
   "execution_count": 15,
   "metadata": {},
   "outputs": [
    {
     "data": {
      "text/plain": [
       "dict_values(['round edible fruit', 'electronic device that drives people crazy', 'glass fitted in a wall', 'large tropical snake', 'attractive semi-precious gem'])"
      ]
     },
     "execution_count": 15,
     "metadata": {},
     "output_type": "execute_result"
    }
   ],
   "source": [
    "# 按tab鍵可查看所有可用的方法\n",
    "meaning.values()"
   ]
  },
  {
   "cell_type": "code",
   "execution_count": 16,
   "metadata": {},
   "outputs": [
    {
     "name": "stdout",
     "output_type": "stream",
     "text": [
      "dict_keys(['apple', 'computer', 'window', 'python', 'ruby'])\n"
     ]
    }
   ],
   "source": [
    "print(meaning.keys())"
   ]
  },
  {
   "cell_type": "markdown",
   "metadata": {},
   "source": [
    "[回本章目錄](#本章目錄)"
   ]
  },
  {
   "cell_type": "markdown",
   "metadata": {},
   "source": [
    "### 3. Numpy陣列 - Arrays\n",
    "#### 在數值操作上而言，NumPy陣列/數組(array)比Python列表(list)更有效率。NumPy陣列是專屬且廣泛優化的一個物件。 換句話說，基於向量化概念(vectorization)而設計的NumPy代碼比同等功能的Python代碼需要更少的循環(loops)。如果我們回到高中數學，那麼我們應該能回憶起標量/純量(scalar)和向量/矢量(vector)的概念。例如數字12，是一個標量。當我們把12加上12，則我們正在執行標量加法運算(scalar addition)。我們可以集合起一組標量來建構一個向量，在Python編程語言中，我們稱它為一個一維的數組(one-dimentional array)。當然，這個概念可以擴展到更高的多維度層面，例如矩陣(matrix)。執行一個對兩個數組的運算，比如加法，可以簡化為一組標量的加法運算。在直接的Python編程代碼下，我們必須通過循環對一組標量的個別標做一一的加法運算，這是相當冗長的。反觀，在數學運算裡，我們是把兩個向量作為一個單獨的操作來處理。NumPy數組的運算也是這樣做的，並且使用優化後的低階C語言函數(routines)，讓這些基本操作達到更高效能。NumPy數組的運算在數據分析的使用上非常頻繁，在本節中，我們將詳細地介紹NumPy數組。"
   ]
  },
  {
   "cell_type": "markdown",
   "metadata": {},
   "source": [
    "### 3.1 在Python中創建純量(scalar)及數組(array)\n",
    "- #### 創建一個純量(scalar)其實很容易，如下所示：x = 12.5\n",
    "- #### 向量的創建和正規化向量(normalized vector):\n",
    "    - #### 一個向量的構造代表著方向以及長度。\n",
    "    - #### 一個向量的位置表示其從原點(0,0)的偏移量(offset)。\n",
    "    - #### 一個向量的方向以一個指向某個方向的箭頭來代表。\n",
    "    - #### 一個方向向量的一個特例是長度為1的向量。它被稱為正規化向量，簡稱法向量(normal vector)。\n",
    "    - #### 一個速度向量可以描述一個運動。代表在一個特定時間的範圍裡，向量移動的位置差異。"
   ]
  },
  {
   "cell_type": "code",
   "execution_count": 17,
   "metadata": {},
   "outputs": [
    {
     "name": "stdout",
     "output_type": "stream",
     "text": [
      "12.5\n"
     ]
    }
   ],
   "source": [
    "x = 12.5\n",
    "print(x)"
   ]
  },
  {
   "cell_type": "markdown",
   "metadata": {},
   "source": [
    "#### 每個元素在一個NumPy陣列/數組(array)裡，必須是相同的數據型態(data type)，而列表(list)則無此限制。在下面的例子中，annotherVector的元素都被自動成為字串的數據型態。"
   ]
  },
  {
   "cell_type": "code",
   "execution_count": 18,
   "metadata": {},
   "outputs": [
    {
     "name": "stdout",
     "output_type": "stream",
     "text": [
      "[1, 'Two', 3, 4, 5, 6, 7]    array([1, 2, 3, 4, 5, 6, 7])    array(['1', 'Two', '3', '4', '5', '6', '7'], dtype='<U21')\n",
      "\n"
     ]
    }
   ],
   "source": [
    "aList = [1,'Two',3,4,5,6,7]\n",
    "aVector = np.array([1,2,3,4,5,6,7])\n",
    "anotherVector = np.array([1,'Two',3,4,5,6,7])\n",
    "side_by_side(aList, aVector, anotherVector)"
   ]
  },
  {
   "cell_type": "markdown",
   "metadata": {},
   "source": [
    "#### 向量變量的賦值語句(assignment statement)代表的是對現有物件的新引用(reference)，實際上是都是指內存記憶體中的相同位置。如下所示：vectorC = vectorB。若要複製一個向量變量則使用copy()方法。"
   ]
  },
  {
   "cell_type": "code",
   "execution_count": 19,
   "metadata": {},
   "outputs": [
    {
     "name": "stdout",
     "output_type": "stream",
     "text": [
      "賦值語句的結果，他們的內容是一樣的： [123   6   5   4   3   2   1] [123   6   5   4   3   2   1]\n"
     ]
    }
   ],
   "source": [
    "# 創建一個反向內容的向量\n",
    "vectorB = aVector[::-1].copy()\n",
    "# 向量變量的賦值\n",
    "vectorC = vectorB\n",
    "vectorC[0]=123\n",
    "print('賦值語句的結果，他們的內容是一樣的：',vectorB, vectorC)"
   ]
  },
  {
   "cell_type": "code",
   "execution_count": 20,
   "metadata": {},
   "outputs": [
    {
     "name": "stdout",
     "output_type": "stream",
     "text": [
      "向量範數(長度)為: 11.8322\n",
      "正規化向量為： [0.085 0.169 0.254 0.338 0.423 0.507 0.592]\n",
      "正規化向量範數(長度)為： 1.0\n"
     ]
    }
   ],
   "source": [
    "# linalg代表線性代數(linear algebra); norm則表示範數\n",
    "np.linalg.norm(aVector)\n",
    "print('向量範數(長度)為: %3.4f' %np.linalg.norm(aVector))\n",
    "np.set_printoptions(precision=3, suppress=True)\n",
    "print('正規化向量為：', aVector/np.linalg.norm(aVector))\n",
    "print('正規化向量範數(長度)為：', np.linalg.norm(aVector/np.linalg.norm(aVector)))"
   ]
  },
  {
   "cell_type": "markdown",
   "metadata": {},
   "source": [
    "### 行向量與列向量(Row and Column Vector)\n",
    "- #### 在線性代數中，列向量(column vector)是一個 m × 1 矩陣，m 為任意正整數。行向量(row column)是一個1×m矩陣，m為任意正整數。例如下圖左側為列向量而下圖右側行向量，行向量的轉置(transpose)是列向量。我們將使用shape, reshape以及T或transporse的方法(method)來展現。\n",
    "- #### $$\\vec{x} = \\begin{bmatrix} x_1 \\\\ x_2 \\\\ \\vdots \\\\ x_m \\end{bmatrix} \\qquad \\vec{x} = \\begin{bmatrix} x_1 \\ x_2 \\dots \\ x_m \\end{bmatrix}$$"
   ]
  },
  {
   "cell_type": "code",
   "execution_count": 21,
   "metadata": {},
   "outputs": [
    {
     "name": "stdout",
     "output_type": "stream",
     "text": [
      "(7,)    array([1, 2, 3, 4, 5, 6, 7])    (7,)    (7,)\n",
      "\n"
     ]
    }
   ],
   "source": [
    "side_by_side(aVector.shape, aVector.T, aVector.T.shape, aVector.transpose().shape)"
   ]
  },
  {
   "cell_type": "markdown",
   "metadata": {},
   "source": [
    "#### 我們發覺，上面的程式碼並沒有轉置的效果，那是因為vector是一個一維的陣列/數組(1-D array)。我們必須使用reshape來將它定義成二維的陣列(2-D Array)。程式代碼如下："
   ]
  },
  {
   "cell_type": "code",
   "execution_count": 22,
   "metadata": {},
   "outputs": [
    {
     "name": "stdout",
     "output_type": "stream",
     "text": [
      "array([[1, 2, 3, 4, 5, 6, 7]])    array([[1],     array([[1], \n",
      "                                         [2],            [2], \n",
      "                                         [3],            [3], \n",
      "                                         [4],            [4], \n",
      "                                         [5],            [5], \n",
      "                                         [6],            [6], \n",
      "                                         [7]])           [7]])\n",
      "\n"
     ]
    }
   ],
   "source": [
    "oneByseven = aVector.reshape(1,7)\n",
    "sevenByone = aVector.reshape(7,1)\n",
    "oneBysevenT = oneByseven.transpose()\n",
    "side_by_side(oneByseven, sevenByone, oneBysevenT)"
   ]
  },
  {
   "cell_type": "markdown",
   "metadata": {},
   "source": [
    "[回本章目錄](#本章目錄)"
   ]
  },
  {
   "cell_type": "markdown",
   "metadata": {},
   "source": [
    "### 3.2 向量的運算\n",
    "#### 向量的加法/減法"
   ]
  },
  {
   "cell_type": "code",
   "execution_count": 23,
   "metadata": {},
   "outputs": [
    {
     "name": "stdout",
     "output_type": "stream",
     "text": [
      "array([1, 2, 3, 4, 5, 6, 7])    array([123,   6,   5,   4,   3,   2,   1])\n",
      "\n",
      "array([124,   8,   8,   8,   8,   8,   8])    array([ 6,  4,  2,  0, -2, -4, -6])\n",
      "\n"
     ]
    }
   ],
   "source": [
    "side_by_side(aVector, vectorB)\n",
    "side_by_side(aVector + vectorB, aVector[::-1] - aVector)"
   ]
  },
  {
   "cell_type": "markdown",
   "metadata": {},
   "source": [
    "#### 純量與點積(scalar and dot product)\n",
    "- #### 點積是兩個向量的運算，它的運算結果是一個純量。 這個數字可以代表這兩個向量的相近度。\n",
    "- #### 點積可以看成相同維度之間的相互作用"
   ]
  },
  {
   "cell_type": "code",
   "execution_count": 24,
   "metadata": {},
   "outputs": [
    {
     "name": "stdout",
     "output_type": "stream",
     "text": [
      "array([1, 2, 3, 4, 5, 6, 7])    array([7, 6, 5, 4, 3, 2, 1])    84\n",
      "\n",
      "84    array([ 7, 12, 15, 16, 15, 12,  7])    84\n",
      "\n"
     ]
    }
   ],
   "source": [
    "vectorB = aVector[::-1].copy()\n",
    "side_by_side(aVector, vectorB, np.dot(aVector, vectorB))\n",
    "side_by_side(np.dot(aVector,vectorB), aVector*vectorB, (aVector*vectorB).sum())"
   ]
  },
  {
   "cell_type": "markdown",
   "metadata": {},
   "source": [
    "#### 叉積的運算\n",
    "- #### 叉積又稱外積(cross product)是一種在向量空間中向量的二元運算。與點積不同，它的運算結果是一個向量而不是一個純量，這個產生的向量垂直於前兩個向量，長度是該兩個長度的平均值。在numpy中，$*$代表是乘積與叉積(np.cross)是不同的運算。\n",
    "- #### 以下列的例子來說明叉積的運算，運算結果的第一個元素是-12，它是$\\begin{bmatrix} 6 & 7 \\\\ 6 & 5 \\end{bmatrix}$的行列式值(determinant)。運算結果的第二個元素是-24，它是$\\begin{bmatrix} 5 & 7 \\\\ 5 & 5 \\end{bmatrix}$的行列式值。同理，運算結果的第三個元素是-12，它是$\\begin{bmatrix} 5 & 6 \\\\ 7 & 6 \\end{bmatrix}$的行列式值。我們可應用np.linalg.det()方法來運算與驗證。"
   ]
  },
  {
   "cell_type": "code",
   "execution_count": 25,
   "metadata": {},
   "outputs": [
    {
     "name": "stdout",
     "output_type": "stream",
     "text": [
      "106    array([-12,  24, -12])    29.393876913398138\n",
      "\n",
      "array([[6, 7],     array([[5, 7],     array([[5, 6], \n",
      "       [6, 5]])           [7, 5]])           [7, 6]])\n",
      "\n",
      "-12.0    -23.999999999999993    -12.000000000000005\n",
      "\n"
     ]
    }
   ],
   "source": [
    "# 以3-D array為例\n",
    "vectorA, vectorB = np.array([5, 6, 7]), np.array([7, 6, 5])\n",
    "dimension1 = np.array([vectorA[1:3],vectorB[1:3]])\n",
    "dimension2 = np.array([vectorA[0:3:2],vectorB[0:3:2]])\n",
    "dimension3 = np.array([vectorA[0:2],vectorB[0:2]])\n",
    "side_by_side(np.dot(vectorA, vectorB), np.cross(vectorA,vectorB), np.linalg.norm(np.cross(vectorA,vectorB)))\n",
    "side_by_side(dimension1, dimension2, dimension3)\n",
    "side_by_side(np.linalg.det(dimension1), np.linalg.det(dimension2), np.linalg.det(dimension3))"
   ]
  },
  {
   "cell_type": "markdown",
   "metadata": {},
   "source": [
    "#### 聚合功能(aggregation functions)\n",
    "- #### 通常當遇到大量的數據時，第一步是對有疑問的數據，計算它的匯總統計量(summary statistics)。 最常見的匯總統計量是平均值(mean)和標準差(standard deviation)。當然，其他的匯總統計量也是有用的，例如：總和(sum)，中位數(median)，最小值(min)和最大值(max)，分位數(quantiles)等等。NumPy具有用於處理陣列的快速內置聚合函數; 我們將在這裡討論並展示其中的一些。[按此連結](https://docs.scipy.org/doc/numpy-1.13.0/reference/routines.statistics.html)可到官方參考文件"
   ]
  },
  {
   "cell_type": "code",
   "execution_count": 26,
   "metadata": {},
   "outputs": [
    {
     "name": "stdout",
     "output_type": "stream",
     "text": [
      "array([5, 6, 7])    6.0    0.816496580927726    18\n",
      "\n"
     ]
    }
   ],
   "source": [
    "side_by_side(vectorA, vectorA.mean(), vectorA.std(), vectorA.sum())"
   ]
  },
  {
   "cell_type": "markdown",
   "metadata": {},
   "source": [
    "#### 向量的距離量測(Distance Measure)\n",
    "- #### 向量距離量測的方式很多，我們以歐幾里得距離為例。在數據分析上，一個記錄值(record)可用一個向量來代表。因此，兩個向量的距離量測，通常代表該兩個記錄值的相似程度。距離量測值越小，代表越相似。"
   ]
  },
  {
   "cell_type": "code",
   "execution_count": 27,
   "metadata": {},
   "outputs": [
    {
     "name": "stdout",
     "output_type": "stream",
     "text": [
      "2.8284271247461903    2.8284271247461903\n",
      "\n"
     ]
    }
   ],
   "source": [
    "import scipy.spatial as sps\n",
    "side_by_side(sps.distance.euclidean(vectorA, vectorB), np.linalg.norm(vectorA-vectorB))"
   ]
  },
  {
   "cell_type": "markdown",
   "metadata": {},
   "source": [
    "#### 多維度陣列(multidimensional array)的創建與運算"
   ]
  },
  {
   "cell_type": "code",
   "execution_count": 28,
   "metadata": {},
   "outputs": [
    {
     "name": "stdout",
     "output_type": "stream",
     "text": [
      "array([[1, 2, 3],     array([[1.082, 1.066],     <class 'numpy.ndarray'>\n",
      "       [4, 5, 6]])           [0.365, 2.946]])                           \n",
      "\n",
      "'維度:2'    dtype('int64')    dtype('float64')\n",
      "\n",
      "array([1, 2, 3])    'shape:(2, 3)'    6    6    array([4, 5])\n",
      "\n"
     ]
    }
   ],
   "source": [
    "a2DArray = np.array([[1, 2, 3], [4, 5, 6]])\n",
    "aRand2DArray = np.array((np.random.rand(2, 2)) * 3)\n",
    "side_by_side(a2DArray, aRand2DArray, type(a2DArray))\n",
    "side_by_side('維度:'+str(np.ndim(a2DArray)), a2DArray.dtype, aRand2DArray.dtype)\n",
    "side_by_side(a2DArray[0], 'shape:'+str(a2DArray.shape), a2DArray[1, 2], a2DArray[1][2], a2DArray[1][:2])"
   ]
  },
  {
   "cell_type": "markdown",
   "metadata": {},
   "source": [
    "#### 陣列的裁切和索引(slicing and indexing)\n",
    "- #### 一維NumPy陣列(array)的裁切就像標準Python列表(list)的裁切一樣。 在下面的例子中，我們定義一個包含數字0,1,2....到7的陣列。我們展示如何從索引3到9中選擇陣列的一部分，也就是提取陣列第3到第8的元素。我們也展現如何從索引0開始，增量為3，直到索引8為止的元素。最後，我們使用負的指數來反轉陣列。"
   ]
  },
  {
   "cell_type": "code",
   "execution_count": 29,
   "metadata": {},
   "outputs": [
    {
     "name": "stdout",
     "output_type": "stream",
     "text": [
      "array([0, 1, 2, 3, 4, 5, 6, 7])    array([3, 4, 5, 6])    array([0, 3, 6])    array([7, 6, 5, 4, 3, 2, 1, 0])\n",
      "\n"
     ]
    }
   ],
   "source": [
    "anArray = np.arange(8)\n",
    "side_by_side(anArray, anArray[3:7], anArray[:7:3], anArray[::-1])"
   ]
  },
  {
   "cell_type": "markdown",
   "metadata": {},
   "source": [
    "#### 改變陣列大小形狀(shape)\n",
    "- #### 改變陣列大小形狀的方式有ravel(), flatten(), shape(), transpose()以及resize()，他們最大的差異在於是否替換了運算後的陣列。下面例子說明了它們間的差異。"
   ]
  },
  {
   "cell_type": "code",
   "execution_count": 30,
   "metadata": {},
   "outputs": [
    {
     "name": "stdout",
     "output_type": "stream",
     "text": [
      "array([ 0,  1,  2,  3,  4,  5,  6,  7,  8,  9, 10, 11])    array([[[ 0,  1,  2],  \n",
      "                                                                   [ 3,  4,  5]], \n",
      "                                                                                  \n",
      "                                                                  [[ 6,  7,  8],  \n",
      "                                                                   [ 9, 10, 11]]])\n",
      "\n",
      "array([ 0,  1,  2,  3,  4,  5,  6,  7,  8,  9, 10, 11])    array([[[ 0,  1,  2],  \n",
      "                                                                   [ 3,  4,  5]], \n",
      "                                                                                  \n",
      "                                                                  [[ 6,  7,  8],  \n",
      "                                                                   [ 9, 10, 11]]])\n",
      "\n"
     ]
    }
   ],
   "source": [
    "aNdimArray = np.arange(12).reshape(2,2,3)\n",
    "# 沒有替換陣列\n",
    "side_by_side(aNdimArray.ravel(), aNdimArray)\n",
    "side_by_side(aNdimArray.flatten(), aNdimArray)"
   ]
  },
  {
   "cell_type": "code",
   "execution_count": 31,
   "metadata": {},
   "outputs": [
    {
     "data": {
      "text/plain": [
       "array([[ 0,  1,  2,  3],\n",
       "       [ 4,  5,  6,  7],\n",
       "       [ 8,  9, 10, 11]])"
      ]
     },
     "execution_count": 31,
     "metadata": {},
     "output_type": "execute_result"
    }
   ],
   "source": [
    "# 替換了陣列\n",
    "aNdimArray.shape = (3,4)\n",
    "aNdimArray"
   ]
  },
  {
   "cell_type": "code",
   "execution_count": 32,
   "metadata": {},
   "outputs": [
    {
     "name": "stdout",
     "output_type": "stream",
     "text": [
      "array([[ 0,  4,  8],     array([[ 0,  1,  2,  3], \n",
      "       [ 1,  5,  9],            [ 4,  5,  6,  7], \n",
      "       [ 2,  6, 10],            [ 8,  9, 10, 11]])\n",
      "       [ 3,  7, 11]])                             \n",
      "\n"
     ]
    }
   ],
   "source": [
    "# 沒有替換陣列\n",
    "side_by_side(aNdimArray.transpose(), aNdimArray)"
   ]
  },
  {
   "cell_type": "code",
   "execution_count": 33,
   "metadata": {},
   "outputs": [
    {
     "data": {
      "text/plain": [
       "array([[ 0,  1,  2,  3,  4,  5],\n",
       "       [ 6,  7,  8,  9, 10, 11]])"
      ]
     },
     "execution_count": 33,
     "metadata": {},
     "output_type": "execute_result"
    }
   ],
   "source": [
    "# 替換了陣列\n",
    "aNdimArray.resize((2,6))\n",
    "aNdimArray"
   ]
  },
  {
   "cell_type": "markdown",
   "metadata": {},
   "source": [
    "#### 陣列的堆疊運算\n",
    "- #### 陣列可以依水平、縱深或垂直來做堆疊。 我們可以使用hstack(), dstack(), vstack()以及concatenate()等函數來達到我們的目的。"
   ]
  },
  {
   "cell_type": "code",
   "execution_count": 34,
   "metadata": {},
   "outputs": [
    {
     "name": "stdout",
     "output_type": "stream",
     "text": [
      "array([[0, 1, 2],     array([[ 0,  2,  4], \n",
      "       [3, 4, 5],            [ 6,  8, 10], \n",
      "       [6, 7, 8]])           [12, 14, 16]])\n",
      "\n"
     ]
    }
   ],
   "source": [
    "aNdimArray = np.arange(9).reshape(3,3)\n",
    "bNdimArray = aNdimArray * 2\n",
    "side_by_side(aNdimArray, bNdimArray)"
   ]
  },
  {
   "cell_type": "code",
   "execution_count": 35,
   "metadata": {},
   "outputs": [
    {
     "name": "stdout",
     "output_type": "stream",
     "text": [
      "array([[ 0,  1,  2,  0,  2,  4],     array([[ 0,  1,  2,  0,  2,  4], \n",
      "       [ 3,  4,  5,  6,  8, 10],            [ 3,  4,  5,  6,  8, 10], \n",
      "       [ 6,  7,  8, 12, 14, 16]])           [ 6,  7,  8, 12, 14, 16]])\n",
      "\n"
     ]
    }
   ],
   "source": [
    "# 水平堆疊，使用hstack()或使用concatenate()函數達到水平堆疊\n",
    "side_by_side(np.hstack((aNdimArray, bNdimArray)), np.concatenate((aNdimArray, bNdimArray), axis=1))"
   ]
  },
  {
   "cell_type": "code",
   "execution_count": 36,
   "metadata": {},
   "outputs": [
    {
     "name": "stdout",
     "output_type": "stream",
     "text": [
      "array([[ 0,  1,  2],     array([[ 0,  1,  2], \n",
      "       [ 3,  4,  5],            [ 3,  4,  5], \n",
      "       [ 6,  7,  8],            [ 6,  7,  8], \n",
      "       [ 0,  2,  4],            [ 0,  2,  4], \n",
      "       [ 6,  8, 10],            [ 6,  8, 10], \n",
      "       [12, 14, 16]])           [12, 14, 16]])\n",
      "\n"
     ]
    }
   ],
   "source": [
    "# 垂直堆疊，使用vstack()或使用concatenate()函數達到垂直堆疊\n",
    "side_by_side(np.vstack((aNdimArray, bNdimArray)), np.concatenate((aNdimArray, bNdimArray), axis=0))"
   ]
  },
  {
   "cell_type": "code",
   "execution_count": 37,
   "metadata": {},
   "outputs": [
    {
     "data": {
      "text/plain": [
       "array([[[ 0,  0],\n",
       "        [ 1,  2],\n",
       "        [ 2,  4]],\n",
       "\n",
       "       [[ 3,  6],\n",
       "        [ 4,  8],\n",
       "        [ 5, 10]],\n",
       "\n",
       "       [[ 6, 12],\n",
       "        [ 7, 14],\n",
       "        [ 8, 16]]])"
      ]
     },
     "execution_count": 37,
     "metadata": {},
     "output_type": "execute_result"
    }
   ],
   "source": [
    "# 縱深堆疊，使用dstack()達到縱深堆疊\n",
    "np.dstack((aNdimArray, bNdimArray))"
   ]
  },
  {
   "cell_type": "markdown",
   "metadata": {},
   "source": [
    "[回本章目錄](#本章目錄)"
   ]
  },
  {
   "cell_type": "markdown",
   "metadata": {},
   "source": [
    "### 3.3 矩陣的運算\n",
    "#### 矩陣(matrix)與向量(vector)及純量(scalar)的數學上定義，可以下列來代表：\n",
    "- #### 1. 純量(scalar): $\\mathbb{R}$，維度是0。\n",
    "- #### 2. 向量(vector): $\\mathbb{R}^n$，維度是1。\n",
    "- #### 3. 矩陣(matrix): $\\mathbb{R}^n \\times \\mathbb{R}^m$，維度是2。\n",
    "- #### 其中$\\mathbb{R}$代表實數。\n",
    "- #### 維度(dimension)，我們也稱它為秩(rank)。\n",
    "\n",
    "#### 讓我們以下面代碼來創建一個純量、向量以及矩陣，並展示這個概念"
   ]
  },
  {
   "cell_type": "code",
   "execution_count": 38,
   "metadata": {},
   "outputs": [
    {
     "name": "stdout",
     "output_type": "stream",
     "text": [
      "'向量表示:'    10    array(10)    [11, 12, 13]    matrix([[11, 12, 13],     matrix([[11, 12, 13], \n",
      "                                                      [14, 15, 16]])            [14, 15, 16]])\n",
      "\n",
      "'數量型態:'    <class 'int'>    <class 'numpy.ndarray'>    <class 'list'>    <class 'numpy.matrixlib.defmatrix.matrix'>    <class 'numpy.matrixlib.defmatrix.matrix'>\n",
      "\n",
      "'維度或秩:'    0    1    2\n",
      "\n"
     ]
    }
   ],
   "source": [
    "aScalar = 10 # 這是一個整數\n",
    "aVector = [11,12,13] # 這是一個list\n",
    "bVector = [14,15,16] # 這是一個list\n",
    "aMatrix = np.matrix([aVector, bVector])\n",
    "side_by_side('向量表示:', aScalar, np.array(10), aVector, aMatrix, np.matrix(\"11,12,13;14,15,16\"))\n",
    "side_by_side('數量型態:', type(aScalar), type(np.array(10)), type(aVector), \n",
    "             type(aMatrix), type(np.matrix(\"11,12,13;14,15,16\")))\n",
    "side_by_side('維度或秩:', np.ndim(aScalar), np.ndim(aVector), np.ndim(aMatrix))"
   ]
  },
  {
   "cell_type": "markdown",
   "metadata": {},
   "source": [
    "#### 雖然，在本章節中，我們對矩陣並沒有太多的著墨，但是，我們將在數據預測分析之線性迴歸(linear regression)章節中，詳細地討論矩陣的運算。以矩陣方式來儲存數據的應用是非常廣泛的，例如，影像(image)、影片(video)、聲效(wave)及訊號(signal)的應用。以下我們給讀者一些應用的例子，或許讀著現在對一些專有名詞或應用會有陌生的感覺，這些將會在未來的章節中，陸續為讀者解答。"
   ]
  },
  {
   "cell_type": "markdown",
   "metadata": {},
   "source": [
    "#### 下列的程式代碼展示了一個影像的簡易運算例子。變數im是個numpy.array，它儲存著一幅1024 x 768大小的彩色浣熊臉部圖像。因此，該浣熊臉部圖像是三維的(第三維是指色彩)，大小為3(RGB三個色度)。我們使用matplotlib.pyplot的軟件包來展現圖像。"
   ]
  },
  {
   "cell_type": "code",
   "execution_count": 39,
   "metadata": {},
   "outputs": [
    {
     "name": "stdout",
     "output_type": "stream",
     "text": [
      "\"影像數據型態: <class 'numpy.ndarray'>\"    '影像數據大小: (768, 1024, 3)'    '影像維度: 3'\n",
      "\n",
      "'影像數據在位置(400, 600)的RGB色彩值: [176 187 157]'    'G在位置(400, 600)的值: 187'\n",
      "\n"
     ]
    },
    {
     "data": {
      "image/png": "[encoded data removed]",
      "text/plain": [
       "<Figure size 432x288 with 1 Axes>"
      ]
     },
     "metadata": {},
     "output_type": "display_data"
    }
   ],
   "source": [
    "from scipy import misc\n",
    "im = misc.face()     # a sample image in misc library\n",
    "side_by_side('影像數據型態: '+str(type(im)), '影像數據大小: '+str(im.shape), '影像維度: '+ str(np.ndim(im)))\n",
    "side_by_side('影像數據在位置(400, 600)的RGB色彩值: '+str(im[400, 600,:]), 'G在位置(400, 600)的值: '+str(im[400, 600,1]))\n",
    "# plt.figure(1, figsize = (6, 4)) # 可以試著改變大小\n",
    "plt.imshow(im);"
   ]
  },
  {
   "cell_type": "markdown",
   "metadata": {},
   "source": [
    "#### 下列的程式代碼展示了一個聲效的簡易運算例子。聲效檔案名是'smashingbaby.wav'，置於我們的工作目錄區。我們使用scipy來讀取聲效檔案，sampleRate是每秒傳送的音頻樣本數，以Hz或kHz(1 kHz為1000 Hz)為單位。wavData是個numpy.array。我們用matplotlib來繪製聲效檔案數據。在Jupyter Notebook裡，我們可以藉由IPython.display.Audio來播放。"
   ]
  },
  {
   "cell_type": "code",
   "execution_count": 40,
   "metadata": {},
   "outputs": [
    {
     "name": "stdout",
     "output_type": "stream",
     "text": [
      "'頻率: 22050'    \"聲效數據型態: <class 'numpy.ndarray'>\"\n",
      "\n"
     ]
    },
    {
     "data": {
      "text/html": [
       "\n",
       "                <audio controls=\"controls\" >\n",
       "                    <source src=\"data:audio/x-wav;base64,UklGRnKqAABXQVZFZm10IBIAAAABAAEAIlYAACJWAAABAAgAAABmYWN0BAAAAECqAABkYXRhQKoAAICAgICAgICAgICAgICAgICAgICAgICAgICAgICAgICAgICAgICAgICAgICAgICAgICAgICAgICAgICAgICAgICAgICAgICAgICAgICAgICAgICAgICAgICAgICAgICAgICAgICAgICAgICAgICAgICAgICAgICAgICAgICAgICAgICAgICAgICAgICAgICAgICAgICAgICAgICAgICAgICAgICAgICAgICAgICAgICAgICAgICAgICAgICAgICAgICAgICAgICAgICAgICAgICAgICAgICAgICAgICAgICAgICAgICAgICAgICAgICAgICAgICAgICAgICAgICAgICAgICAgICAgICAgICAgICAgICAgICAgICAgICAgICAgICAgICAgICAgICAgICAgICAgICAgICAgICAgICAgICAgICAgICAgICAgICAgICAgICAgICAgICAgICAgICAgICAgICAgICAgICAgICAgICAgICAgICAgICAgICAgICAgICAgICAgICAgICAgICAgICAgICAgICAgICAgICAgICAgICAgICAgICAgICAgICAgICAgICAgICAgICAgICAgICAgICAgICAgICAgICAgICAgICAgICAgICAgICAgICAgICAgICAgICAgICAgICAgICAgICAgICAgICAgICAgICAgICAgICAgICAgICAgICAgICAgICAgICAgICAgICAgICAgICAgICAgICAgICAgICAgICAgICAgICAgICAgICAgICAgICAgICAgICAgICAgICAgICAgICAgICAgICAgICAgICAgICAgICAgICAgICAgICAgICAgICAgICAgICAgICAgICAgICAgICAgICAgICAgICAgICAgICAgICAgICAgICAgICAgICAgICAgICAgICAgICAgICAgICAgICAgICAgICAgICAgICAgICAgICAgICAgICAgICAgICAgICAgICAgICAgICAgICAgICAgICAgICAgICAgICAgICAgICAgICAgICAgICAgICAgICAgICAgICAgICAgICAgICAgICAgICAgICAgICAgICAgICAgICAgICAgICAgICAgICAgICAgICAgICAgICAgICAgICAgICAgICAgICAgICAgICAgICAgICAgICAgICAgICAgICAgICAgICAgICAgICAgICAgICAgICAgICAgICAgICAgICAgICAgICAgICAgICAgICAgICAgICAgICAgICAgICAgICAgICAgICAgICAgICAgICAgICAgICAgICAgICAgICAgICAgICAgICAgICAgICAgICAgICAgICAgICAgICAgICAgICAgICAgICAgICAgICAgICAgICAgICAgICAgICAgICAgICAgICAgICAgICAgICAgICAgICAgICAgICAgICAgICAgICAgICAgICAgICAgICAgICAgICAgICAgICAgICAgICAgICAgICAgICAgICAgICAgICAgICAgICAgICAgICAgICAgICAgICAgICAgICAgICAgICAgICAgICAgICAgICAgICAgICAgICAgICAgICAgICAgICAgICAgICAgICAgICAgICAgICAgICAgICAgICAgICAgICAgICAgICAgICAgICAgICAgICAgICAgICAgICAgICAgICAgICAgICAgICAgICAgICAgICAgICAgICAgICAgICAgICAgICAgICAgICAgICAgICAgICAgICAgICAgICAgICAgICAgICAgICAgICAgICAgICAgICAgICAgICAgICAgICAgICAgICAgICAgICAgICAgICAgICAgICAgICAgICAgICAgICAgICAgICAgICAgICAgICAgICAgICAgICAgICAgICAgICAgICAgICAgICAgICAgICAgICAgICAgICAgICAgICAgICAgICAgICAgICAgICAgICAgICAgICAgICAgICAgICAgICAgICAgICAgICAgICAgICAgICAgICAgICAgICAgICAgICAgICAgICAgICAgICAgICAgICAgICAgICAgICAgICAgICAgICAgICAgICAgICAgICAgICAgICAgICAgICAgICAgICAgICAgICAgICAgICAgICAgICAgICAgICAgICAgICAgICAgICAgICAgICAgICAgICAgICAgICAgICAgICAgICAgICAgICAgICAgICAgICAgICAgICAgICAgICAgICAgICAgICAgICAgICAgICAgICAgICAgICAgICAgICAgICAgICAgICAgICAgICAgICAgICAgICAgICAgICAgICAgICAgICAgICAgICAgICAgICAgICAgICAgICAgICAgICAgICAgICAgICAgICAgICAgICAgICAgICAgICAgICAgICAgICAgICAgICAgICAgICAgICAgICAgICAgICAgICAgICAgICAgICAgICAgICAgICAgICAgICAgICAgICAgICAgICAgICAgICAgICAgICAgICAgICAgICAgICAgICAgICAgICAgICAgICAgICAgICAgICAgICAgICAgICAgICAgICAgICAgICAgICAgICAgICAgICAgICAgICAgICAgICAgICAgICAgICAgICAgICAgICAgICAgICAgICAgICAgICAgICAgICAgICAgICAgICAgICAgICAgICAgICAgICAgICAgICAgICAgICAgICAgICAgICAgICAgICAgICAgICAgICAgICAgICAgICAgICAgICAgICAgICAgICAgICAgICAgICAgICAgICAgICAgICAgICAgICAgICAgICAgICAgICAgICAgICAgICAgICAgICAgICAgICAgICAgICAgICAgICAgICAgICAgICAgICAgICAgICAgICAgICAgICAgICAgICAgICAgICAgICAgICAgICAgICAgICAgICAgICAgICAgICAgICAgICAgICAgICAgICAgICAgICAgICAgICAgICAgICAgICAgICAgICAgICAgICAgICAgICAgICAgICAgICAgICAgICAgICAgICAgICAgICAgICAgICAgICAgICAgICAgICAgICAgICAgICAgICAgICAgICAgICAgICAgICAgICAgICAgICAgICAgICAgICAgICAgICAgICAgICAgICAgICAgICAgICAgICAgICAgICAgICAgICAgICAgICAgICAgICAgICAgICAgICAgICAgICAgICAgICAgICAgICAgICAgICAgICAgICAgICAgICAgICAgICAgICAgICAgICAgICAgICAgICAgICAgICAgICAgICAgICAgICAgICAgICAgICAgICAgICAgICAgICAgICAgICAgICAgICAgICAgICAgICAgICAgICAgICAgICAgICAgICAgICAgICAgICAgICAgICAgICAgICAgICAgICAgICAgICAgICAgICAgICAgICAgICAgICAgICAgICAgICAgICAgICAgICAgICAgICAgICAgICAgICAgICAgICAgICAgICAgICAgICAgICAgICAgICAgICAgICAgICAgICAgICAgICAgICAgICAgICAgICAgICAgICAgICAgICAgICAgICAgICAgICAgICAgICAgICAgICAgICAgICAgICAgICAgICAgICAgICAgICAgICAgICAgICAgICAgICAgICAgICAgICAgICAgICAgICAgICAgICAgICAgICAgICAgICAgICAgICAgICAgICAgICAgICAgICAgICAgICAgICAgICAgICAgICAgICAgICAgICAgICAgICAgICAgICAgICAgICAgICAgICAgICAgICAgICAgICAgICAgICAgICAgICAgICAgICAgICAgICAgICAgICAgICAgICAgICAgICAgICAgICAgICAgICAgICAgICAgICAgICAgICAgICAgICAgICAgICAgICAgICAgICAgICAgICAgICAgICAgICAgICAgICAgICAgICAgICAgICAgICAgICAgICAgICAgICAgICAgICAgICAgICAgICAgICAgICAgICAgICAgICAgICAgICAgICAgICAgICAgICAgICAgICAgICAgICAgICAgICAgICAgICAgICAgICAgICAgICAgICAgICAgICAgICAgICAgICAgICAgICAgICAgICAgICAgICAgICAgICAgICAgICAgICAgICAgICAgICAgICAgICAgICAgICAgICAgICAgICAgICAgICAgICAgICAgICAgICAgICAgICAgICAgICAgICAgICAgICAgICAgICAgICAgICAgICAgICAgICAgICAgICAgICAgICAgICAgICAgICAgICAgICAgICAgICAgICAgICAgICAgICAgICAgICAgICAgICAgICAgICAgICAgICAgICAgICAgICAgICAgICAgICAgICAgICAgICAgICAgICAgICAgICAgICAgICAgICAgICAgICAgICAgICAgICAgICAgICAgICAgICAgICAgICAgICAgICAgICAgICAgICAgICAgICAgICAgICAgICAgICAgICAgICAgICAgICAgICAgICAgICAgICAgICAgICAgICAgICAgICAgICAgICAgICAgICAgICAgICAgICAgICAgICAgICAgICAgICAgICAgICAgICAgICAgICAgICAgICAgICAgICAgICAgICAgICAgICAgICAgICAgICAgICAgICAgICAgICAgICAgICAgICAgICAgICAgICAgICAgICAgICAgICAgICAgICAgICAgICAgICAgICAgICAgICAgICAgICAgICAgICAgICAgICAgICAgICAgICAgICAgICAgICAgICAgICAgICAgICAgICAgICAgICAgICAgICAgICAgICAgICAgICAgICAgICAgICAgICAgICAgICAgICAgICAgICAgICAgICAgICAgICAgICAgICAgICAgICAgICAgICAgICAgICAgICAgICAgICAgICAgICAgICAgICAgICAgICAgICAgICAgICAgICAgICAgICAgICAgICAgICAgICAgICAgICAgICAgICAgICAgICAgICAgICAgICAgICAgICAgICAgICAgICAgICAgICAgICAgICAgICAgICAgICAgICAgICAgICAgICAgICAgICAgICAgICAgICAgICAgICAgICAgICAgICAgICAgICAgICAgICAgICAgICAgICAgICAgICAgICAgICAgICAgICAgICAgICAgICAgICAgICAgICAgICAgICAgICAgICAgICAgICAgICAgICAgICAgICAgICAgICAgICAgICAgICAgICAgICAgICAgICAgICAgICAgICAgICAgICAgICAgICAgICAgICAgICAgICAgICAgICAgICAgICAgICAgICAgICAgICAgICAgICAgICAgICAgICAgICAgICAgICAgICAgICAgICAgICAgICAgICAgICAgICAgICAgICAgICAgICAgICAgICAgICAgICAgICAgICAgICAgICAgICAgICAgICAgICAgICAgICAgICAgICAgICAgICAgICAgICAgICAgICAgICAgICAgICAgICAgICAgICAgICAgICAgICAgICAgICAgICAgICAgICAgICAgICAgICAgICAgICAgICAgICAgICAgICAgICAgICAgICAgICAgICAgICAgICAgICAgICAgICAgICAgICAgICAgICAgICAgICAgICAgICAgICAgICAgICAgICAgICAgICAgICAgICAgICAgICAgICAgICAgICAgICAgICAgICAgICAgICAgICAgICAgICAgICAgICAgICAgICAgICAgICAgICAgICAgICAgICAgICAgICAgICAgICAgICAgICAgICAgICAgICAgICAgICAgICAgICAgICAgICAgICAgICAgICAgICAgICAgICAgICAgICAgICAgICAgICAgICAgICAgICAgICAgICAgICAgICAgICAgICAgICAgICAgICAgICAgICAgICAgICAgICAgICAgICAgICAgICAgICAgICAgICAgICAgICAgICAgICAgICAgICAgICAgICAgICAgICAgICAgICAgICAgICAgICAgICAgICAgICAgICAgICAgICAgICAgICAgICAgICAgICAgICAgICAgICAgICAgICAgICAgICAgICAgICAgICAgICAgICAgICAgICAgICAgICAgICAgICAgICAgICAgICAgICAgICAgICAgICAgICAgICAgICAgICAgICAgICAgICAgICAgICAgICAgICAgICAgICAgICAgICAgICAgICAgICAgICAgICAgICAgICAgICAgICAgICAgICAgICAgICAgICAgICAgICAgICAgICAgICAgICAgICAgICAgICAgICAgICAgICAgICAgICAgICAgICAgICAgICAgICAgICAgICAgICAgICAgICAgICAgICAgICAgICAgICAgICAgICAgICAgICAgICAgICAgICAgICAgICAgICAgICAgICAgICAgICAgICAgICAgICAgICAgICAgICAgICAgICAgICAgICAgICAgICAgICAgICAgICAgICAgICAgICAgICAgICAgICAgICAgICAgICAgICAgICAgICAgICAgICAgICAgICAgICAgICAgICAgICAgICAgICAgICAgICAgICAgICAgICAgICAgICAgICAgICAgICAgICAgICAgICAgICAgICAgICAgICAgICAgICAgICAgICAgICAgICAgICAgICAgICAgICAgICAgICAgICAgICAgICAgICAgICAgICAgICAgICAgICAgICAgICAgICAgICAgICAgICAgICAgICAgICAgICAgICAgICAgICAgICAgICAgICAgICAgICAgICAgICAgICAgICAgICAgICAgICAgICAgICAgICAgICAgICAgICAgICAgICAgICAgICAgICAgICAgICAgICAgICAgICAgICAgICAgICAgICAgICAgICAgICAgICAgICAgICAgICAgICAgICAgICAgICAgICAgICAgICAgICAgICAgICAgICAgICAgICAgICAgICAgICAgICAgICAgICAgICAgICAgICAgICAgICAgICAgICAgICAgICAgICAgICAgICAgICAgICAgICAgICAgICAgICAgICAgICAgICAgICAgICAgICAgICAgICAgICAgICAgICAgICAgICAgICAgICAgICAgICAgICAgICAgICAgICAgICAgICAgICAgICAgICAgICAgICAgICAgICAgICAgICAgICAgICAgICAgICAgICAgICAgICAgICAgICAgICAgICAgICAgICAgICAgICAgICAgICAgICAgICAgICAgICAgICAgICAgICAgICAgICAgICAgICAgICAgICAgICAgICAgICAgICAgICAgICAgICAgICAgICAgICAgICAgICAgICAgICAgICAgICAgICAgICAgICAgICAgICAgICAgICAgICAgICAgICAgICAgICAgICAgICAgICAgICAgICAgICAgICAgICAgICAgICAgICAgICAgICAgICAgICAgICAgICAgICAgICAgICAgICAgICAgICAgICAgICAgICAgICAgICAgICAgICAgICAgICAgICAgICAgICAgICAgICAgICAgICAgICAgICAgICAgICAgICAgICAgICAgICAgICAgICAgICAgICAgICAgICAgICAgICAgICAgICAgICAgICAgICAgICAgICAgICAgICAgICAgICAgICAgICAgICAgICAgICAgICAgICAgICAgICAgICAgICAgICAgICAgICAgICAgICAgICAgICAgICAgICAgICAgICAgICAgICAgICAgICAgICAgICAgICAgICAgICAgICAgICAgICAgICAgICAgICAgICAgICAgICAgICAgICAgICAgICAgICAgICAgICAgICAgICAgICAgICAgICAgICAgICAgICAgICAgICAgICAgICAgICAgICAgICAgICAgICAgICAgICAgICAgICAgICAgICAgICAgICAgICAgICAgICAgICAgICAgICAgICAgICAgICAgICAgICAgICAgICAgICAgICAgICAgICAgICAgICAgICAgICAgICAgICAgICAgICAgICAgICAgICAgICAgICAgICAgICAgICAgICAgICAgICAgICAgICAgICAgICAgICAgICAgICAgICAgICAgICAgICAgICAgICAgICAgICAgICAgICAgICAgICAgICAgICAgICAgICAgICAgICAgICAgICAgICAgICAgICAgICAgICAgICAgICAgICAgICAgICAgICAgICAgICAgICAgICAgICAgICAgICAgICAgICAgICAgICAgICAgICAgICAgICAgICAfH2AgIB/f3+Af39/gYB9foGBgH9+f4GBf3+Af39/gIB/f4CAgICAgICAgICAgICAgICAgICAgICAgICAgICAgICAgICAgICAgICAgICAgICAgICAgICAgICAgICAgH1+gYGAf3+AhIN+foCAf4CBgoGBf4CDgn5+gICCgX5+gICBf3x9gIGBgYCAgICBgYF/fH2AgoOCgICCgYCAf39/f3+AgoKBgH19f39/f4CAgIB/f4B/fX5/f3+AgYF/f35/gYGAf3x+g4N/fn+AgoF8foSDgH+AgYOBfX6AgH9/gIGCgX5/goF/f4CBg4KAgIB/f3+AgIGAfn+BgH9/f4CAgH1+goF/f4KBfn5/gIGBfn+BgX5/gICAgICAgICAgICAgIB9fn9/gH99fn9/fn+BgX9/f39/f3+AgoF/fn1+gICBgH5+fn9/gIKBgH9/gIGBgICAgICAgICAgICAgICAgICAgICAgHt9goKAf39/fn+BgYB/fH6Egnt8gIGAgH+AhIF6fIKDgoB6fIGAe32DhIF/fX6CgHx9gYF+foCAf39/f4CAf39+f4CBhIJ9fH1+gICAf39+e32CgoB+e32CgX5+foCGhH59gIB/fnx+hIN9foGCg4F9foODf3+AgYOCf359foKCg4F9fX6BhoR+fX5/gYF/gIOCfn6CgoB/foCDgXt9hIN/fXp8gYKAf35/gYB9foGBfn5/gYeDd3mBgoB/fn+EgXh8h4V6eHZ8iod6en9/fX5/gYWCen2GhX5+f4CBgYKBf359foCAfoCFg3t8gYGAf3x/hoR7fIKCfn+Eg318fYGKhnh6g4N9foOCfn17foaEe3t/gIB/fH2AgH+AhYJ6eXp+hoR9fH19e36EhIJ/eHuEhH1/hISBfHR4hIaEgn59f315fYeGgH59f4SDfn6BgX59gIGAgH+AgoF+foCAgYGCgoF/e32FhIJ9dXiChYaDfnx6fIKCf4CEgXl5fIGNh3N1g4SBgH6CjIZ2eIOHjYd3eYSDfX1/gYeCdHiJh3x7fYCFgnp8hIN+foF/e36FhH18fX+FgXd6hISAfnp8goB4e4aFfnx7f4mGfXx9f4KAeHyJhnp6f4KJhXp6f399gYqIgH59foGAfoCHhXx8gIKFg39+f39+fn2AhYWDgHp6foGEhIF+enuAgoSDgH57fH6Ag4OBgH5+gICBgHt+hoN5eX2EkYt3dXh7gYSGhH99e36GhoF/e3yDgXt+hYWAfn1/g390eoqJfnt5fYWDe3yBgX9+fX6CgX5+f4CCgn9/gIB9f4WFg4F/f35+fYCIhn99fH1/gYOCf35/gIKBf4CDgXt8gIGBgX9+fX6Af3x+hIJ8e3t/iYV3eYKDgH9/fXh6gIKDgHl8hISAfnx8fH+FhIB/gX51e4uLhX5zd4aEen6Kh3l4fYGGg3d9kIlzdYWHg4F/f4J7aXGLj4uDdHV9goqIgX99enR4hImOhm91i46LhXh6hoN4eYCEiIiHgXR1foOLiH57ent7gImJhn5rcomPkohucIKEgIGEhIF8b3aJiYF9dnh+gIKCgH99fHt9hISEfnF2hYV+foCAfnx3fIiHfnx7e3x+goSIhHt7f4GEg4CAgX95e4SGh4R9fYB/fIGNin57en6HhX19g4J9e3h9iYmEf3d5gYKAg4yGdnR2f5KOe3d2eH2Fko5/d2x1jY6Ef3V7kIt5eYCChX9wd4uJe3yDhYiBbneRjn14dnuJhnl6goJ/fX19fYKLh3h7iIR1dXuBj4hyd4yKe3yFhYKAf3+CgX6Dj4dydISEen6KioV9bneTjHFwfH+BfnV4gIF9gY2HdXV9gYaIi4R1dHqBkIp1d4aCdnZ9gYiCcXiQi3VydH+XjWlthYeBgH2Bi4h+eXJzeYKUi25xhYeDgX6Bi4Rwdo2IdHN6g5WKaXGSkoV6aG+HiH1/ioV3d3+ChIWGh4qAZ22Gi46Gc3N6foWEfnx5e4GCf4KKhnp3dXuIh359f4CBgH9/gXxvdYeJh4R9foSAc3aChIWCfXlyeIiJgnxxeI2JdnN0gJyQaHCWk3p3fIKPg2BvoZZobIuOh4SAhZKIbXCCh4iIh4BydIGDgIOIiId9aG2Bi5eQfXdzeo2Kd32SjHN1hYmOf1xsoJp4b2l0kIZhaYuMfnp2fY+GaHGVknp0b3qWjW10ko98dGh1mo9jbZaWhXxvdYqGcnR/iJaRfnZtdYuKen+SjXhybnyflGlui46IgXN5kIhscYqLgnpqdpqOY2eEjJCHcHWLhnF2iIqGgXp8g4WGi3lzf3+Ggm94ko99eHd8iYiCfXZ5hIR9go+MgHt0d4CDhoaEfW10i4yDfnR7johxdoyMgoB/fHR5h4mIhHt/joh3eYWDeHyJiYV/dHiIhXZ5hoiGg3t/jId4eYSDfn5+hpiNanKUknt8iIyQhGZwlJB3eIiFd3qFiYyGeHiAgH19e3+Hio2DanOSk4Z/c3uVjW9yh4Z6eX1+gX52eoaJi4d+fH59fHlxeYyNhH1vdoyKe36LioV7ZXObkmppeYKQhmdxlJB5c255lIxrb4WIg4F8g5SJaG+NjoJ7cXmPi3Z4hoeEf3R4hoaAf36AhISCgYF/e3+LhnV1fX9/hI2Jenh5foiDcniLhm51kJGHfmx5oZRkaYmNhn9vepySam6Ji4Z8Z3KWknl3fn+BgH56cHaKi4R+cHqXjWluhoyPi4CAhIB1eYmEcXWGiIZ+bHSPjHp7hYWCfG51i4yCgoWHioN0dYCBfoGGhoWCfn19fXyCjodwcoKGiYJwdouMgn9+foB+d3qEhH98dnyNiXp4en6HhXx+h4N2e46MgHt0eo2HcHWLiXp5fX5/f31+f4GCgoGBgoGBfXR6ioh8fYSCfH2Cg4KCgoSJgnB2jYt8f4yMhXxtdY+NenuGh4OBf3+CgX+Bh4aAgIKCf4GGg3p8g4SBfXR6i4Z2dHZ8iol/f4GBfoCIgnJ0foOKhHJ4jYlzfZ6Ubmx6iKKOVGaunlxbdoSYj251k5aRgV1okZKCeGh4oplwcIGFiIR4d3x7dnqEhIF9d3h9hZWMbnKGjI+GbnOJjIiEfX1/f3yAiol/foCBgoB5e4SDfn1+f4OAd3yKh3p8iIeAenB2iYNrbX2EjIZ0doKDf4GJgm10i4+LhHd3f4GDg4KAfX+FgHF2iIqHgnh4foCBgoWBdnmFhoV+bnWMjYN+dnmGhHd4f4GDgXx9gYKBgH6Cjoh0doOFg35yepGMdnaAfnV7i4h7eHmBlYpqcZCOeHmFhoN+dH2WjGdukJGDfHF5ko13dn6DjIRueJeVgHdreaCTZWV4gpKLcnOBgXx3bHWMkI2Eb3eWj3J1iId8fH+EjIh7fYqGd3uLjIZ/cXmUkX55dYCdlHJxf4eUi290j4pxdouMhH1wepiOam6GiYR+c3iKhnZ1eH6KiHx7fYKLiHx6e4CKhnh5goaMhG92kJCGfWx0jox6eHyAiIJwc4SHhIF8gIyJfnlyeIiKiX9nboqOjIFncZWNbWx5g5eKY2eBhH58eHyHhXp6fYGJiIF+e3+Lh3l7iIZ6dnJ6jox9e3+AgYGAgIGChX9wdYaIh35qc4+QhX50e5GNeXZ5foqGd3Z9fXp8gYOFgnt9hoR5eX2Ag4N/f4CAf39/gYOFfHuHiYiDeX2Lh3Z2fYKMh3d2fn57foOFh4F0doOFg4F9f4mEdHR6gImIf3x7e3x+g4F7fYWEf3x4e4ODfX+EhYSCfX+Fg3x9hISBgH5/hISAgoaFgYGCg4WDgIGFhICAgIOKh3x8gIWOi358fX+EgXd5goWGg3t8gYGAfnh6gIKDf3R3hYWAfXh8iod6en+Bgn94e4SDfX6Bg4iEeXl9f4CAf4GGhYB+fn5/f4CChYSBgYODhISChImHgYGEg4GDioiCf3t/iod9fYGEi4d8enh9iYiAfHV5h4Z9eXR5hoeCfXR1fICFgXV2f4GBf3h5gIB/fn5+fH1/gIF/fHx+f4KCf39+f4ODgIGDg4OCf4GGhYGAgIGEhYaFg4KEg4KAf4CEg4CAgoKCgHx+hIN+fHt8gIB9fYCBgH9+f4F/e3t9f4KAenuAgX9+fn9/f319gIB9foKCgoB9foKDgYF/gIOEhIOAgIKCgIGEhISDgYGCgn+AhIOCgYCBg4OAgICAf359foCAfXx7fH9/fn58fX59ent/gIF/e3t9foGAfHt8fX5/gYKBgH+AhYSAgICBgoSHh4SDhIWIhn+Ag4SGhoSDg4SGhYGAgIGEg4GAgH9/fn9+ent+gIOBfH2BgX99ent9fn19fn6Af3t6e3x+f4CAgH99fn9/f35+fn+BhISCgX+AgoODgn+Bh4aBgYKDhoR+gIiHgYCBgoeEfn1/fn1+gIGCgX5/g4N/foCBg4F9fX5+f359fX9/fX1+fn5+f39/fnt9goJ/f4CAgICAgIGCgoKDgoGChIN/gISDgYGAgYOCgH9/gIKCgoB9fX19fX+BgX9/gIB/f3+AgoGAf319fn5/fnx8fHx8fYCAgH98fYGAfn6AgH9/gYGBgoKCg4J/gIOEhoWEgn+AhIWEg4GBgoKEg4GBgIGFg3x8gYKCgX+AhIJ8fYKDhIF7e4GAe3yBgoB+e3t+fXl7f399fX1+fn59fn5+f39+f4CBhIJ9fX+AgoKCgYGAfoCEhISCf3+EhIKBgIOIh4GAgYGAf3x+hYR+f4GDhYN/f4ODf3+AgYKBfn16fICBgoB7enx+hIN+fX1/gYF/f4GAfX6CgoB/f4CDgXt+hoWAfnt9g4SCgYGBgoF/gIODgICBg4mFeXmCg4B/fn+EgXl8iIZ7eHd8iYZ4eH9/fHt9f4OAeHqFhHx8f4B/f4GAf358fYCAfX+Fg3x9goKBgH2AiIZ9foSEgYKHhX9/gISNiXp7hYWAgISDgH59f4eEfHt+f4B/fH1/f3+AhIF5eHl9hYJ6eXx7eXuBgoF9dXiCgnx9goKBfXR4hIaFg35+gX97fomJg4B9f4eGgYGEhIOChISDg4KDhYN/f4GBgoKEg4F/e32EhIJ+dXiChYaDfXt5fIKBfX6Cf3d3e4CMhnN1goOAf36BioZ2eIOIjoh4eYWFf4CDhYqEdnqLioB/goSGg3x9hYWDgoOBfH2Fg319foCFgnh6hYWBfnp8gn92eYWFfXp2e4mGenl8fX99d3uHhnt6f4KIhHp6f4CAhIuKg4B/gIKCgIOLiYGAgoSGhYGBgoOEgn6AhYeJhHl5gIKFhIB+enuAgYKBfXx7e3t9gYF+fHp7f39/fXl7goB4eHyCkIp2dHd7goWHhoB+fYCJiYWCfn+Fg31/iIeBgICCh4J2eoyKfXp5fYeFe3yBgoCAf4CCgX5+gICCgX5+gH97fIODgoB/fXt7fH+Hhn58fX5/gYODgYCAgYOCf4GGhYGAf4CDg4KAfn+Egn1/hYR9fHx/iYV3eICCgoF/fXd5gIKDgHp7gYF/fXl5en2Dgnx8f3x0eYqKgnxzd4WEen6MiXp5f4OJhnl/lI11d4iKh4WAgYV/bXSMkI6Gd3d+g4uKgoB/fHZ7h4uPhm90i46LhXh6hoN3eH+Ch4eGgHJzfYOKh316ent7gImKhn5udIqQlItyc4SGgoOFhYN+cneKi4SAeHh+gIKBgH58fHt9g4SEf3N2hYV/foCAfnx2eoaFfHp6e3x+gYOHhHt6fX+CgoGBgX95fYiKiYaBgYSDf4SPjYB+foGJiIGCh4V9e3l9iYmEf3Z4f4F/g4yHd3V2f5KOfHd1d3yDj4t7dGpxiYqBfHJ4i4h4d3+ChX9xdouKfn6Fh4uDb3eVlIJ9eH6Oi3t8iIiEgoCAgYSLh3t9h4N2dXqBjohydouJenuDg4B/fn5+fXt/jIVucIKCeXyIiIN8bneTjXFxfYGFgnh6goSChpGMenqChYeJj4p6eX6Fk4x1doeEdXV7gIeBbHOPinJucHuUimZpg4V9fHl9h4V8d3BxeIGTi29xhoiDgX+DjIVxd5CNenqDjJyRbXOWloh+bXSNjYCBjId3d3+Cg4SEhoqAZmuDiYuDb253e4KAeXd0d3+AfH+HhHp3dXqIh31+goODg4KChIB0eo+RiYmKi46HdXeEh4aHiIN2eomJgnxudY6Jcm1tepmPZW2VkXNvdHuKf1ppnpRgZYqPiIV/g5KJa26FioqJh4J4eoOGh4qPjoqCcnaIkZ2YiIB1e5COfoGSjHh3goaNgFxqn5t6bmRujYRfZoqLenRtdIuDZG2Sj3VvanaVjWlwkZB9dGl3npRkbpqbiIB2e4+KdniGjpqVhHpudIqJen+TjXhybXuelGptio2Gf3F3jYZqboaHfnZoc5eNYWWDi4+HcHWMiHJ1iYyJhHx/iIqKjnx1g4OKhXJ6lZSDfnt+iYiBfHV4hIR8gI2Kfnlzdn+CgoF/d2duh4h+eG91iYRuc4qKf3x9enN4hYiFgnt/j4t5fIuJfX+IiIWCfYKRjX1+iYqIhHx/i4d6e4WFfn1+hZaLaG+RjnV1gYSHfGFrj4xwcoSBcHOAhYqEdHR9fn18eX6JjZGGaXKWmYuGf4mjmXZ2i4l5d3t9gH54fIeKi4d/foB/fXpzeYmGd3BncImJen+Pj4V6Ym6YkGVmfYaOhGRulZR8eXuHoJyAhJuajYR3fJGFX2SEiYWAdHmLiHd6iYh+eXF0f3xubnR6goN/f4GBgIGEfm5wfX99gYuJfn6BhpCOg4ugoJCXsayWg2Vrk4JHTHeChH5qdpuVdHaLi4R5Y2iCfWZpe4GEg4B+en6Jh315cnqUiWJoiZKVkoeKlpWLlbCypqGglIBuVlVmY1NacXVval5qjI+Afn+BiH1hYnF7h5CcnpqXlZCIg3yAkYlsa3h/iYJscYeKg4aMmKu2wr2vmnhlVk9PTEhPYGVlZmRsgHxobICBenRnco2Uj5iqqJaUmpePi4iLl5KDe3R0fHdpYVdedHp4h5632tjAp4JuY1RFOy5BcXZjZW51gnhbXG9ybHJ9h5GhuL+9tKCbn5mMi5GWoJyPgm5rdm9fUTpEZnFvhafQ7OrfuIJiSzowKSE3a3l6bkxXg35bWWdnXWmBncjKrLbhwWVbe4ialn6Mt7ajhEtNfHNQPyY/hpJ6lM3o6unMoXNcVkUxLTFBYGpqcHtyV1FTVVpiaX+gt83W2sqnlYWBiIiEipeco5d8cm5kWEkxM0ZXbYSctdPp6+rNn2xYXkokJTtObWxVVV5eXFpXU0RemrG7wsHH08SikIJ+gIWRk5CTnJF8Zkk/Pzs0QmJ2h5uvx+Xr6+fQqXFXTURCPzpDWVlMRTs8QkxZbIGeyc++v8jFwauCf5SQf4GRjHtzcmRLQDtBVlU/VougqrCpu9zn6uXas2xZZ1EoGhYjRkc0Nj5NZ2xfeK6/v72rvOndqZaOjp2SeHF4a1NEMjhSWl5aSFZ4gXqSxcmttczj7OrGpZh0QCMWFBQUGCpHUExXaHuXn5ilvMvb3NDT5suLe4J/gHdoZW9aKytHT1RWUWB9iIaZvMjPxKCu3+rs1Z12Ty8YFBUTHC9ASENcjJmWmJSmzNC/xdTa4cygh21lbGdeWllQQDw5RV5vg39hcp+51NS+t7alf5DI2erDaz4dExUUFBUsQ1ZoeI+wuLKzs7a9v7zJ6Ny4lWRUWFJMSEdFQkNFUGR2kZF8gpSkur6zvd3Ll4Bkh+HiuYlDIBYUFBQXMFNmbIi0xs7ItKynpqWuv8bQvZV1TUE9QFJaTEZNWnJ9gZCrqY6OlKvZ2Livs5dhSCpQts7OpEgnHhQVFB89Ynd/oNTm69illI+RnKGhsNPEmXRBOEpMTE1NVWFufY+oraelopyOm77DuqyTiIluNDRLhuXionhROi0bExdAZIOWnLzp6NGvfHF/gH2LqLG5onBWPzxNTEFKXG+LkoiSp6uonYSKpa+3s6mVd2VdRiEiL1yu1O3KWysZFBYmP16IpcHIvrm1pIp4ZGRvhKu0sJ+Aa1VMSVRvcmRviJmtsKeosKiTjYqUrqubiGpaT0dFOh87e63m4bJ1IRQmNEdXZ3yWo6qur6GEcVtaZXeVpruwjntoYF1fZ2twcGh0j6CzsqKblpGKjp6fm413YUA6RkhEVnKWyOPt13o8GBUpPVRia3qNmailmoJVT15uh5u0v8ezhXBgXGRmZ2tyd3qElJ6qqJ6YkI+TkY+JgXNdUUdMYmJPYIKu5entuUsdFRg2Um10aW50i7i5pY9rZ3OFprbBv7SjiHVhV1RTVlxjbnuImKGqqaGYioaHiIyEdGlbVlhZXVxRYXyh2+XerUkfFRg7VG1tVFxvlNnewqJmYHSQxdLMvZ6JcWFVTUxFNEZviJ+uubu3rJaOi4qNjIyCcGRZVlpXUVBLWnKTx9jltEYaFRY2WYOHbG5zlt3hw6FjXnaTx9PMuJF4YlFDP0REP1BwiaWxtLe4t7Wrl5GVjH5vWVRYVlBXaW1sbmt/oMfr5Lx2HhQTJml/iHxPXpCx3dWpiVpdfZ3T0rCSaFE/P1FTT1FTY3uUtcfS0MK5tJ95cHp0aVpFQUlIQE5venuKm7vm6uzdlFEaFRMjYHZ9emFynrXRwpF9aXyyyeDRpINcTEdKW1lJTllxmLDHzsq+qJiGgYl9Z1lPQSstO01mfJejpKqqw+nq7MVwPBgVEypmeoB2T2Oaud7YtZ99h7HB08Ocd0E0PkdaXVdZXG6NorbDz8m1oYd1Yl1lXExDOz1EU2yAmaCYnJ6x1ufs4K9oGhQUHUZplZl8hJi56eXEo3RvgZjGxKuLVTsnJztIWl5WZ4an1+Lay62cjoF1aV5QPTYwPV1sdX6GiICJl6/V5+zgrGsgExYVM1eBjIGGiqHM1M23h36GlLO3t5dYOiIjOkpga298i521xNPNtqmfkYFvW09IQTk7Q0xaZ3eFkp6lts3i6+vhuIFIFhQbOmd6goV5iarB4tKahXGAr8LXwIhdJxkiMVFkdX+BkKW82uHdzKyUeWVSTFNMOjtFTlhpg5Siqamxuc/q6uzSllUWFRQbQ2aQlXmAk6vW1LegeXuVqcvBn3c5IhwiOUphbG+BnLLK1dnRvamOfG1cRz47Oz9KWmyCkqKopqWioKWuubetn41zTDkoPHaJkI10i8XV28eWh4CQvMPBpnNLHRQUJ1FhY3SJoL3M1tTKuJ2Kd2tkWEpEQkRLVmd1g4+coZ+lrLvU5OvlyIcoExYYO2CNmYyPkqLBxb6ymZGLm8jErIZIKBUWKEFhd4mZp7O+xs/JuqmQfm1lZmBZUENBQk9meI6XlpqdqLbO6urs0ZNVFxUUHkhrlZl8gpaqyc7LuI6LnK7UyaJ5Px8UGDZNYHGCjIyXpLXPz8CvlYNzZFVOUEYxMj5Pa3qEjpecnKa0yefr69GfYhsUFRc1Yp6miYN4irXI28+onpqnysaykmA0FRUjPl1vfoR6i6rI6OrhzKyTd2poYFdJMy4vPFNphpGSlZSbpLfU5evlxYcsEhYWKlCMmo6GbH2qw+LYrp+SnL7CwKVzUCgfJzdZZWhucH6UqcXR2NG+r6GOdmRVRzgwLC84SF94mKSkq7W0qKy4wtTHq4RNJRQVFTh5kJWQdYGku9nay7aOi5yltqqPcEQtGyI+Um15eoSNnrnDxcO6sKOVhHdsXEk/OTk/TF9yiJuvtK6lkpGZq8/Mt5BPJRQVFj2DnKSWZm6Wr9DRv6+RlbG4wK6IZjgmISxJWWpuZWp0iau9ys3IwbepmYh0Y1BFPjo3P05ec4GNlJuXh4uXq8ze7NmkYRkVEyFfiLarb15WaJWpubWaoLjH3tKwjVhFQUdbZGtrZVxHUW+Jq77L0tfOuaaRd1VHRkZLTlFZY2xzfIqLhIF3hqTH6unqt1cjFRUXPHmOloROUG+Jsrelop2qxtTl06aCVURDRlZdZ19FQ01cc4ysxN3i2s++p4hzYFJJQ0BETlVdZGtzf4SHhXyInbjg6uzdmVMYFhIofpyklWNbYXuzv7WumKPC1+rky6BgPSAjQlVucmhkW2BrfZmos7/Lzcu8oYtzWz80MThJWW19kZaPj5GKeXRwfpa46eCzdB8TFhUYRZaomIxseaW60sqol4KNtsLKtoxoNC5HWniEin9hV1FdepCrt7u7t66gkH9tV0xFSVdjc3uBgn19fYCJhnt5dYCTqtfChU0XFRMnZJXSzpV9YW+lraKahY2lvuXl1a5pSC8xSmGDkpyKWkUzOlRulKq7wcK3oo12YEVASE9ZaYGNlJOJhIB6cnBwdn6Mn7rqy2gxFRYSKnSbvbN9dXuPuMXFxb+9ube7sJ2FZEwzLjNJdYmciVI7KDBLca7L3uDXuYJmUUtUWF9lanaJj5CMgXhsam12iY2GkKC129KxgzkYFRg3bLfKvq+Nho6LgoSNk5ijtrizpY90TT45R2p+lZaJeV1WWWeElaisqZuBb15ZXWNueIOQoaSemZOOi4V8enh4enxvaGpzgpa8q3RLHBYkQneSpqWOhn6CkZidoqepq6qmoJeNgHVoYmFhZmVkXVBQV2Z8krC0ppd8c3J1gISHhoCCiIiBhZCUmJKAfYSDhHppYFVif5nGtXpOGxUlOlhxjZmblYKDj5ehpKOmqautqqeYgGxVSUBFVGN5goaIiIaCf3h7hYeGg3p+ipGbl4mDfX2CiZSZnpuRg2xfVFVfaXeInaiypIRiLyQwQF1ufIaMkI6Sm5iOh3yDmKOwrqOWhHpyc3yAgYaOkpSWnJSDdGFaWWBweoSDenRscHmIoauuqZ2RgnZnZ3JzcmxgXl5ofYqbmYp7ZVtUU1hdY258iJmclJierMPJxr+xqKGUgnFaW211e359f4SFiIFyamRmc3BgX2JvjJKLg3B5l6Goo5OIfnFdW2VvhYR1bFxje46ht9Xb1r6PdWFRSTkeHzBDY25tdoaNkY+CjKSzysOnk3Z1i5GTlpiZl5KIgn91aFtFTWmBp6iPgW5scYKfuNfe2sOVemJWVFFQT1BKPD9KXHyFfoCDiZmPdFw4N01ec4WYpbCuoZ2Zn6yzu7anoJ2SgnhwamVmaXSFlqnA5ODAqpB6ZlI6NTxGV15jYFJYam9ybF5aWGN4iqCwvcPGuZ6IaWRye4mSm5+jmYZuTDw0MTFBX3iTqb3S6ejXvZh7XkctLj9bjpqTh21sfnxxZ1JZdoKKkpeqzMy6p4eBjY2HhoKPsK2XgFpRXVVEPTZAV2Vribna6+jPo2lLOjIvPmJxfXVaUk9Wb2I4Li1Ed4yUpb7J0Mivqq+spKKgpK2vrqidk4l5aFIwLTpPdIeOs+Xs6ezcqHZcW0crIyIwVFZHPCktRUc/QkRbhZyrusnO0ryLe3l0cHWCjqOeh313alhKPTEdKk5wnrKzxNzq6uvUqnlqdnFmZWZuf3xpYmBdVlxrfZSovcO+vLm4va+RgHFygIaOiHhtZFExJyspKCoqP2OBqbGeqcHW6+XIo29XTz0mHBobICs8SFVhcXNjeKXE5uXDxNne4dCrmo+Ji4R6cGNbVlNPVWRqbHN4iaW72Na1wOLr6uq8mJZ1RCEUFBQUFh4kMEFRZWdYY36Nl6Svv9nUuqWJgId5W1dkYlpQQD1GQjI/YnuYopeoytjf28XR6+vn0K2LZTsVFBQVJzI2Rl11lJ6XoK3B4uri4uLbzr+tlnVmYVtaUUM6LzRHSkFQcoGKi4COs7y6r5WMhJO6xtK0cEgiExUUFBYqPEdjkZ6WlIiZxcqzt8jZ7eKyknplUEdGTWRdPT9UX2dzg4+anpap1NvPycO8t6FthNzixZZAKT4hEhYSJ2JtSWzG1bmwpKOsp5SjzdTOv6eFTEAuK09VWVM7R2t4fX10gKKggo+30+zfon5nUzhIeKPpxkYUFhQUFBgzWHKArefq7NiUiqSqrLG9vbqhbWBqYVJAIixUaXuGiZSipqCnvbSMmMrRxLOXhHNgREhbiN7grYNIMjkdExQiVZCff6Tn69i3h3l9fHmGo7C/qXNUMzNSUDZFcX56gIaZwcCjl4mNm63UyZp/ZFttTxgWI13F4d66Z0Q1HxMbUHiUq7/FwbimmpKEcGdYcK/Cyq5lWHBmSERJYJOTanOWrMfGr6emm4KJrK6lj2hVSUJDPi5Ec6Tm4rh0HRMoPVBidIuqtre4uqiEcF1heoOCmMzFmHhLSWlua2tqbG11gJbBvpyNfX+RlJGTnYpgRy4vTE07S22TyObt23Y0FxUlPFxpaXWIkpuWiHlkWUtcgqbb27WjlINtYltniY1/d2d4qKuQlKuroI5ld8G3e15AQmBlYmBaX12R5+jvvC8SIys1SGl+lIxcc8TMs5FPUoaSj5y4tp+Pe3N4Zj0+XGl1eHB5jpunrbKmhXx8haOYcGJcWFVgfn9qa22R3ujbqUYcFRYlQ3V9aWFHeeLpyKNuZ3iQvNDmyHJjgXRSPykyWFtFWYqpzMienbWtjIeRl6WQVlN4c1VLQ01pcmqKzuPtvkgcFRtGYXqCeHx+lsjPxqRZU3KRxdPRvZN4Xk5EQ05LN0t9l62tlJ7Av6ackpOjkmVbY2JiW0pQaHJ4foKMkbLn6euZHRUUJYGXf3Vca5ay29WwjFBMao3O1Libb08nK1deVVFCW5Wqqbrc28OxmIyJe2VgaWFQRzw/TVtueXqPssnZ6evkmEEVFhUsXHJ9eFRqqcTfyYFyeIy2zejaq4lgT01NWFM+R2F8pba6wMnAqJiHg45+Wk9XSCchJz5tg46bqK+pvOTq7dBtMxYVEyRacoN0NU6mzenZlYmboquyvry7kjkoQU1lXz5EX3iarbnG1dHArpZ8WFJlX05AKDBTXl1thpu4s4qb0Orr5aFVHhMYIzBVn6R0doK06+nBm4N/kJ65vbyXSC4sL0BHSVNkb3CR1eTZxp+Wo5JsYWdeTkApNmJwcnuMind+kLLl6uzZn286GBUUJFGSmnJ1hKbk47uccHWgqqmprJVoSikmOlB6fF9leJbN07azurGhjXBkZFhGPjlBWFtPW3aJoaqks9Hk6+rato9MFBUZPnSCcHmMnLG+zsGbh259sL/HsoRaIRUhOWdzZXGHpdXg0tHUy7ycaFBDQEpGODg/Rkxlk6KdpKy4xdjr6e3Mg0oZFBUXOmekpnN6nLXZ1bSijIeHl8PBq3wlFjM1JzVYb4eNfZjZ6unXq52hjWpWRT4/PTZBWmx/kKGpoKGqraqmoaa6rIdqRjk4QVZwmaGNlam/59iYhHuOxcy/pX1QGhUTIl5vYXGPpsDM0NPcw4h1eHiEay4pR05OU1RnjJiWmp6kprja6OzgtYE6GBQXNV2WoYiKkaLExrWsopqPl7G1tZVVKhQVKUlufn6Op7rN08/Jwq6NeWhneHFdTjo7S1pwfIKLlZ6prqrA5+rs0plWFhUUIExofo6ZmYWRtMfiyn14mbLg1qh9PRwUGDtRWnCUmoiKj6fd2rKbfHWBdltSVk48Oj5ObICVnJaZm6rI09XSyr66fRwUFhZMeJGZioV1ha7C1s6qnpiftLi+oWUzFBUvSlZneYKCjZm25evrzYx8iIJ8YiwkNz5GRztRhZqmppSVma3T5evo2Z45ExYVMGKiqYN2YHWxyt7YuaeOkau617hlPR0bM0NaZWdpYnSbrbfCzc/OvqGLdWRXSTwyKSovRGqCmaCUnrq6pqm3w9nRu5JPJBUVJENmgqOhe3uGqufoxKR6fqixsaaUbyweMTtLUEhhmqOIjqG659iRh6Wcg2g9PWBgUUQpOGqBkp2kqKehkJWqtcC+uZZYKhQWFTp/maKbd3mOoLrGz8GWk6ewwLSYczcgGiRDWHF0ZGZsgae80NC8sqeksJpkWW1hQS4VK3B/b3N5i6+pfXyNp9Tk69mvaxoVFCpYf7e2iG5DW7DDuap9kt3nzruhiW9YOzlKW397W09AUH2PkqfI4O3irI+AcmlcTEAtNlhkam5tdYaMjo6IjpW05urt1HYsFBYXQ46YbmRaYnqNpq2ppJCfytzq2aqDTkFRVFpaVlBFRkpZcoyrxuTo183GroZsVk1QS0JIW11TWm56homFgnqHpLvV5+vlsVUWFhdBhZqPin9uSGG1x7eph5XH2+rfvphgQzIuOUdibXNuWFhid5+sp7TM1d3HkX+CcFA+KzFLXnSElZmRkZaNdnJ2g5iz4t29fyATFhQfTIqfmpFyfKKzxb+llXmEsr28rZFwPi4uRH2Jf3RbUk5bepS2va6yxLmXiYR6cF07PVZmeYKGhoKAf4GIhn97c3uMpdrHgksYFRMoZI7BwJB+b3SMk5SYnJ+Zr+Pm0alhRDs7R12DlqmUVkRFSlVul7LN0MC1qJiFa0M6RVJrd36HkpKJg3t3dXFqcH2MnrfoyGAnFBcSJnOZtKlya3eMtMC+vri6wsHAsZaCcVw+NzxNboOgl3NVIyRDb77b3+Hfw4lrVUxNVWtyb3BvfqOdeGhYX3yDgYOEio2j09K5iTETFhY2bLTIuaqHgIyNjI2LkqCpsrWzrKKHU0I/UHqOnZ2QgGZgZHCJmq2zsqOEcV5baGtpcoSRoaKWlJmRfHh+gXZrbGhsal1icYaypndJFxUTLnOSo6GFfnuAkpiboKWoqKmrqKKWgndzbWRlbnBxaVJWanmJnbq+taaIfn1/ioyMh3p7hIWBhI+TlpB+eXh5gXtsXkJRgZ3Fsm0+FhUXM2p/hYV0dHmHo6ifm4+Wrre9spWDcGdnXEdIVmV8hoqNjIh+fYCGkZKLhoCAgoeSk5CNhoeLkp+lq6SQgG5iWlpfa32LmaGsn35eLSU6R1xmZ3SIlJ2clIdwaWZ0lKW0rpKFeXN0b2djXWZ+ipWXkI2NgGZfYWyEjI2LhIKAgYKNpbG8vLOqnJGDgIqGfHNmZGdwfY2pqJOAYFZbWFRVWWN1fICCf4ONj4+IdnqPnLKmemphaIaGdm9laXuDjYp6cmlreXx4eXiDnaGak4CHo662sJyRiIB2dHd7hYN5bllaaHiQobe2pJBvYmJfX1dHSFNebXd/iJaRfHFhb5iuxsSrl3pzfnloaHJ5hIWBgIF8dWlSVWiCs7usnYB4eIKZo6qnmpGEfXZ1eoKTkod3V1dsfZqag39/iKOdgmpHPURITF+Ckp6Ub2VicJOcl5OJiZKPhICAfHNzd36JkJiYk42CgYqMjo+SkY2JgYKOiXh1dX+YmIl9aWt/h4+NgH+HhH1tTUxgbHuAeoWfoZqFVk5aZHd+f354dnZzbWtqcoSKjIl9e3yFmaCin5WQioiIiIaJj5WemomFhYmVlIqLkpacloSBioiDem1paWx0eX56b2ZWWGhvdXqBgHtyW2aKocC4kXZOS2NzkohaTk5YdHdsamptdH2LmKitq6eempaZn6m7vLOpmI+JhH+Cj5OVmJmdqKCKfnNxfHpybWdkZmFXUkpSa3Z9fXV2e4KOjoqAbmNUWnd6bmtqa3FuYmRvdXx+fXhqanN8jY6Bf32HnaiuraKjq7C0tbS3v7ywp56WjImLiomFfXhzcG9taWtxc3F0fICHhHd4goB2cG9lUUpFT2hxdHJoYVdZZ2xwbWFkcHZ9fXl1bG93hJqlsKqPjZqhr6mOjZultrKhknx2fHx7foSHi4mBgYeGgYSLkpuen5mJipedpZ+KhYyBZWFpcoaCbGRgXV5cWlZPT1RXV11mbnt2Xl1mdZOUf36GiYuJgoSOi3mCoKmtn3pxd3+SmJqViX9xbnV3enp1fZCWl5OIh4iSqKykm4qGiouPjo6GdXByc3l0Y2JqbnNxZ22AgHBucHiLinp6hoZ/foF+d3d5g5qaiYeTh2NfcXd9emtxjIRiVEVSfYZ6f4yVo5l2dIePmJmUlJyNZWaEi4mFfH2JhXV1g4J3dHF+oqB/eoaHgH53jMfCin6HipaJYGuho4KAkY+CdVxhgIV7gZWRdnVgVGhndn90eYSFf3NYYYySgIORn76oWFF4hZGDUlmQjWhUOURyf4B8a217iqWgf3Rse6axra2wn3ZkU2qyvquZc3KMjoaBeXqCgHh8joVkYXN6goSEgHN6lJmSiHF5mqSlnpJ6S0ZcbIiHbHCMhmZfYml6fn1+f4GHgW5oZnGNk4mSsaqGe3eBn6GRk6CgmJSVg1hTY3GNi29lX2V9eFZdgJGjlF5hjpmWkX+DlZqbl5GEbmFQXISYrp9nYYF2TEVIar67d2VhaYeLfYWeoZaXoJ2Sin1+i5KcoaehkYV6c21ranOLjH13cXJ5eG91iY2Hgnd5iYVudZWbk5CKj6aXZllbaIyShIebjmlQLThtf4OJkYRgVE5Yc4KMmKenmZORi3+AiZKfpamhjIJ8dm9ucHqVkG9pbneOh2FmipKMhHF0iYyGg3yDmZV1fqqrlHY2Rp6mf3NqcZGFVk5cYV1ypqeIb0JOj5qHjaCuxrJwbJGcopyFjLGneW96enZ3fYaakmxrg4eFfW1rcHR4gJCMdGxpdJWYhoKAg4eVubWXe0xKa3V5e316eGdBQVxylpRsbo6Lb213gpKYmJ2rlE5UlaOclH+KuqplXHSFpZ1vc52dgHuCh5SHXWSVlnpybXeVkXBxh4+Uj3x8hpCmoIF0bGhraWNujIt0aVxWTll3h5eVgnhranF3eouusJ6IXF6Fj4yRmZ2gk29xkJmdmpGKgH+FipaPc21tfauia2Jte5uYdnWIjIuJg396eHl7gHxxamJiamtncY6LdWI+RnOBgIulm3NfS1WAioCLp6aRgmhxmKSjoZaWoZZxdp6jmIpsa4CDfYGOjX5+iouIgnJ7nJ6LhYOCg4OBgIF7bmxteJSUhnFGQ1tndn+JhnppSUhfa3mDjo+Kfl9ie4qan5ucopd3dIONn56Nh4Z8ZG6XpKeZbHCdnoR/f4uro3dygomSjHRzhIV/fHd7h4iEgX92YmR4gY2CXlZeW01UbIGnml1PU2KFi3qDoqKSfVNaipWMjIqPoZZtcZaip5+Eg5aSe3+YnpyTfH6Uk36Dm5yQhnJ4l5eBgY+Phnxpa3+Ce3yFfWZgYGmDhHBvdnyMf1RMVmePj3Fqa3GDfFxedoipn25iZHCPl5ORi46bkXFvfY2to3FwjpWUj4GElpWHhomTqaWMhomLkpCHh5GMeXV5fYuDZWFscn55YGN9fXFnVltze315b2NMT2ZvcHZ/hIt/WVt2jreziHt5eoWBcHF+g4eHgn97fICLo6KLiZKWnZyUkpOOgIWcm4uHiI2alX5+kZGHgXp7hn9mZHB4h4FlaYyBT0dTYoJ+V1yAh4V6XV51eG9zf4SIg3Nvbm9xeIiNjIyLjoF0bnqipZCKhoeSimt1oq2rnHJ1mp+SjouNlpSJi5qXiIB2eo2OhIWPjoV9cHOIgV9khJKlkE1FYmpzblddfH9ya19fZXCJiXdwaXGNjHZzdn2PjXp3en6GhXp9io2Nh3R5kZiZkHR2jZegnIaDiY+am5WUl5SOioWKm5uSjISEjY+OiHh2fICKg2pnbnN9f391WVhsdYF7YGWIgltTVmWJi29wgoeJgm9ra3B/ho+Me3mDgHRxcn2clnNoY26MlJCQkY+NioSGjpWhnouFhIqfmXxyaXekpYmCf4qspn96iYqFg4B/fnx7enx3Z2p+fnNuZ2x/fGhjZGl2dGVkbXJ8dFZeho2GdkxTgY6RhmNid4OTk4R8cnJ5fHqFoaSXiWtvj5umoYqEgoWRlJCTn5yPiH6Hp6WKhIaKlpOGg4aCd3eDfWZkbXaHhXRvbm1ub3V0b2tkaHd5dG1fYXR2cG9wcnR3fXxzcnN5iIRpboyRiX9mb5ucgHt8hqCgjouRjn6KtLimlG13s7aWioCLtahpapmgloZeZ5mknY9ubYWFe3NoZ21ubnF7c1hZb3V4dWlmZ2dnaWtyg39sY1lhf4N6dm9wdnyHhn17fH1+gouMh4aGiI2QlpKDgoiVs6+LjrGwmIt4hry6j4J7g6Kghn9/goyKfX6KiHl6iINtbHmAi4BZXoiJb2JRXpKNXFNaZ4eIcmleZH98Y2JsdIV9W1tygp+YcWpye5GUi4NyeZmflY+DhI6Wo6emnYWAg5CyubaleXWMmKygcHKZnZGIeHeFgnJxeXt9fHx2aWt6em5oYGNxcmtqbW5scXx8c3N5dWllZGt9gHl5fnllZ3iAh4V6dnR5h4mAhZidnpJteK63qJyGi6ymfoCip52Ug4abnZWSj42Oj5WPfHh6foqHdnBrb397ZWJqcHx2W2B/hHtwW1pmbnh6dG9lY2RmZ2x6enFrX2R6fXV0dXmEgnR4ipKXmJWQhomXnJ6foJuOj5uhrKaPjqGdioeNkJSVlJOUi3d4j416d36CioFnZHFzcW5nZWdoaWlpaWtpYWBjaXV2cG1qamttcHBrbXN2e3dnaniGnpl3cn2FkJOPkp2bjIqPmKysmpmjoJSTmqGxq5ONkJSenJCOkZOYk4OAh4iJhX56d3VzcnRzcGxoY1xcYmVnZ2ZjXFtbYG1yc25hXVtjeX98eXBwd3p7f4eJhIWIjpyXgH+JkqSijImPk5qcn5uPkJ2emZSGj7CukomDjayum5WTi3x6gYeTjntzbm1ycW5tbWlgXFpcZmZeX2lnXFtcZXh8dXRzc3Z2cnV8foCAfnt1d32DjY6IhYCDj5GMj5malZKLj5+glJikqpyPkIidqJiVj5CUl56ZiIB5eoSFgX11dHd3dnJsamtqaWlqamtoXmBqa2dmZ2hoZ2Nndnp5eHV1eHh2eH6Bg4J9e3h6gISHio6Qk5OTko+Smp2gmYSFl5yem5SRjYyKkqmolYh1doqToJyHgHl9jpCNgmljZW6IiXpza2ptb3JxbGliY2ttb29vbm5sZ2dqb3h8f355eHh5fH16fIKEhoWBg4uNiomKh4J/eoCQlJGMfX+NlJyZjIN5d3qDlZubl4iIkZWZlIaAeoGXnqGZgHuDg4F/fHx+fnt7fn+AfHNuamtvdH+BfnlvbnR0cXFxc3l5dXR2dXJwbXB7e3R0d3mAfXByfoOHgnNpW2F6iJqWfHZ5gpqckIh7fY2XpaijoJuZmJeYl5WXn6GgnpmXmJSNh4CAhoiJhXt2cXF1dHBtaGdrbnJxbGhjYWJjZ2lsbGloZWhwcnFtYl1WWmlwd3ducHd8g4F0c3h/jZOUlpWZpKOcloyRpKyxr6Kem5uenZeZoqetq6CalpOSkI2Jg4GCgYJ/eHFkZXB0d3Zwa2RiY2h0dnNqVkxFSl1iX1tRUlphb3Jta2dobnN3fISIioiAfn2CjZSeoJubnJ2gnpeXmp+op56alpWUlJOSkZCQkZSUkI6MjI6OioqOjo2Ifn2ChIiDdWlWVWFocXBmY2JlcHBqZV1eaG1wc3V2dHJubW1xeIGOkY2Lh4aIiIeIiIyVlpOOhIGEhYiHgYKIjJCPiIN+foOGh4qRk5WSiImRlJeShnxqbIGKk411b3N2f350cnJ2gISFhYOCgoF+fnyBjZScmo2Hg4GCgX1+hIaJhXlyamltbWxtb3J4enx3amlvc3p/g4eMi4aGh4uVlI2Ec21scoOIhYF3c3NzdXVwcnh9hIaEhYaEgX98foWNmJ+joZiUkI6OkJSYn52VjoN+fXx9fXx8fH2Af3t1aWhudH+CgIGFhH59foGLiH50Y2BnbHd4c29mZGdoZ2lqbXR3eHp5fIKDgX95fIWOnJ+cl4yIh4mNkJKVm5mRiXx4ent+f31+gIB/fXt5dXd8gISHiouKiYeKkpefmYl9bm14fomIgHlxbGtpaWtxdnx+e3x9foOBenh2eYCJmpyWj4N+fH6EiZGUlpCEem1oa210d3Z2dXNwbWpqaW54foWJi4uIhoGFlJqgmYZ4Z2ZzeoWGgX14c25sbG92en5/fH6DhYiFfX2AhpOaoaOhnZSPi42TmaOnqKGThXJud3l7fH57dHBvbGlpam1yeICDg4F7eXd8iI6VjnltYGBudXt8e3l1b2dkYmVvdXt+fn+AgH9+e32DiZCWnJ2cl4qFgYOMk56hoJiHfXNxdHmEiIqIf351bm9tc3uDh4mLjo2JiIeMl5+qool9cXF7foGDhoN7c2hhW11qcnl7eHh5eHRxbXB6goyRkpKQi4F8eH2NlZucm5J/c2dmb3aChoV/cWtnZ2xwdXuBhYaHh4aDg4OJk5yspIh4ZmNvdX6ChYJ7cWJdWmJ3gYmKg4B+e3R0dn6Nl6Klo6CalI6LiY+dpKmnnpOCd2xseICJiYR7bGZlZmpwen+DgXp3d3l9fnqAjZajnIJvVlFdaHmDjIp9cFxTTFNpeIyQh4B0bmttdH2Nlp2el5OOi4iJi5GfpKahlYyCfHd3eoCLjIV8bGZlaXN8iI2OjIN/fH6Jjo6Rk5utrJ+NbGJncYeQk5KOgmtaRUhgcYiPioFsYlpcZXKIlJ6bioJ6eHt+g4mTlpWPgXt2dXh5eX2HiIaAdG9wcXV6gYWIhn55cHOAiZSWjo6SlqKdinxqaXd/io2KhX1wWVRWY4COmpR6bmJia3eJlaKknZWFgIKHkpidnpyXjIaBgYiJh4WCgYB/fXpycXZ3eHl6e3t5dXR0d36Di4p+f4mOmJJ+b1lXZnB+goB6cGZVUVNhgY6Tjnlxbm1veY6Yn5yPh3x8ho+bnpuZlZGLiIiKkpCGgn9+fn+Af317eHd4eX5/gH54d3h8hYmNjIOCg4qdnJCBZ2BlbHyFj46FeGNZUVp1hJaVg3dmYWRtfoqYmY6FdHF3gJOYlZKLhoB/gIWOkZCLf3p6e4GCf39+fn5+gIKEhIOCf3+Ag4mKh4J3eYaNl5F7bl5dZW+Cio2GdGZTUl1tjJecknRqZmlzf5Sep6GKf3Z7j5qmppmSjYiBgouRmpeKg3t6gYaMjYmFfHl5eoCEiYeAfHZ1eXp7endzbW52fIiEc2ZQTVZhdH6GgnNoV1NVYX2NoJ2FeGhodYObpKailIt9fomSoqOZkoaBgIOMkpiXj4mBgYqPlZWOiYKAgoSJi42Kg3x0cnV5goJ8eXNwbXB5f4uGcmRRUFxofYWIgW5kWFlkcoqTl5B6b2Zpe4WQlZeQfXVucYCJk5OJhYCBhouTlpeVjouHipWanZqRioGAhomNjYmEeXV1d36Bg4OEf3Nua2ttcnp+g31uY1VWZG5+gn97cGtmZ254i4+MhHRubHF/hoqMi4iBgIKGkZWVk4uKi42Rk5OSkI6MjIyOlJaXk4uHhIWKi4uIgH1/f4B9dnJubXFxcW9sa2pqaWx1eoF9bmZbXWpxen5/fXZxaGlweYiNjouCfXZ4gIaNkJGNhYGAg42RlZWQkJGRkZGTlJWVlJSUk5OSkY6IhoaGiomGg356dnR0dnh7fn9/fHVuY19dYWxyd3dycnRybWliZHB3foGCgHlza2twd4OGi4uAfnp6gYiUl5WSi4iEhYyRmpuVko6Oj5GTk5GQj46MjZKSko+HhIKDh4mKiIF8d3Z3d3V4g4aFfGZdWV1tb2dnbXBybVtbaHGAgXd1eHl6eXV4f4KEhH9+f4GHiYmIhIWLjIyLh4mQj4eHio6Wlo+MiImPkpSUk5KTkY6MiouPjouIg4GDg4KAenl7eHFwb3N/gHtzYmBmbHh5c29mZGdoaWtuc3p+goB2cGpqbnR/hIiGgHtycnh+iY2OjIWDhYWFiI+RkI6Li4uNkJSZmJOPiYqSlJaVj46NjY6QlJOQjYeFhoWGhYaDfXl0dHl5d3VwbWloa21vbmhnZ2lucHJycG9vcHJycXBsbXB0e317e3p6e32BhIeHgX98f4aKjo+NioWEhYmSl5qbl5SPj5OVmZqZmJeWlZaam5mWkIyJiYyLioZ/e3h2dnZ4d3RxbWtqa25vb25ramtramtwb2dmaWx0cmdnb3Fzcm9vcHFyc3N2foB/fnp8g4mPlJiYlZOOkJeZnJuYlpOTlpmcnZqamZmam5+fnJiRjYqIiYmMiYF8dHR6fHt5dHJzcGdocHJzbV1bY2RgYmdpbGxpaGZmZmhub2xtc3Z4en1/g4F5dnZ3fYCDh46QkI+KjZWcpqmnpJ6al5ednZuZlZSVlZSUk5OUk5KRjouHhIOAfn19fn99d3NtbG1ucnFta2loaGdlZmxvdXJnYl5eYmVnanFybW1ucHJ3gYaNi4J+fHt8foKCgIGCho+Sk5WWmJ2goqKin5qWkI+QlJ2ho6CYkoyKj5CTkIeAd3R2eX1/f3x1cGpoZ2pzdXJvaWZlZ21xdnd0cm1pZWVqbnN0cW5oaGtyfoSIh4F8eHNsaWhqb3eBi5abnJyanKOnqaehnJeVkZWdqLvAvLSkm5ORlpSRi4B7dnV4e4OEg31xZlpTUlNaW1hZWl9ob3h8fntzbWRjam92eHRxa2xweYmSnpd/bE9GS09YYGpzfIOIkJqksrWxqJWRlZyqtcDGyMvQzca9sKegmpeRh4F9e3p8hISBeWtbRDUoKDRAU15kaGlrbHF6gIWGg31wa2ttdHd2eoGIlpODcFBCRD41NThGYXKAh4WKkJegop2akpels8XT3uXq5tzPt66wr7KtoZiOiomLkpCKfGNRPjQuMT9LWmJiY2Jmb3R4eXh3dHR3eX98c2tgYm57lJJ/Z0IrGRUeJzNDWmhwc210h5SmpZKNiZWxxt/r6+vp3s7Eu7nBwsG5p52TkZianZeId15PQT9GT15mbG5rbG10g4mIiYiHg4GAe3ZtXlZPWHWDk4loSiATFRQdJio3T1tgZmZzjpqfmYKAh5q+2Orr6+nb0ca+tbS8wbakk4uQkpaVkId3aVhPSU1bZ3Z+hIeFipOYm52dnqCfnZeNgndoVEk+SnB+iHtYNBUUFBQUFxkmPk5bYmBtiZaemYCAi6LP6Ovr6uPf0rqtpqSqqKOZhX15fY6RjoV0Z1ZQUVlqe5GepKafpLS7vb26taynp6CUiHlqWEs8P1JjgIJ0UxwTFRQUFBQXJjpWZWx1e4WZmomDd4m62erq69/Etq6kmZWam56TeW5oanh8f3ZfU0dHUmBzhZuor7SxtsDL3ODY0MS9u7KklYBwY1ZFRlRlg46XgEQcFBUUFBQZJztXa32DeH2Qk42HdICoxOPq38+zoZGEd3Bsbnl4bmdeXWVlY1lGPz1CTmB6kaq4v8Cztb/I1trY1MvDurCklYF0amRfYWN0lqnCsHNDFxQVFSs/TV5xgZaZh4eRlqGbfn6Mo83e5tq0m4Nyal5OTVxhZmBMRURGUFBIPy4yRVhvh6e5xcjEvaups7nAvrSuqaKYjHxuXVlfYmFsfpW9xsWlWzEYFSo/V2t+jp6mqKaenJ+clJCHkazC4uPMtZJ9cGRYUk9SXmFgWktHSktPSjw5OkdieZWlrrGsppmSi46doaGdkYuLhXtxZVtNTVVieImbrMPHv6qDXykeNEx3jJGdq7TAuqGWkI+ZmIqQo7fa39G7k3xrYV9fY2l2eHZvXlhaVk9HOTg9TGyBlZ+fn5uTg3x8f4mMioZ8eXt3b2ZXUExQXmt9i5iksLa9sZl3OicwQWh7gY6iqq2nlop6fZSak5mjttnn6963nIN2c3N3fYiQnZd/bllRVE5APj9Nan6SnJ2dl5GGfnR2go2foZePg3dqW0ZBR0tRWmF1lbDZzZRiIRMWFC1MYn2era+rmJSanKCdjZOmv+Xr6+fDpIh2aWJfZ3+Ii4Z1a2NZUEY2NTxNbomqurzAxLyom42LlJqio52Wi4B4Z0o7LzFCTlxqd4SPmaalnoxvSxkWNVJyiZynq6qkmIF3dHqOl5ukrrzY1r2kemdjYmdxg46anJqLbFpOSU5PS1VrgqGvsrOvpZKEdXR8jK22sqqZiHNjVUtDQUNNYHCAkKCwy8KedzgdFSBGY4Scrri8t6WVenJ3fYmTna/N2+bWpoNXSE5WZ3WEkJ2ZhXRcUE5HPT9IWnqTsby3rpuNe3Fpb4OSpKijmYl4Y1NGOyswRllzhIyevcfMtH9MGBQaOnaRlqW6vrWnin54e4eToLDD1urq4cebfl9abXqJlqWssKWJc1pJPjs9Sl96pLa5taWYiX1wbG97l6Kno5WFblg9JRQUGS9TaHWEkqPBvqSFVTMWGkJljaa1vb+yk3xgXG57i5ihs9Pe49OqjGlZVVx0h5qqusWzlXZrXk1KTlpukanBxLWnkoJva3B6j56ys6eYf21eSzInIi5RYWN1k67c06FlGxQVFjdXcIebq8C1hnBfYXyHipaiwOjq7NyYclhPWWBreY6dsKuOfXBhU0UuNFFum7TFxrGnopV9c253k6Gur6iekX1gRSIVEyRTcpKch5K5xMuwcEUbGkFgh5aOlKamn4ZIPVRtn7Gms9Dj6+fJom5bY2yAjJGeurifhmBOSkdMSjtEX3miq5uRgn2BfnF3i527wLOljoKCdmNQMyw5Qk1efIuXkG1rhJCmlmA/Gh9PbIyVgoSUkYBwT1eCocrRtLTDzePauKB+epGcp6yqqa2jkXlQR1ljc3BVV218j5GFf3t5eXl1fpaluLillHpwdWxdUDs5Rk5VYXZ9gHROT2yDsqdpPRYWPV+EjXd5iY+VimVnhJ3Jz7CssMHo5cGlgnqJk6OlmJWZkoNvSEBRWWdkTE9jdZWbjYiChI6SjpesuMbBqph+dHl1bWJNSlhcW11eZHVwTU9kgb/AlmQcFBo7gJBzeJCYm5FybHGEsrunnomZ19/Irn5vdYCho4iDiouSg1dMVF14eF1ZXGuOmZOPgIKUmZOVmaO6uaaWenF2d31zWE1KSU1MQkpncnVwVWKUr9a8WCwWIF+AmqCGjK+wmoVcXYKWrq6LjqnB5+GylXZvgIqcno+QnpiDcFBOZnB8dFFNWmiDin97dnmJjIOHlJ2po4h8cXB8fn50XFJOTVBWXWyMkoR7ZnSsvMehNhMUI3SQhIJ5fpiPZ1Q9S4OetbSMmNTn7NiZgHaAqbavs7u+xbODZkZEZG90b1VWbXiDf2RfZ3GFioCGmJ+mn4d9enqEgHBmWlheX11eX2iBf2VfXW2Vo6uPPyEXKm+EfHtydYt/UEE7U5eyurmcqd/r5c2SgomXvcjDwb22s5pkSjY/b3+Fe1ROXWRzbVBMVmaJlY6Toai0qoh7d3ySl5WOfXVzbmVhWl9zfIN7U1yOrNvHbjsYFzVXhY92d4uLg201OGiOxtO5uL7L6ObMsIB8n7DFxKqjrKGMcD4vN0l3gG9iR0ZfY11ZS1eAkJOWkJerrJ6UgoWcprCoi3xxZltWVVdaZoOHemtBUJe00rE9FBUcYI2vrnpzjolwXjlOo8rl4bCrxtPp3a6Sc3eitsjCoJKQf2NKIyE9VYKGZVZGRFNWUFNVZ46fo6Wfoq+qlYuBiamxrqB/cW9kUkpHTl9qeHlwZUlXjrPm1ntHGh9cg6+zi4GGho59Rkl7oNngtqmhrNvcv6R0cJKmxceun5OFeWVBOD1RhY55aUxHV1xgX09af46Qj4CEmJyXk4iNo6y3q4ZyZFpWUk5SYGl0d3BvY1daUHau48xTIBUbT3KQlnt7kIx3YjdBe6PZ3KSetMHd06KMeYKrv9LNq5yajHljPDpXb52dc1xCO0lHOTg8TnSEh4mDhpKUkZCMlrW+u66NfHFpZ2VhZ3mBhISAeWxiTViBn9rBUCAVG1ByjJF6c3Zxa1wwQ5LC6Oarn7rH3tKgj4iUvc3WzaubmIlwWjg6XXKSkG9VLSMyNC41QVd/kJWUhISQlZOYnqzGzcu8loFyaGNgXmBma3VxYVlVUEJSeaHh3ZxmIhYtUJOpnZuVk5mHVU9ih9Xr39W5t8/QyrWCfp+009jKu6WPeWE+NTxRhY57ZTkrMTQ6P0BRdoqXmIeEiIyVmJObsbi5rY16aGFnZ2RjY2RnZF1XTk9ZYGJxi6bfy2o1FhpNfrzOtaujk31qTFeIsePs3s63tMzAlIWCja6/zc/Es5mBZFE+RGd6kotmUDguMTQ6R19wgoiFfGNgbXmOmJiiurmmkW9hX11hZGZqcnNzbV1ZXWBma2t3jabgw0gXFRpJe7zNs6KKdmRTNkaBrN7p1cawqK+pl5adrcva5d/KsYxzW1Vfa4SOlodcOxgTFyApPGBxeXlrY1hYXmp/kaa1yMOlkHJreXt3eoeHgHRcUlBRWWJvdnaAkaLAt5FkHhUoVKvHu7CXgGFRSFJqmeLr6+CunqaosbOutsvX5+HGrpB7Z19kanV/k4poRxsUFB02R1VlgH5gUUJDUmaJnqy2vb22p4l5cG1zdnt6d3BjXl5ZTE5cbYiUk5+7vbOWXDkVJ4Cuz8uXe15QTFZtjb/g6+rMrpGMoqmrsrvG2t7bxpd2T0ZXZHmFjY2OczQUFRQbOmR4fXtvXDItQluJn6uuqJ2KeWRbWWN/jpyelIt9cmRia3B2e4CHlJJ3gKi/5tB2TCk9mMDdzoJjWVRcYmB/y+nr35x1V1mDlJuntMLY2c26mIiEf36AhoqSiXNUIBMaKUZcd3psVCcTFRUVNGyMnaagnpiXmJuhp7OypJyUkZOVmJyhopqdrK2pmGxoiZeunFc7JTqQp6SDLBIWFSE1S3Ctz+fcn4qElc7f1dbY2uHWu6aKg4yXuLKLbk82JhQUFBUSITxIUlhWSUAzOU9niKO8zdre1dPP1OLk3tbMu5+IbmJhZ3qEjJGajGBLPD5hWSwWFRZBd7S/m4BSQkhWdY2kv+Xo0LeIh67K6OvfzLabdl5LQDpDYHB/f25qcWhTOxcYMVCAlJSWlZCHfmtwh6LW4Mm2lYeDhIuYs7m0n3RSJxsoOmF0foSBhpSUhX9zhLzM0KxEJClCip2NgWdic2xUQSAkTGB3dU9ScYintbO/2N7bzayel5+7zN3f0snGsYppOjdicWZTQTNDSTkxISY7Tm1vUktJV3yMjZimtczQw7moprK2uraonpOIfHNnZ3F5gomdgzcTFRUVEzhgbHFlXk5RZXmSrMzg6unS1Orr6+vr6+rcz8K5q52JaFtaX3J0cl4vFRQUFBUTJlFoeXROSFBpn7zQ1sfDx8CuoZKNlZKGgHqAmZmLcD0dFBUUIDtKTlpofKSkhG1IRmB+scze3L+3vrejn6avwcnTxJZ/am2Nnq60tKqSfmdZTVJofZuoqqOOgnZ1gYWGhoKCiIFwWTQjHCAyRV91j5ulj08nFRUvRExTVF1re5SgnaSztKaglaXY7Orr6+rt3aFwNyg/WZaff2c/Mj0+PzwrOmt9fXpkcJi64uzq6+np6+vr3r6ytbK1pH5nVkQvJyQzWG6LgE8hExUUFBQVL01le5Sbi4yTnKuwq7PE1+vr6uzcxrWmmopsbIyVmIdVTmtzgGowFBYSO3KNlHFqa3aVnZGbtcjl3a6Ud3untbaulYyNi4eKj5/Cztm8cjoWFRQVJTlMW2VtdXdzbGBYS0xXbpm21NrNu5iFeXZ/hIuOkZCLgnFteHh1bFZUYHCPoai1yc/Tv49rNj2CpMe+gmE+NENHSUxLWXyJiIh6ibTO6eG4jkk4VGR9i4ycvMvWyqGKdW53enuDj522tqSKWUA0MT9HT1NTVVdVTU1WWVpcXl9YY36VssHEx8e/rKCQkqexu7ijn6yiiGo6JhsubYyloXdnXGWNlIt5TEBNU1peVmqeu9TYw7ahnrKxm5+x1O3q6+q+k3poYV5jZ2xygnhWNhYUFBQaHRYeM0dhb3J6gYiSlpWWlJywu8TFwLWhj3hsamx0f4uds9Dr6cWCKhIXEidhiJ6flG5fXWN1h6GvsrnBx8jR5uvo3Maxk4eJiYyOkJOZl5OCYUozLDA+XXaWpKSinYtoU0JAUVtqcG9rZVtNPSIaHy5RZnaDjpmirsHHy76gezgtTmeIpMLRz9Pe1r2njHdZaKnO5+rfv4VjS0BBS2B5qbKiilZDQk93hYB+cXiUoaWutsTg4tS+lYByd5WgpqOXhm9YPSMTFRQUJ0Rkd3+GkINhPBUVEx1Rc4yepKy1ubu3qqShoaassMLj7Ors3LeZh4V9d25TY6W5uZ9fNBcUFBYtUoSr29+7mmFSZHSTprTAzMvArYd0amp7fHNsYF9jbHqSvc3XvoNBExUVEzlic4efnYFsUUZHTmF1jaS7zeHi0r2XgnN0iZOXobO6vLanmIR4bW6AhIB+c4GtwtHOvJhOMi8/b4ujr7KpmXEqExYTKVyQqKKjnabKxZyFc2RQUml6jZqhqLWxno1za3RzaWhle7LJ18madEMrJCpEWnKKpbWfe1hJRUJKV2l+nLLL0MK2n5WSkpOhw9Pg1rOQVktxdnBdLyIsNDpWjbTi48eIIxMXEyximLe9xtDBlHxoaH+Us8na6evp7diSbFxVYmlxeIGDgXlmXFxTSTQWFBk1aIinsaCZlYZlWVZlj6e7wLWrn410WzUpLUBrjrzJtbXHvpyGdGBCPE5aaG9rdYyUmY5oXF1lfY2Trt/s6ezetoRtbG55jKzD5N2ti2NPTktPTkNOcIempYBwY2Nzdm9zfIaYmpGFbWVuZldDHhUhLTxTeY6dmHNxipm1qnpZJSpoj8fGjG1LSGd2f4+sta+nkJGlut/q5tKjinl1fIusvc/FnX1RRV1jZGNYZIucpJ+EfYODhIJ3gaO1ycKfglVLaGpkVTQqMjc7RlxnbWlMT2l8o5hbMhQXP2GAinp+jpWdl3p9lbTk69rJtbTHz9nXybaYhndzeIGVm5mOdGJRRj89OU6DoLy8l4uKipCSi5rE1+fdtJd1aXh0ZVhCQltfWFA9PVNVRExlfq6oekIVFhIodIxxcHt9fHViY3GGtL2mnY6d2efax5yLhpTL1Lyog3R1cmt0lpeAaTw1SmGKn6itq6adjWZoi6zi6M2wf213dnlvUU1gZm5kPjtVYW5sTlyRr93EWyEVFThlj52Ji56Xe2Q9PWV8mZt8eYWVvL6dinFse4WUmI6TqaqcjGxmdYShppmLbmNha4abucK7qXpwgo2dop2ep6KWgFdEPURjcXl3YWSAhXlyWm2zzN60NRIVHWuMfnxwd5qUblMpLFx8pa6Nmc/e38aBY1Jcj6Kkp6SgnYtoUTo5VF9paFNWbXqHh3Vzd4ObqK61v7mgkn+Is8bWx5FyWk5PVWFyjaHEtW1LKDmNs9bBYjggKWp3W1daZ5KOW0YzRYuosrGNmtvr69+jh3yCpbK0t7q2tZpdOBkYO09hYUhDTU5QRSMeK0JyiY2ZqrO8sop/g46qucbIwrKTdklAU2+rwcSycmeClsK3cFE9P2JwfXhQU32KjX1BQG6Ov8efn7XP6uvgw4yEqLfGwqGaqKKVfEg2OURpblxPODlVXFlRODpWYmduc3+ZnI2Ca2yCj6Ceh357c2ZgX2JodJCZlZB6gKa1xqlKJxs0jbXNwXtndXJpZVZtss7Xz6Cdv8/k2KWJam2ar8PCp5mTf1xCICNKZ5aacVxFQVNXU1ZaapGgoJ6QjpuYiYBzdoyRjoFiU1JJNzAwOExaanBsZk1bkbfn3YpYJCpynNLYqpiOiJKEU1iMtOPqyLersdfYvqmFgZupv76mmpOGd2I8Mz1Qgo15bVZTY2ZjX05cjaCloYeFmJycmYyPpK22qHtiT0ZKSEZGSUxTV1hYVE5MQmGUz71GFxUYSW6IjnN0jo+Ab0ZQjLTj6Ly20N7s47KYhIq0xtXPrZ6ekXxlPDhXb5qZbFU/OktJOTY4SXSIj5OLjpufm5qVn73GxLiaiHpxbmtma3qAgoJ/d2dZQEZriMWzRhYWFThbcXZfW2ZlYFIkNIGw4eSpn7rJ5NyqmI+cyt3m372trZx/Z0NDZXuenXxfMCIyNTI5RFqElpeUf32JkZihq7jN086/nYp+dG1pZmZqb3t4aGFhW0dRcpjf36BpIhQjRYuilpGGgYd3R0BPccDb0MirqcHEv617d5mtytHFuKOOdV0+NkFTfod6aD8wMjQ7QUNUeY2am4mFipCbn5qjvcXHu56LeXF2c21qZ2htbGVfVlZgZmVzjqrj03U+FxhJeLXGqp+XiHJfPUZ2ndnp1MiyrcO4jYB+jLPG1NTHt56IbVtITXCCl5FrVDsxNjg6RVpqfIB2b2JibXV7hI+ZqqiVg2hcXFxiZmltc3Z3c2djZ2pxdXF8lLDn0VojFh1RgcDRt6WNeGRRMDt1ndLgyLqknaWhkpCTob/Q4d7JspB4YFhfbIuWnI1jRywhJSw3SWh4gYFza15dZnGCk6y5w7yfim9nc3h9go2NhHhiV1BQWWJxd3J5hpWzrYlfHhUmUafDtamQel1ORk1eh9js6tmomaKkqquiqcHQ5uLFrY95ZV1haHmFm5RyUiETGCdIXGh2i4pyYktJWGuPpLK6vbiqm4F2dniChYeEfHNkXl9bUVNgbH+IhJK4wb6ma0cbKoSwz82dgWRSRkxhgLba6unHpoN5h42Qmai30NLGr4JjQjpOXHJ/h4iHbjIVFRQnR22AhoaAb0U7SVyCmKextrayp5OGenqKk52emI5+bVFKVV9we4KLmZRxcIqdxrZkQCM3jrbVy4dqYFtiZFp1vuLr5K+OdXWbqq+2u8PU0sSvhXNzdH2CiIuPhnFVIxQdJzpJW2RnYlJFLC9KZpWqra+oopqRgn+EkK+1qp2GdWVdXF1hZmdyjZWThVhYg5e0o1o3GSmCpLGhXUdOUVdhaofB3evfoIV6h8DSyczU2N3StqGJfXl7jYx5cndwYkwkFx8rSFZbX2RdRzonMFV1n7S3uLGpmZGMkqeyvb2zpIt5aGBiaHd+foSVk3tzcnymml0zFhZEdbK8lHVBLjM/XHWQrNffybWMhp2tws7T2ufhybWbjIF/i46OiHxybVw6JBUWMUVZXElCPjo3NzREaIi5xrGlkouOkpiku8TJwKeSdWpvdoeNiomGiJeQc2NRW4+gqYgoExU1jKicilZFTVFZY2h+q8LQyZ+UmaO7yM/V2dTHu6yglY+OioV/dnJ2a1I9HBw+SkQ/PzhJUz42JTFWdqaznJB+fY2Sj5Wkrrm2o5R9eISJkJCIhIGCiYuMg2lhXWygp5JqHxQlSIujmpJ8b2RdWGBykMvj6daUgYybv8/V19HLw7ionJCFeHN4e4CAf3FPPTEwPUA6P09YY1w8Mi8/b4iZoZmaoJ+YlpKZsbq8s5mMhH99foaGfnx6f5KUhH1yeJ6adVQeGT1iobCWe0Q2T1hbZ3eOtMPHuYd5f5C5y87RzsvHvrKmlI2SlJqYkIZ2Z1NHQD5CR01UX2FeVT43OEZrf42TjYmCfnp6fomfqa2olYp9fIiOlJSPioKBiY6cl3pydoOtqHhXKiRCXZGfjX5gVVlcYmlsgrfHwK9/dYWXvM3T08fAurOvpIyGkJinppaKgHFcUElHTE9QU1taUkk1MThDW2Zqbm9xc3RydXqEmKGjoJKPkZOXmJuZk4+Hip6inZN1dpagp5doSR8oc46YiU42LTRYaW98i5u2tJOBaHGkvtDY0s/KxL62qqOfoKyuraKHd25mYl5cWVJRVFVZVEU9NThFUGBnY2ZtcHBxcHiMl5+flI+MioqLkpKKh4WHkZWaloWDjI+YjW1TJipkg6ajdVs9OVNjc4GOnbe6p5d3c4edxtTMx7q3v7eelI+TpqyspJCCcmppa3Z2bmhhXFpTQz07QFJaX11RUFZbZGlrcnyHmZyPiYSFjJCWmp+gnZiLipWcp6mfoK+qmIJeUEtaj6KnlmBDLC1OYnODk5uglnVmWGCDmrS+t7SwrKqjk5OdqsPHvq+Qg4N/end4dGtnZ2NcUTs3QklYWU1GPTtARUlTY3GEjZCPgYCGkKOtsrKppKKfm5uipq2rm5usr6+kjXRERn2VqaaJcEc7S1VfboSUpaifjmlgbHyer7W1p6Knn4iAfISdp62mj4J6dHFwcXJ0cm9pYFZGQEFETFFUV1teYWBcW1phbXySn6qqm5CAen2DkJeZm5yZko2HiZOan6i6vbepkHlMVJq61s6Zd0w+UFpldYyeu7WObjkyU3KpvbazqaKhlXhye4quu7yxkn5oX2RpdXt+fXlyZVhFPkFGUlpkZmFcU09PUlhidYKOko2LhYSFi5ylrK2koqSnta+ShoKCh5GpsrGqnINKQWR5mJ2LeVVJTllyhpyswLuZgFhTbYi3zNDOw7ahjW1ndYmxxM7Dm31YSExTZXF+f3VnUUAtLDxJXGNiXEhFTlhocnl+gYF9fHl8ho2TmqGjop6SkJmbmZ6ssa2spq3Jz9StQhwgMWSAm5hsVklBPz0zQm2NvcKZhW1znrbO0buxq6eopJOau8/o4bOQZVBMUWl5jpWRg2hMIhQUH1BpdXViUzwzMzhGU2Nwe4J6c3dygpWXm5ydmJqipqmmmZifoqCnu8HCtZd/WViAlaiplol/a0U1LzxmgqOqloNjUkpNXXSbtMzLq52UlKCuxc7Nyb60qJ+TlKirp5h3YEc+Rk1bYmhkWEcpGRQYMUhkbWFZS0VFSlVjeoqWnZucmp2lqKamp6ekq8PJx7mdglVUgpuzuKeWemtkYmlucH2Zo56WhXdmWktUfJCcpa2ljXNEO1Btq8LCt46Ci5Kho5aSk5eloYqDg4eYlol1Tj01O1hiYV1SSD40JyUqOVlreHprZV9gaHOFlKStqq+4v9DFnH1NS3eXydfKsXVaV1ZdaX2VvMe+qXdgUlmClJ6fj46WnKuifGM9Ro2psK+ckIh2UkI1S5K0zcSKcWdphYuCfnd7jJOWkYB5e3dzZklEUV96hIV9YlFBPUZOWGmImKKdf3Z7f42OgXxwgsDY4NGbfGBab36RobK6wrKBZUlIZn6gsbSvmI2LhHl3eoaiq6KipKm9sIJbHx5cgKOupI9kRikeHTRymMDDloFwaW9zeHt5gJKboqGWkZGLgXNYVGRzjZqknHxnTkxndISDamVpcYCKnJVvX1Zfg5epsrCws6iNe2Jni6XM0riheWlrbHR5fIeiqqiadGVkaHyFiYh3f6Cy1LxgKRUWOmiaqY+Bc14+KBUdTXvE0aOFVlB5hoSEe4OdrsPGta2noZ6UeneFmczOqYVDLTxMdIOCfWpkbWtfX2ZzkZmRhWZmhJi0vLOmh3yBhpKXmZuemY2AaGNudoWJhIJ/fHl4fHt0cXB0gYJ0eY+fxrFcJBUUN2ygrIh2ZVM8MCY1X4bE0auahYOXo7O0nqO/1Oroza+GdXd/mKe4urGiinBHNzZDa4KZlXJbPThMXHOBiIuFhIiHgX59gIuPjY2NkJeYmpJ7cWpug4uQjX93cGxsbnB2g4eGf2xgWFVPXH6VvK1iKRQUNGSLm4yGgXhvYDhCf6ve7OHVwbWzpoWAi6bg7Orpx6SAa2dkYG+ZrsK1gVklFCIwS1tlbXZzZ1g5NUdaeouPlJSYpKKUiHZ0gY2fpqekm452Z1lVXGV3f4N+bmFLREhQY3KDiIF9enVrZlxplLDa0Y1lNDyRsrq7qaOummBGMUaUveDgsJ6bmaOdgHyHm8nWy7uWg311bWlma3yEjoZpVkI9R1BgZmBkcnZycGlpbnJ1eX6FkpaVkYJ9f39/gIWGiIR6cGBYVVZfZWxsZmNhYmZqb3eDjJicmJSLi5mZhomcsd3ctIk2IUFhpruknJOJgHBOSlt2r8K3rJCHjo6JiYqSpbLExriqkoV9eXl8hoyWk4R4al9VUVJVXmZ0dnBpW1ZWWmVrbHOAhoiCbmReYHB0e4WIjIR2aGNnbHqBhYR6dnNzd3uCipSan6CcnJ+gn56fmYeDh4+jqKeYdFozPYqhkoyHfXBcLy9YfLfLwLGKfoiNlpqTm7XBxsS5rJqMfnh4fIqToJuCbEs/Q0hUXm1xbmZTSD4+TFdlbnJ0cXF0c2tpaW9/h4uNiYiJh359gIWPlZmZk42FgoOFjZKXmJeUj46Sk5KPhIOMi4J/foSam5B8U0I4UazEqJV2YlZKNj9kis/gwal7cIeQmZ2Zn6u0wcG2qZSDbWVocIOMlIxyXT8zODxGT1hga2tdU0VEUVxrdn6CgYGBf3l3c3mOmJ6djYeHhYSEg4WNkJGPiISEg35+goWKjIyOkpKLiYiJiouLjI+LfHp/iaemiW01LVJvo7KiloR3bmFFTn6fytGynoJ5hYqOlJuhp6uwrJyPfXRwcn+HkpGGeWRYUVBZX2ZsdXZyalhUWmFtc3V4e36DgHNtam57g4qNioeDfnh1c3aCiI2Oh4OAfoCBgoWJjpWXlZOOjI+QkpOUk46LiIaHhX18gYaVkXxlOzJCXJyul4hwYllRQU11lcLOuaqOhIqLj5OYnaGpubqvn4FwY2R3g5WYkIVyYk5HT1dncHd3cWpcVlRXYmlxd32BhoJyaV5hcX6QmJqXjIR7eHyBiZKfo5+Yh353dnyDkZaVkYiAdnBtcHuCiouDfnp1bG16e25uc32WnZ+QYE5IYbjMppF4ZlpRSE9jgLvPxbF7aG92iZOXoK2ztbGnmHhqZ22FlKaomIpyZF1aX2Vud4iKg3ZYS0VKYnKCiIF9d3FpY1ldcX+RmJSPg315eHuAiI6WmJSPhYB8fIOGiYmHhH16e3t9fXt8g4SCfnJwdnyDiI2LfXRjaIicvLN3VCMynsG2pnljW1NKUWiCrcTXy493cXeZqK6xq66+wLuukH9ycoOPoaKVhW1bSUVQWWZtdHBdUkdDREtfanR2bWxvcHFwaWt2gZGaoaCUjYOAf4aYoaemm5KEfXl7h42TkYN8dnNzdHh7fX5/fnp4d3Z2d3p6dXd/goKBd36WreDQbzwXJIO21NSkiGxgaGpicZ+508yYf2tsi5yrrZ2Znp+knIN1ZmZ2g5ickIVzZ1tXWmBsc3p6dGpSSUVMZXF5fXt3bmpqamptcXuOl5mXi4WBgoaNmqKpqZ6YkY6NjpKUmJeOiYWBfHl4d3h3dHJwcHJydHNsam1vdXVubnl2YmJvf6Gnmn86LEltvtO1m21VTEtUaIys2uC/o3RjaXiitbq6q6arppiMenaCi5yhnZJ7aVVMSU5gbHl7cmZPREBASFNqdn19cWpgYW11e4KIkJ6hmJSPj5KWn6SrramloJuWkYuKjZCSlY6BeXN3eHNwa2lqbG9wb25tbW1ub3J3en1/goB3dHF2g5Czplk8MU+63tHAkHhuZVtheJLB0cu2eWBcY4eYoKSgoKahkoVxbn2Hl5yYj3ptY15gZGxyfH12bFpQSUtZZXR6eHRsZ2BgY2p4gYiLiomGh4qQmqCipKanrKqinp2cnZyZlZCLh4SCfnh0bm1wb2pmYmJpbGtraGhqa2xwe399fX5/g4N2f5y35tdwNhQlmc/Xz6CCZVNMTVVtqMDHtXJWTlZ9lKmumZSam6GagXh0fJujl5CGe2xjXV5ncIOHgXRWRjs8T192gIJ9bGNZWWJtf4mOj4iCdnR5gI6YpamkoZqXlJSWmJyen5+fmpCHfXl9gIqMiYR7c2tnamxucXZ4eHRpY11faXF8gHt8hIJwbG97m6esnF5NVHvc68ejdl1ST1lofJrY37KLRjRSaJGflZKMipCMgXhqbYiVoaCOgnNraWltdIGJkIx6bFpTVl1ud359c2thXFlcZW9/hYSEgoB7fIWNmKGpq6eil5SZnqirqaWclpKNhoJ+fYGAe3ZuampoZWRjZGptcG9pZ2ZobnR9gX5+f4CBhIuMf4aguOfVazEWIHmu0MuHamBVTk9XbZq108d8WT9IiKe5vKOZk5GZlYOAhpCnraidhHhzcXd4dnd7enRqVktDRFNecXZsZVxYWFpiaG93goaDgHV1fIeapKuropyVk5aao6epppuTi4aEgYB/gH56d3Nxb21ra29ydnd3dnVzcXF1d3x9fH6Eh4uJf36Eh4yLeX+hsca4eF1FXszoyKVcPkRFS1luibrHuJ5gSU1elKmmopCIioeCfG50k6S0sJOCcmttcHd+io2KgG1eTkpSXXR+f3tsYVRSW2RzfYaKiIFuZmFogZGgpJiRh4OBhpijr7GspJWMhYWTmJybkIqEf3x6enl4dnVzcG5sa2xrZmhxeoqNgnhlXmBiaG53gI+QfHZ0fqKrpo5DOWiN0N63n39uamlsdouctbilkWVffpOzuaWajYiOjYyHeXmLkIyFdWxkX19dWltiZWdiU0tDQ0pUZm5xcXBsYl9fZnqGlJaJhYSGjpOXmZeaoaSjoZ6blZOXmpqfrqmOe2JYXWJveIGGh4N4b2JeX2Z5hY+TjYuKiouMj4+Ki5SWkZGSlZ6gopuKfWVohqDZ0XtSKziTtsCsWzo6Nz5FS12BmLesZkk8RXCMq7u+uaaYiX5wcoWWt7yplnNiW1tmcH+Fg31wYUY7OEZsh7CnYjQXFBo2Y4GcpJeJb11DRmWGvNXX1MG3sK2usLO3wMC0r6+urKyyqY56YVVWWWZscnJtZFNHNjI3RGFvdnhybGBeZ3B8ho2Um6GZkp+crLaalpypzsqce0pDaH+hp417YFRWWV9qgY2YlX5wW2GPnpqLXVVufY6XmZiPhntvWV2AlrO1kIWKjpycjYN1cXp/homHh4uGe2tMQD9JbHp4eHZwY1tTUFBbeYygo46DdXOAiJGYnqKioZ2alZWdn5+aioJ9fomNjIuHgXZwb3F3foqQlJGBenp3c3R4gJGcrKeIb0Y/W3CKoMHCqX8qFBQijsnk3JVvVE5lepuvvcC4qop/go2xurKfbltdY3uFhYN8cFxOQTw9Q1NdaWtkXVFJQUJMV2Z1h4+NiXx0a2pxeYSQpKmelYR9en6Kk5yipqelop2Yk5CSj4aFi5Kdo6ymkHY+OGiAk5yclH9pQzQxRIChu72ZkJyenZeEgoybvMzTzbCgm41zaGNun6aGcVFJYGNeV0pALS9EWXyHenRuaWRhVmSSrszPrp6SjJGRjZGepKupnpF6alhVZW1zd3x7dGpYT0hNZHB5emlqdoWsq4FgKCdoiZ+rqKSdjG1aQUyAq+Ds1MKwpqWflpGIkrbJ2NW3pZaKg3dgW2ZyipGPgVxGNS83QE9bZ3F+fWZcVVhqdXmCjZu0vLmrh3ZsdZ2vubenmINyXlhfa4eUl5aMhn99g4aKjIyOl5WAgZar3NKFUR4VNVV+kY+NjHdJJhUWN2ixxqeQZ1psbmRkZHKWq76+pJePiYuGd3V5haSwsqaAallSWGBwfo6VlpGDd2llbnaCi5Kap6qlno+HhISKjpKXoqGXi3VpZGVveIeNjIqGgXdyZnCYqbWpeGJTYJi23M14PhcVNmajuaKbnYhTOCAucJ7a5badhn6LkZqcj5Srtbqxk4J6dHdvWFFRW3yDeGdCLyUkMj1MVVldZGNXU1BXbnuBiI2YsLevqJ2WkZOhqbG1ta+ilH10dnuHkJmcmJGDenRzfIGIjI+OiYJucIicx798ThwaXYWgp42AeHBtYj5EcprY6M+1fW+OmqKikpezvsO4k4F+eXh0amZmbYSJgnNMOjM2SVRaY3B1dnFeWFlfbXd+hYySl5aPhnVvcneEiYuJg3ppXVNPUldianFzcm5kY2lwe4aUm5maoJ+YkoGKscnn36B4SE2fwMjDo5GHeF5SSFmTsMa/h3R4gaKqmZOMkKWutLGhlo2DdnFxeIyUmI9uXE5KVFldYWJlbGxiXltaWV1pb25zfIadnHxwbHGGkJGVnp6Yj351cXN8hZWZkol5cGxscXZ9hZKTiH1sZnFwYWJvf6WlhF4gFCJDiaGMhoJ6bmBBQmKEwdS9sJiSoaWkpaKqwM7f38y8qpyQhn58gomcnZKBYU5EQlFZXmVwc29oWFRZYG95gIePkpCNh4N7fY6SmJ2Vk4+Ed3FxdIGDfHdzb2ppbHKBhn9+gIGEiI+RkpCKg3Rzf4ugqa6ieVssMX+ak4+DeGxZLipLaqG1rKB8bnR1dnZxepimqqqimIl8bGZpcYSSpKOKd1pRW2NwfY6VlpKGfW5rdH2PmJqblpWbloR7dXaDipGTkI2JgnVvaW19h5OTg315eHl7fIKQl5iYlZOVkouFf3+Ki4J+e32Hh4J0UUExSKbAoIlkUVFIMDZZfsTYuqR6boKKk5aPkp6qvsCyo4t5Zl5hZ3iAioZzYUQ2NThETlhicXJiV0ZEUl5teYWMjIuHhH5+gYiao6ioopyUkI6PlZibnZ6bko2KiIeIjY+RkYuKjo+MioqHgH1+gpGSgHt7gqGgg2g0LVVym6mZkYZ7cGI+RHeaytOwm352iY+MjpKZp62zrpiJeG5qbXqCjY6IfWZXSUVRWWNqcXJwaFJLT1ZlbW9yd3l8eGljZGl4f4KFiImGgnp2dXiCiZGSiYWBgISFg4SIjpebmZaOi46QlZiYl5COkI+Pi358ho2dmoVwST9OZ6O0nZB9cGlfSlF2lMDOvrGXi4uLjJGaoKGnubqwn35tZWZ1gZOWi35mVkdAQEdbZm9uXFRRT05RWGFudXR3fn1zbmdpdH+Nl6Kik4l7eYSLkpmhoqCYh313dXh8iIuKhn12bmlmZ250fH54dHBrYWJ0d2tpbHaNl52RY1JKYbvTsZ6Ec2pjXGN1kczh1cOQfYWLm6SmrrrBysi8qoRybXCGlq+yn41wXlVQU1hkbXp8dGdOQDM1TmB4gn17dnBlXlBVcYSaopyWi4N6eX+Gk5mXlpOOiYJ3c3Z3ent+fXhza2hqbXF2fH+AfXFtbnJ8gouKfnVkaY2hv7Z3VSk4o8e4p3tjWE5ESmJ8p77QxIduaG+Roaaqo6e4vLqukH9xcoqYqKqcj3xsW1ZfZ3N9jIt4alZNTVNpdoKFfnp2cm1rZ2x7iJeenpmIgYCAgoeSmJ+dkouFgHx7foGKjIaBenZ0cWtrdHl+fnVxcnFsbXR4fHx1cnRyZWyGntjKXSQVG2+oxcqkiWFSX2Vldp642NaiiXd3l6ews6elra2to4l6bGt7h5mdkYVwYlZSWF5nbXJyb2VMQ0ROand7fXt4cG1ucXV6foebo6Kek46NjZCWpKyzsaKZkY2OkJibnZmLhIKAf359fHl4eHd1dHBwd3dubXJ3gYFxbnl5a2x3hKGlmYA+LkZoutCtkV5FQkFEVHORxs+nimJSV2OHmqOmm5icl4l/cnF8hZOZmpJ8a1dOTFJpd4WHeW1aUU9SWmV7hYiHfnlxcXmAiZCVmZ6emJaXl5eZoKavsKqmoJyalpCOkJGSlI6Ee3d1cHBuamdjZGptbW1paGlqa21wc3d8g4N6dnB1h5a3rGFGPVrE6uHQnYFzamdwiqPM1savemJcYoOTmZqQjpaUi35gV2BrhpCOhWtdVlNXXGRreXpwZlVMRkhUYHN8e3drZWBhZ258goCChYaGh4mOmZ+jpKGhpKWhoaWloZ2YlpyZjYeGhYiEdG94ent4bGpzd3x8dXNyc3Z6hIeCgYSEhIJ3f5y05dZsMBUgicLRzZ5/XElHSVFporq/rm9UTVR3jqeum5aanKOdhnx1e52nn5iKfm9mX19ncISIgHNVRTw9TVtwfIKAbmNVVGFtgIyWmI2EdHF5gY6ZpquloJSPjo2Qk5ial5aYlIqBc292e4KDfnp2cmtoaWptcXd5eHVvbGtscHaCh4iJjolzbnWBoausm2FQWH7d7ciic1hNS1lqgZ/a4rONSzlXb5qrop2RjJCMgnprb4qZpKSShXRqZWVpcYSLi4RwYlBJTVZqdXx6amFaV1dbYmx+hoWEgH14eoaQmqKoqqSfk5CWm6eqqKSZk5GNioaDgYOBfnlwbW5vcnJubW5xeHhxbmlrdHqChICAg4OAgYeKgYiftuXWaiwVHXmxzciDZWBWTExUaJSuy8B6VjpAfZuwtZ6VkY+VkHx4hI+jqJ+Vf3NsaW9xbG97fXlvU0dESFdicHRtaF5aV1lfZ3aBjI6EfXFxe4ebp6+xpp+UkZWcrbS0saadkYuMjJGSj4yHg4N/d3Jub3p/goJ7dWxpamxydnp7dnd9gIB+cnJ/hIWDcXaarL+0eFtBVcDevp9eQ0lMVGN6k8HMup9iS1Fhlqqln4yFiIaCfW9zkJ+rp4l5bWdsb3N4gYOBemxeS0VLVGt1dnRrY1dUWmFweoWKioZ5c21ziZioraSelZGMkKGrtrixqZmPh4aPlJuZj4d+d3RycnFxcHBtaWZlZWlramxvcnZ4eHh0dXl9foGFiZWTe3V3g6qyooc6L2iQ0uC0lm9aVFRebYaZtLeiildNb4ixvauhkoySkY2Ie36bopqRf3RrZmNkZ2x2d3BnVEpFRlBabHNzcGhiWVlhan2Hi4p8eX2CiY6Vl5KRk5WZmpaVlZabm5WRjIuSk5CMg4CFhYJ+dXN4en18dG9rbHN3e3x5eHd2dnVxdIGHjY2EgICBiIqIhn2EnbHd0npRMUOt2ObTe1JJQklSXXGZr8S2akpCS3WPp7Groo2Be3VvcoORqqyWhW1hXV5mbXh8e3RjVUI7P0lhb3l5aF5QTlpkcn2JjISBfn+DiI2Voqiop6Gfnp2anKWopaGZlpeVj4yKiIWCfnt6d3NwbWxvcHJzdHRzcnJ0eX2ChIGCi46PjomKkZaRjJKQlpqGhpalycOLZjUuXXukrpN/Xk1ISVRifI6kppF9U0xofqOvoZiLhYiHhIN/hZyimI9+dG9sa213enh0a2RbVVFTXmRrbWViX15fZHF4e3t1dn6DhIeMkJKVmZyhoZ2cnJ6lp6aknpmUkI2Kh4eLi4qGfXdzcnV3eHp9fXl2dXR0dXh7goWBf319gYKAgIGEjJCSkY+JeXeAjaqwppFcRT5NiqWspIFnRTk/UoWgsK+RfGFXWmaGmKWmkYiFgoCAgoaTlpCLhX95cmdlb3WAgXhwYFhXWF5jbHFycGdhW1xjbHmCjY+FgX5/h46aoaSkn5uVlJaYm5uXlI6LjYyJh4WEhIOAfXh3eHl+fnt5dnV4eXh5eXyDh4qKhIKChIaKk5ebmY2HhYF3eo6durR7X0hMf5Wcmoh4XVBLU3GDjpWaloR2YGGAkqarmJCNi46NhIOMkJOSi4V+dmlla292d3JuaGFWUlRaanFycWplXFxncHuBgoOAfnx9gIeXnp+emJSOjZKWm52fnpeTjouIiI2PkpGMiIOAgoKDg4OBfXt7enl4c3N3eX19d3Z6fHx9f4KJioWCfH6Lk6CdhHhtcY6boJ2MgXZvbG11fpGXlI6Aend6ipGUk4iEhoaFhH+AioyJhHx3c3BsbXN2fHltY1VSWl5fX11dYWFaWFhaYGZscXR2dXd6foOIi4+VmZucm5uYmaCjo6Kem5qYlpWVlZWTkI2LiYaFhISEhYWEhIJ+fHh5foCBgX9+e3p3eYCEhISDg4aFeXyXoKOXa1xha4eSjYqFfXBpZWl8hIaKk5F+dW5xhIyPjoeEg395d3l8gYOBfnVwbmxsbnR1c29lY2doZ2ZlZmpsbW5xcGloa3F7gYKEhYWDg4CDj5abnZuYkY6PkJOVlpiamJGMiIaJjJCSk5GJhYKAfn19foSFgX98e31+f359fH1+gIKDhIODg4SKi4mHf4GPlp6agHd6e3+AfX+Hh4F6amdxdnd7h4h9dmxseX+AgH9/hIN9e3x9goSDgoKBfXt9fn9/e3l8e3Zzb21vcHBwbWtnZmpqaWhmZ21xc3V0dXh7foCChYiMkJKSk5OVmJqbm5ubnJ2dnZuYk5CQj46NiomIh4aEgX57e36AgIB+fXx8fH2AgH9/gIKEhoaFgYB/gYeMkpCBe3l4dnd8gIWDc21xcG1sanCKjntyaml3fHl8iI6PjYJ9fHx9gYuQkY2BenVzdXZ4en59dW9oZWdoamtra21tb25paGlsc3l9gIOEgH99f4aMk5aWlpSSj4+UlpiampmUkpCRlZWRjoyKiIeHiIqJg4GDhIaGgYCDg4KBfn6CgoCAgICBgX5+gYF8fISGiox9eHd1eHl6fH58cm9zc3BxdXuJinx2dHV5foWKkJCFf3t6gYSFh4uLhYF8eXl6gIF9e3l3dnRwbWtqaWlra2tqZGJjZWptbW5xdHZ3d3l+goaJj5GRkpOVmZyfoaCfnp6goJ+enJubmZSPiYeMi4eEgHx3dXV1eHp7e3d0cHB2en+Ae3yChYWFgIGHioiJjI2QjoWAfXx+f4KCgHxvbHF0eXpycnt/gH50c3yAgIGAf35+f4CCgn9+gICAfnl4fH18e3l4eXh2dHJxcHF2eXl4cm9wcXFzenx7eXV1eHp7fYGDgoGAgIKDhoeHiIuMjIyKioqLjo+OjYyLjIuJiIiJjI2LiIKAg4WHiImIgn9+gIiLh4WDgYKCgoOGiImGfnyAg4yOiIR7eHl6fn55d3Z3e3p0cXBzfYKDgnt5ent+gYaIh4eKiomHgX+ChIaGgX9/fXp3dXV3dnJwbGtpaWprbm9sa2dnbG9zdXV2eXp6e3x+f4KFh4mKiYqLjI+RkpORkZCQkZGPjo2NkZGOi4aEh4eGhoaGiIiGhYSEhoiKi4uKiYiHh4iJjI6Qj4qHhYaKi4qJiYiGhIB/g4SAfn59e3hzcXRza2lvcXRyZmRwdHV1cXF3eHR0d3p+gIKDgH99foiKhoSAgIaHhIKAf4B/fXx8e3h2dXRzc3R0dnVzcnFydXZ1dXd4d3h5e3+BgYF/f4KFiYyNjo6Pj4+QkJKTlJSSkZKRj46PkJGRkI6MioeHi42Mi4eEgYCAgoeIhYOAf4B/fn5/f35+fX2Cgnl1dHZ9gH9/fn16eHJyd3l7e3h3eXhycXV3e3pwbXJ1fHx2c3BvcHJ4e359dnR0dnx+fX6AgIGAfHt+gIOEg4KAgYSFhIOBgIOEhIOCgoODgoGAgIGBgICAgIGChISDgoGBgYGCg4WGh4aEhIiJh4eHiY2Pjo2Mi4mKkJOWlY6LiIeIiY2PkI+JhX58gIKGiIeEfXl0dH2AgYB5dnV1dHV8f4B+dXFzdXp9fn59em9sdHl/gHp4eXl2dnp+hoV4c3V1dHR1d35/dnN3eHl6en2Gh3t5fYGKjIaFiImIh4iJjIuEgoWHiYmEgoGBg4SEhIGAgIB/f4CBhIWCgH9/gYF/gISHioqEg4OEhoaGhomKiYmIhoSDhYaHh4SDhISGhoKAf3+AgoWGhIJ/fn+Ag4SDgn59gIGCgX18gIF+fn+BhoV9enl6gYOBfnl3eXp9fHh3eXh2dHFyeHl1cm5udXZtbHR3dXNtbHBzd3l5eHZ3e35+fnx8f4CAgIGBgYOHiYyMiIeKi4yNjo+Qj4qJjpCRj4mIjI6PjYeGiIqMi4WDgoKFhYKAgH9/fnt6enp6enp6eXp2cnV1dnVyc3Z4eXl4eHp7fX59fX6Ag4WGhoSEiImGhoeJjI2LjI+OiYaCgoiKjo2Ig3p3f4GDgn9+fXt3dnh7gIB5dHBweHt8fHd1dnZ3eHh5e3t3dXd4e3t2dnt+gH94dnd4foB/fXd2fH+BgX9/goOEg39/gYOFh4uLhYKBg42OhYKDhY2NgHyCho6OhIGChIqLhYKAgISGh4aDgYKCgH+AgYKCgH9/fn18eHiAg4J/eXd8fn5+fHt4eHt9f397en1/gYKAgIGCg4KAgIOFiYmDgYKCg4OCg4aGhIKBgYSFgoB+foODgX54d3l6e3x/gH16dnV4ent9f4CAfnl4ent9fn+Afn5/f359e3uAgYF/e3p+gICAfn19foCAfXx9f4ODfnx7fYSFg4F9fICBgoF+foGChYaFhYOCf35/gIOGiYqKiIJ/f3+DhomKiIaBfnx9g4WGhYB+fn5+fn59e3p8fYKCe3h3d3x+f3+AgH9+eXl9f4GCgoKDg4GAfn6AgoaHhIOAf4CAf4CBgoSEg4F9fH6Ag4SDgoB/f398fH6AhIWBf319gYF/fnx8fn99fH5+f356eHl6foB/f4B/e3p7fYKDgH5+foGCgYGAf35+fX1/gICAgH98e3p7f4CAf3p6gYJ/fXh3en1/gYOCenh7fYCAe3uBhIaFgX+AgIGCg4OAgYWHhoWBgICBgoOEhYaGhIJ+foCDioyHhYSDgYCBgoiJhIKBgYWEfnt7fIOFhIN/fHl3ent+gIGAfHt+fn18eXl/gIB/e3t/gH9+fX6AgYCAgYGCgoB/gIGCgoKCg4OBgH59f4CBgYB/fn1+fn19fX1+f39/fn5/f39/fX1+foGAfXt6e3x8e3x/gIGAe3p8fYCBgICBgYGBgYGAgIKDgoKBgYGBgYF/f35+gYGAf4B/f4B7en1+gYKAf39+fHt8fYGCg4ODg4B/f3+AgYODgYCAgYSEgH99fX+AgIB/gIKCgH9/f35+gYOGhYB+f4CDhYSEhYWEg4KBgYGDhIKBf3+Dg317fH2BgHt5ent+f318e3p8fHx8fH2AgH59e3t+gIKCgH99fYCBgYB/f39/f4CCgX9+f4CAgIGAgICAgICAgICDg4GAfn6AgH59f39/f359fn5+f39/fn58fX+AgoKAf39/gICAgYSFg4F/f4OEgoGAgIKCgYCAf359fn+AgIB/fn5/f39/f3+AgICAf4B9fX9/gYF/f4CAf399fX5/gIB/fn19f39+fn9/fn5/f39/fn6AgH9/f4CAgICAgIOFhYGAgIGCg4SFhISEg4KCgYGDg4KBgICCgoB/fn+BgYCAgICAgH59f3+AgH+AgYGBgX9+gICBg4GBgH9+f4GCgoKAf4B/f399fX1+f4CBgH9+fX18fH5/gIB/fn18fn5+fn19fX19fX5+fX18fH5/f39+fX19f3+AgIB/f39/f39/gICBgYKCgYCAgICAgICAgICAgICAgICAgICAgICAgIB9fH5/f4B/f39/fXx+gIGBgH9/f39/fn5/f39/f39/gICAgICAgICAgICAgICDgYB/f4GCg4OAf3+AgIB/f4CAf3+AgIKCf35/gICAgICAgICAgICAgICAgICAgICAgIB9fX5+f39/f39/fn5/f39/f39/f319f4CCgoB/f3+BgYCAgICCgoKBgICAgICAgICAgICAgIB9fX19fn59fX5+fn5/f39/f3+AgYGBgYKDg4KCgoOEhIKBgYGDg4GAgYGBgH9/f39/f39/fn5+fn19fn5/f359fX1/f35+f39/f39/f3+AgICAf3+AgICAgICAgICAgICAgICAgICAgICAgICAgICAgICAgICAgICAgICAgICAgICAgICAgICAgICAgICAgICAgICAgICAgICAgICAgICAgICAgICAfX19fX5/fn5/f39/f39/f4CBgYGBgYCAgICAgICAgICAgICAgICAgICAgICAgICAgICAgICAgICAgICAgICAgICAgICAgICAgICAgICAgH18fHt7e3t7e3x9fX18fH19f39/f4CAgYGAgICBg4OCgYGBgYCAgIGBgIB/f39/fn5/gICAgIB9fX9/f39/f4CAf3+AgICAgYGCgoKAgICAgICAg4ODgoGBgYGAgIGBgYGAf35+fn5/f4CAgICAgICAgICAgICAgICAgICAgICAgICAgICAgICAgICAgICAgICAgICAgICAgICAgICAgICAgICAgICAgICAgICAgICAgICAgICAgICAgICAgICAgICAgICAgICAgICAgICAgICAgICAgICAgICAgICAgICAgICAgICAgICAgICAgICAgICAgICAgICAgICAgICAgICAgIB9fX19fX1+fn19fHx8fH19fX1+fn9/f39/f39/gIB/f4GBgYGBgICAgICAgICAgICAgICAgICAgICAgICAgICAgICAgICAgICAgICAgICAgICAgICAgICAgICAgICAgICAgICAgICAgICAgICAgICAgICAgICAgICAgICAgICAgICAgICAgICAgICAgICAgICAgICAgICAgICAgICAgICAgICAgICAgICAgICAgICAgICAgICAgICAgICAgICAgICAgICAgICAgICAgICAgICAgICAgICAgICAgICAgICAgICAgICAgICAgICAgICAgICAgICAgICAgICAgICAgICAgICAgICAgICAgICAgICAgICAgICAgICAgICAgICAgICAgICAgICAgICAgICAgICAgICAgICAgICAgICAgICAgICAgICAgICAgICAgICAgICAgICAgICAgICAgICAgICAgICAgICAgICAgICAgICAgICAgICAgICAgICAgICAgICAgICAgICAgICAgICAgICAgICAgICAgICAgICAgICAgICAgICAgICAgICAgICAgICAgICAgICAgICAgICAgICAgICAgICAgICAgICAgICAgICAgICAgICAgICAgICAgICAgICAgICAgICAgICAgICAgICAgICAgICAgICAgICAgICAgICAgICAgICAgICAgICAgICAgICAgICAgICAgICAgICAgICAgICAgICAgICAgICAgICAgICAgICAgICAgICAgICAgICAgICAgICAgICAgICAgICAgICAgICAgICAgICAgICAgICAgICAgICAgICAgICAgICAgICAgICAgICAgICAgICAgICAgICAgICAgICAgICAgICAgICAgICAgICAgICAgICAgICAgICAgICAgICAgICAgICAgICAgICAgICAgICAgICAgICAgICAgICAgICAgICAgICAgICAgICAgICAgICAgICAgICAgICAgICAgICAgICAgICAgICAgICAgICAgICAgICAgICAgICAgICAgICAgICAgICAgICAgICAgICAgICAgICAgICAgICAgICAgICAgICAgICAgICAgICAgICAgICAgICAgICAgICAgICAgICAgICAgICAgICAgICAgICAgICAgICAgICAgICAgICAgICAgICAgICAgICAgICAgICAgICAgICAgICAgICAgICAgICAgICAgICAgICAgICAgICAgICAgICAgICAgICAgICAgICAgICAgICAgICAgICAgICAgICAgICAgICAgICAgICAgICAgICAgICAgICAgICAgICAgICAgICAgICAgICAgICAgICAgICAgICAgICAgICAgICAgICAgICAgICAgICAgICAgICAgICAgICAgICAgICAgICAgICAgICAgICAgICAgICAgICAgICAgICAgICAgICAgICAgICAgICAgICAgICAgICAgICAgICAgICAgICAgICAgICAgICAgICAgICAgICAgICAgICAgICAgICAgICAgICAgICAgICAgICAgICAgICAgICAgICAgICAgICAgICAgICAgICAgICAgICAgICAgICAgICAgICAgICAgICAgICAgICAgICAgICAgICAgICAgICAgICAgICAgICAgICAgICAgICAgICAgICAgICAgICAgICAgICAgICAgICAgICAgICAgICAgICAgICAgICAgICAgICAgICAgICAgICAgICAgICAgICAgICAgICAgICAgICAgICAgICAgICAgICAgICAgICAgICAgICAgICAgICAgICAgICAgICAgICAgICAgICAgICAgICAgICAgICAgICAgICAgICAgICAgICAgICAgICAgICAgICAgICAgICAgICAgICAgICAgICAgICAgICAgICAgICAgICAgICAgICAgICAgICAgICAgICAgICAgICAgICAgICAgICAgICAgICAgICAgICAgICAgICAgICAgICAgICAgICAgICAgICAgICAgICAgICAgICAgICAgICAgICAgICAgICAgICAgICAgICAgICAgICAgICAgICAgICAgICAgICAgICAgICAgICAgICAgICAgICAgICAgICAgICAgICAgICAgICAgICAgICAgICAgICAgICAgICAgICAgICAgICAgICAgICAgICAgICAgICAgICAgICAgICAgICAgICAgICAgICAgICAgICAgICAgICAgICAgICAgICAgICAgICAgICAgICAgICAgICAgICAgICAgICAgICAgICAgICAgICAgICAgICAgICAgICAgICAgICAgICAgICAgICAgICAgICAgICAgICAgICAgICAgICAgICAgICAgICAgICAgICAgICAgICAgICAgICAgICAgICAgICAgICAgICAgICAgICAgICAgICAgICAgICAgICAgICAgICAgICAgICAgICAgICAgICAgICAgICAgICAgICAgICAgICAgICAgICAgICAgICAgICAgICAgICAgICAgICAgICAgICAgICAgICAgICAgICAgICAgICAgICAgICAgICAgICAgICAgICAgICAgICAgICAgICAgICAgICAgICAgICAgICAgICAgICAgICAgICAgICAgICAgICAgICAgICAgICAgICAgICAgICAgICAgICAgICAgICAgICAgICAgICAgICAgICAgICAgICAgICAgICAgICAgICAgICAgICAgICAgICAgICAgICAgICAgICAgICAgICAgICAgICAgICAgICAgICAgICAgICAgICAgICAgICAgICAgICAgICAgICAgICAgICAgICAgICAgICAgICAgICAgICAgICAgICAgICAgICAgICAgICAgICAgICAgICAgICAgICAgICAgICAgICAgICAgICAgICAgICAgICAgICAgICAgICAgICAgICAgICAgICAgICAgICAgICAgICAgICAgICAgICAgICAgICAgICAgICAgICAgICAgICAgICAgICAgICAgICAgICAgICAgICAgICAgICAgICAgICAgICAgICAgICAgICAgICAgICAgICAgICAgICAgICAgICAgICAgICAgICAgICAgICAgICAgICAgICAgICAgICAgICAgICAgICAgICAgICAgICAgICAgICAgICAgICAgICAgICAgICAgICAgICAgICAgICAgICAgICAgICAgICAgICAgICAgICAgICAgICAgICAgICAgICAgICAgICAgICAgICAgICAgICAgICAgICAgICAgICAgICAgICAgICAgICAgICAgICAgICAgICAgICAgICAgICAgICAgICAgICAgICAgICAgICAgICAgICAgICAgICAgICAgICAgICAgICAgICAgICAgICAgICAgICAgICAgICAgICAgICAgICAgICAgICAgICAgICAgICAgICAgICAgICAgICAgICAgICAgICAgICAgICAgICAgICAgICAgICAgICAgICAgICAgICAgICAgICAgICAgICAgICAgICAgICAgICAgICAgICAgICAgICAgICAgICAgICAgICAgICAgICAgICAgICAgICAgICAgICAgICAgICAgICAgICAgICAgICAgICAgICAgICAgICAgICAgICAgICAgICAgICAgICAgICAgICAgICAgICAgICAgICAgICAgICAgICAgICAgICAgICAgICAgICAgICAgICAgICAgICAgICAgICAgICAgICAgICAgICAgICAgICAgICAgICAgICAgICAgICAgICAgICAgICAgICAgICAgICAgICAgICAgICAgICAgICAgICAgICAgICAgICAgICAgA==\" type=\"audio/x-wav\" />\n",
       "                    Your browser does not support the audio element.\n",
       "                </audio>\n",
       "              "
      ],
      "text/plain": [
       "<IPython.lib.display.Audio object>"
      ]
     },
     "execution_count": 40,
     "metadata": {},
     "output_type": "execute_result"
    },
    {
     "data": {
      "image/png": "[encoded data removed]",
      "text/plain": [
       "<Figure size 432x288 with 1 Axes>"
      ]
     },
     "metadata": {},
     "output_type": "display_data"
    }
   ],
   "source": [
    "import scipy.io.wavfile as sw\n",
    "(sampleRate, waveData) = sw.read(IODataDir+'/smashingbaby.wav')\n",
    "side_by_side('頻率: '+str(sampleRate),'聲效數據型態: '+str(type(waveData)))\n",
    "plt.plot(waveData);\n",
    "import IPython.display as ipd \n",
    "ipd.Audio(IODataDir+'/smashingbaby.wav')"
   ]
  },
  {
   "cell_type": "markdown",
   "metadata": {},
   "source": [
    "#### 在本節中，我們示範了一些關於NumPy的基礎知識，諸如純量(scalar)及數組/陣列(array)的運算。陣列有各種屬性來描述它們。 陣列的形狀可以通過多種方式進行修改，如堆疊(stack)，調整大小(resize)， 重塑(reshape)和拆解(splitting)。 讀者可以閱讀參考文獻部分提到的書籍，以探索NumPy的進一步細節和深度。這裡是[Numpy的練習題與解答](https://www.w3resource.com/python-exercises/numpy/index.php)，讀者可逕自參考。"
   ]
  },
  {
   "cell_type": "markdown",
   "metadata": {},
   "source": [
    "[回本章目錄](#本章目錄)"
   ]
  },
  {
   "cell_type": "markdown",
   "metadata": {},
   "source": [
    "## <center> <font color='red'>動手學習 - Chapter 3 and Chapter 4</font></Center>\n",
    "<div class=\"fig figcenter fighighlight\">\n",
    "<img src= \"./Data_and_Images/BookCover.jpeg\" width=\"400\" style = \"display: inline; float: left; margin-top: 24px; margin-left: 100px\"/>\n",
    "<img src=\"./Data_and_Images/NYU Data Bootcamp.png\" width=\"400\" style = \"display: inline; float: left; margin-top: 120px; margin-left: 30px\"/>\n",
    "</div>"
   ]
  },
  {
   "cell_type": "code",
   "execution_count": 41,
   "metadata": {},
   "outputs": [
    {
     "data": {
      "text/html": [
       "\n",
       "        <iframe\n",
       "            width=\"800\"\n",
       "            height=\"600\"\n",
       "            src=\"https://nyu.data-bootcamp.com/\"\n",
       "            frameborder=\"0\"\n",
       "            allowfullscreen\n",
       "        ></iframe>\n",
       "        "
      ],
      "text/plain": [
       "<IPython.lib.display.IFrame at 0x1253efa58>"
      ]
     },
     "metadata": {},
     "output_type": "display_data"
    }
   ],
   "source": [
    "from IPython.display import display,IFrame\n",
    "display(IFrame(\"https://nyu.data-bootcamp.com/\", height ='600' ,width='800'))"
   ]
  },
  {
   "cell_type": "markdown",
   "metadata": {},
   "source": [
    "### 4. Pandas簡介(Introduction to Pandas)\n",
    "> #### pandas是一個Python軟件包，提供快速、靈活和深具表現力的數據結構，可用於處理關聯數據或標記數據。 Pandas是Python語言中，深具基本數據分析的軟件包。就如SQL或Excel的表格，Pandas表格是具有異構類型(heterogeneously-typed)的表格。也就是說，Pandas的表格是一具有行列標籤的任意同類型或異類型的矩陣數據。Pandas的一維時間序列數據可以是有序或無序(不一定是固定頻率)的。在本章節中，我們聚焦在二維表格，我們稱之 DataFrames。一維的時間序列，將會在後續章節的實用案例中介紹。\n",
    "> #### 我們以一個電子商務網站的交易數據實例，為大家介紹我們如何利用Pandas的功能來處理數據。數據內容及處理數據的目的描述如下：\n",
    "> * #### 數據蒐集的時間為2016年10月,11月,12月共三個月的數據。欄位名稱其意義為 - order_id：該筆訂單代號; buyer_mobile：該筆加密後的顧客手機號碼; product_parent_id：該筆訂單購買的商品組合; product_id：該筆訂單購買的商品組合內容; menu_id：該筆商品組合所屬的分類; menu_name：該筆分類的名稱; total：該筆總消費金額; crdate：該筆訂單日期。\n",
    "> * #### 數據處裡的目標: 1.移除數據欄位內容有遺失的記錄。2.將加密後的顧客的手機號碼轉換成可閱讀的序號。3.轉換訂單日期的數據型態。4.計算每個顧客其最近一次消費距今的天數(recency)。5.計算每個顧客消費的頻率並取得消費頻率的統計量描述(frequency)。6.計算每個顧客消費總額的統計量描述(monetary)。7.計算每個顧客消費於各類商品組合的統計量描述。8.計算每個顧客消費於各類商品組合內容的統計量描述。9.計算每個顧客消費於商品分類的統計量描述。\n",
    "> * #### 在數據科學中，上述的數據處裡的目標，我們稱之為數據的準備過程(data wrangling)。上述的目標項目1~3為數據的準備過程中之數據的清理(data munging)。數據的清理，有時必須以手動的方式處理，Excel通常會是個不錯的工具，但是面對大量數據時，效能反成為是否為瓶頸的考量。Pandas軟件包提供了高效率的數據操作和分析的功能，這也是為什麼Pandas廣受大眾喜愛。這裡是[DataCamp的Pandas教程網址](https://www.datacamp.com/community/tutorials/pandas-tutorial-dataframe-python)以及[Pandas的練習題與解答](https://www.w3resource.com/python-exercises/pandas/index.php)，讀者可逕自參考。"
   ]
  },
  {
   "cell_type": "markdown",
   "metadata": {},
   "source": [
    "[回本章目錄](#本章目錄)"
   ]
  },
  {
   "cell_type": "markdown",
   "metadata": {},
   "source": [
    "### 4.1 數據集的載入"
   ]
  },
  {
   "cell_type": "code",
   "execution_count": 42,
   "metadata": {},
   "outputs": [],
   "source": [
    "TransactionDataDF = pd.read_csv(IODataDir+'/RFM.csv', encoding = 'UTF-8')"
   ]
  },
  {
   "cell_type": "markdown",
   "metadata": {},
   "source": [
    "#### TransactionDataDF是DataFrame物件(objects)。 DataFrame是一個包含列(rows)和行(columns)的表格，列的內容指的是觀察或樣本，行的內容指的是特徵或變量(註：在大陸行與列的定義與在台灣的定義，恰恰相反，這一點當我們在研習線性代數時，要特別注意)。DataFrame可以包含文本、數字、日期和其他類型的數據。\n",
    "#### DataFrames的head()方法，可以顯示前五列，head(3)顯示前三縱列，head(-3)顯示倒數三列，tail()則可以顯示倒數五列。"
   ]
  },
  {
   "cell_type": "code",
   "execution_count": 43,
   "metadata": {},
   "outputs": [
    {
     "data": {
      "text/html": [
       "<div>\n",
       "<style scoped>\n",
       "    .dataframe tbody tr th:only-of-type {\n",
       "        vertical-align: middle;\n",
       "    }\n",
       "\n",
       "    .dataframe tbody tr th {\n",
       "        vertical-align: top;\n",
       "    }\n",
       "\n",
       "    .dataframe thead th {\n",
       "        text-align: right;\n",
       "    }\n",
       "</style>\n",
       "<table border=\"1\" class=\"dataframe\">\n",
       "  <thead>\n",
       "    <tr style=\"text-align: right;\">\n",
       "      <th></th>\n",
       "      <th>order_id</th>\n",
       "      <th>buyer_mobile</th>\n",
       "      <th>product_parent_id</th>\n",
       "      <th>product_id</th>\n",
       "      <th>menu_id</th>\n",
       "      <th>menu_name</th>\n",
       "      <th>total</th>\n",
       "      <th>crdate</th>\n",
       "    </tr>\n",
       "  </thead>\n",
       "  <tbody>\n",
       "    <tr>\n",
       "      <th>0</th>\n",
       "      <td>2669085</td>\n",
       "      <td>eyJhbGciOiJIUzUxMiIsInR5cCI6IkpXVCJ9.eyJvY2Vyc...</td>\n",
       "      <td>26908</td>\n",
       "      <td>26909</td>\n",
       "      <td>530</td>\n",
       "      <td>口腔清潔</td>\n",
       "      <td>880</td>\n",
       "      <td>2016-10-07 06:53:45.945162</td>\n",
       "    </tr>\n",
       "    <tr>\n",
       "      <th>1</th>\n",
       "      <td>2669085</td>\n",
       "      <td>eyJhbGciOiJIUzUxMiIsInR5cCI6IkpXVCJ9.eyJvY2Vyc...</td>\n",
       "      <td>26908</td>\n",
       "      <td>26909</td>\n",
       "      <td>528</td>\n",
       "      <td>清潔保健</td>\n",
       "      <td>880</td>\n",
       "      <td>2016-10-07 06:53:45.945162</td>\n",
       "    </tr>\n",
       "    <tr>\n",
       "      <th>2</th>\n",
       "      <td>2669085</td>\n",
       "      <td>eyJhbGciOiJIUzUxMiIsInR5cCI6IkpXVCJ9.eyJvY2Vyc...</td>\n",
       "      <td>26908</td>\n",
       "      <td>26909</td>\n",
       "      <td>224</td>\n",
       "      <td>寵愛毛孩子</td>\n",
       "      <td>880</td>\n",
       "      <td>2016-10-07 06:53:45.945162</td>\n",
       "    </tr>\n",
       "    <tr>\n",
       "      <th>3</th>\n",
       "      <td>2669085</td>\n",
       "      <td>eyJhbGciOiJIUzUxMiIsInR5cCI6IkpXVCJ9.eyJvY2Vyc...</td>\n",
       "      <td>26908</td>\n",
       "      <td>26909</td>\n",
       "      <td>57</td>\n",
       "      <td>樂生活愛居家</td>\n",
       "      <td>880</td>\n",
       "      <td>2016-10-07 06:53:45.945162</td>\n",
       "    </tr>\n",
       "    <tr>\n",
       "      <th>4</th>\n",
       "      <td>2669085</td>\n",
       "      <td>eyJhbGciOiJIUzUxMiIsInR5cCI6IkpXVCJ9.eyJvY2Vyc...</td>\n",
       "      <td>26908</td>\n",
       "      <td>26909</td>\n",
       "      <td>580</td>\n",
       "      <td>生活智慧王!</td>\n",
       "      <td>880</td>\n",
       "      <td>2016-10-07 06:53:45.945162</td>\n",
       "    </tr>\n",
       "  </tbody>\n",
       "</table>\n",
       "</div>"
      ],
      "text/plain": [
       "   order_id                                       buyer_mobile  \\\n",
       "0   2669085  eyJhbGciOiJIUzUxMiIsInR5cCI6IkpXVCJ9.eyJvY2Vyc...   \n",
       "1   2669085  eyJhbGciOiJIUzUxMiIsInR5cCI6IkpXVCJ9.eyJvY2Vyc...   \n",
       "2   2669085  eyJhbGciOiJIUzUxMiIsInR5cCI6IkpXVCJ9.eyJvY2Vyc...   \n",
       "3   2669085  eyJhbGciOiJIUzUxMiIsInR5cCI6IkpXVCJ9.eyJvY2Vyc...   \n",
       "4   2669085  eyJhbGciOiJIUzUxMiIsInR5cCI6IkpXVCJ9.eyJvY2Vyc...   \n",
       "\n",
       "   product_parent_id  product_id  menu_id menu_name  total  \\\n",
       "0              26908       26909      530      口腔清潔    880   \n",
       "1              26908       26909      528      清潔保健    880   \n",
       "2              26908       26909      224     寵愛毛孩子    880   \n",
       "3              26908       26909       57    樂生活愛居家    880   \n",
       "4              26908       26909      580    生活智慧王!    880   \n",
       "\n",
       "                       crdate  \n",
       "0  2016-10-07 06:53:45.945162  \n",
       "1  2016-10-07 06:53:45.945162  \n",
       "2  2016-10-07 06:53:45.945162  \n",
       "3  2016-10-07 06:53:45.945162  \n",
       "4  2016-10-07 06:53:45.945162  "
      ]
     },
     "execution_count": 43,
     "metadata": {},
     "output_type": "execute_result"
    }
   ],
   "source": [
    "TransactionDataDF.head()"
   ]
  },
  {
   "cell_type": "markdown",
   "metadata": {},
   "source": [
    "#### 通常欄位名稱過多時，我們使用.T的方法，將表格做轉置以利閱讀。使用shape的方法可以知道表格的大小，就如在numpy arrays的使用狀況一樣。"
   ]
  },
  {
   "cell_type": "code",
   "execution_count": 44,
   "metadata": {},
   "outputs": [
    {
     "data": {
      "text/html": [
       "<div>\n",
       "<style scoped>\n",
       "    .dataframe tbody tr th:only-of-type {\n",
       "        vertical-align: middle;\n",
       "    }\n",
       "\n",
       "    .dataframe tbody tr th {\n",
       "        vertical-align: top;\n",
       "    }\n",
       "\n",
       "    .dataframe thead th {\n",
       "        text-align: right;\n",
       "    }\n",
       "</style>\n",
       "<table border=\"1\" class=\"dataframe\">\n",
       "  <thead>\n",
       "    <tr style=\"text-align: right;\">\n",
       "      <th></th>\n",
       "      <th>0</th>\n",
       "      <th>1</th>\n",
       "      <th>2</th>\n",
       "      <th>3</th>\n",
       "      <th>4</th>\n",
       "    </tr>\n",
       "  </thead>\n",
       "  <tbody>\n",
       "    <tr>\n",
       "      <th>order_id</th>\n",
       "      <td>2669085</td>\n",
       "      <td>2669085</td>\n",
       "      <td>2669085</td>\n",
       "      <td>2669085</td>\n",
       "      <td>2669085</td>\n",
       "    </tr>\n",
       "    <tr>\n",
       "      <th>buyer_mobile</th>\n",
       "      <td>eyJhbGciOiJIUzUxMiIsInR5cCI6IkpXVCJ9.eyJvY2Vyc...</td>\n",
       "      <td>eyJhbGciOiJIUzUxMiIsInR5cCI6IkpXVCJ9.eyJvY2Vyc...</td>\n",
       "      <td>eyJhbGciOiJIUzUxMiIsInR5cCI6IkpXVCJ9.eyJvY2Vyc...</td>\n",
       "      <td>eyJhbGciOiJIUzUxMiIsInR5cCI6IkpXVCJ9.eyJvY2Vyc...</td>\n",
       "      <td>eyJhbGciOiJIUzUxMiIsInR5cCI6IkpXVCJ9.eyJvY2Vyc...</td>\n",
       "    </tr>\n",
       "    <tr>\n",
       "      <th>product_parent_id</th>\n",
       "      <td>26908</td>\n",
       "      <td>26908</td>\n",
       "      <td>26908</td>\n",
       "      <td>26908</td>\n",
       "      <td>26908</td>\n",
       "    </tr>\n",
       "    <tr>\n",
       "      <th>product_id</th>\n",
       "      <td>26909</td>\n",
       "      <td>26909</td>\n",
       "      <td>26909</td>\n",
       "      <td>26909</td>\n",
       "      <td>26909</td>\n",
       "    </tr>\n",
       "    <tr>\n",
       "      <th>menu_id</th>\n",
       "      <td>530</td>\n",
       "      <td>528</td>\n",
       "      <td>224</td>\n",
       "      <td>57</td>\n",
       "      <td>580</td>\n",
       "    </tr>\n",
       "    <tr>\n",
       "      <th>menu_name</th>\n",
       "      <td>口腔清潔</td>\n",
       "      <td>清潔保健</td>\n",
       "      <td>寵愛毛孩子</td>\n",
       "      <td>樂生活愛居家</td>\n",
       "      <td>生活智慧王!</td>\n",
       "    </tr>\n",
       "    <tr>\n",
       "      <th>total</th>\n",
       "      <td>880</td>\n",
       "      <td>880</td>\n",
       "      <td>880</td>\n",
       "      <td>880</td>\n",
       "      <td>880</td>\n",
       "    </tr>\n",
       "    <tr>\n",
       "      <th>crdate</th>\n",
       "      <td>2016-10-07 06:53:45.945162</td>\n",
       "      <td>2016-10-07 06:53:45.945162</td>\n",
       "      <td>2016-10-07 06:53:45.945162</td>\n",
       "      <td>2016-10-07 06:53:45.945162</td>\n",
       "      <td>2016-10-07 06:53:45.945162</td>\n",
       "    </tr>\n",
       "  </tbody>\n",
       "</table>\n",
       "</div>"
      ],
      "text/plain": [
       "                                                                   0  \\\n",
       "order_id                                                     2669085   \n",
       "buyer_mobile       eyJhbGciOiJIUzUxMiIsInR5cCI6IkpXVCJ9.eyJvY2Vyc...   \n",
       "product_parent_id                                              26908   \n",
       "product_id                                                     26909   \n",
       "menu_id                                                          530   \n",
       "menu_name                                                       口腔清潔   \n",
       "total                                                            880   \n",
       "crdate                                    2016-10-07 06:53:45.945162   \n",
       "\n",
       "                                                                   1  \\\n",
       "order_id                                                     2669085   \n",
       "buyer_mobile       eyJhbGciOiJIUzUxMiIsInR5cCI6IkpXVCJ9.eyJvY2Vyc...   \n",
       "product_parent_id                                              26908   \n",
       "product_id                                                     26909   \n",
       "menu_id                                                          528   \n",
       "menu_name                                                       清潔保健   \n",
       "total                                                            880   \n",
       "crdate                                    2016-10-07 06:53:45.945162   \n",
       "\n",
       "                                                                   2  \\\n",
       "order_id                                                     2669085   \n",
       "buyer_mobile       eyJhbGciOiJIUzUxMiIsInR5cCI6IkpXVCJ9.eyJvY2Vyc...   \n",
       "product_parent_id                                              26908   \n",
       "product_id                                                     26909   \n",
       "menu_id                                                          224   \n",
       "menu_name                                                      寵愛毛孩子   \n",
       "total                                                            880   \n",
       "crdate                                    2016-10-07 06:53:45.945162   \n",
       "\n",
       "                                                                   3  \\\n",
       "order_id                                                     2669085   \n",
       "buyer_mobile       eyJhbGciOiJIUzUxMiIsInR5cCI6IkpXVCJ9.eyJvY2Vyc...   \n",
       "product_parent_id                                              26908   \n",
       "product_id                                                     26909   \n",
       "menu_id                                                           57   \n",
       "menu_name                                                     樂生活愛居家   \n",
       "total                                                            880   \n",
       "crdate                                    2016-10-07 06:53:45.945162   \n",
       "\n",
       "                                                                   4  \n",
       "order_id                                                     2669085  \n",
       "buyer_mobile       eyJhbGciOiJIUzUxMiIsInR5cCI6IkpXVCJ9.eyJvY2Vyc...  \n",
       "product_parent_id                                              26908  \n",
       "product_id                                                     26909  \n",
       "menu_id                                                          580  \n",
       "menu_name                                                     生活智慧王!  \n",
       "total                                                            880  \n",
       "crdate                                    2016-10-07 06:53:45.945162  "
      ]
     },
     "execution_count": 44,
     "metadata": {},
     "output_type": "execute_result"
    }
   ],
   "source": [
    "# 使用.T可以將表格做轉置\n",
    "TransactionDataDF.head().T"
   ]
  },
  {
   "cell_type": "code",
   "execution_count": 45,
   "metadata": {},
   "outputs": [
    {
     "data": {
      "text/plain": [
       "(521290, 8)"
      ]
     },
     "execution_count": 45,
     "metadata": {},
     "output_type": "execute_result"
    }
   ],
   "source": [
    "# 顯示表格大小\n",
    "TransactionDataDF.shape"
   ]
  },
  {
   "cell_type": "markdown",
   "metadata": {},
   "source": [
    "[回本章目錄](#本章目錄)"
   ]
  },
  {
   "cell_type": "markdown",
   "metadata": {},
   "source": [
    "### 4.2 DataFrames的構建\n",
    "#### 構建一個DataFrame，除了用載入的方法外，還有其他很多方法來構建DataFrame，最常見的是從製作一個字典(dict)內含有等長的列表(list)或等長NumPy數組(array)，然後以pandas.DataFrame來構建DataFrame。"
   ]
  },
  {
   "cell_type": "code",
   "execution_count": 46,
   "metadata": {},
   "outputs": [
    {
     "name": "stdout",
     "output_type": "stream",
     "text": [
      "    state  year  pop    (6, 3)\n",
      "0    Ohio  2000  1.5          \n",
      "1    Ohio  2001  1.7          \n",
      "2    Ohio  2002  3.6          \n",
      "3  Nevada  2001  2.4          \n",
      "4  Nevada  2002  2.9          \n",
      "5  Nevada  2003  3.2          \n",
      "\n"
     ]
    }
   ],
   "source": [
    "data = {'state': ['Ohio', 'Ohio', 'Ohio', 'Nevada', 'Nevada', 'Nevada'],\n",
    "        'year': [2000, 2001, 2002, 2001, 2002, 2003],\n",
    "        'pop': [1.5, 1.7, 3.6, 2.4, 2.9, 3.2]}\n",
    "aDF = pd.DataFrame(data)\n",
    "side_by_side(aDF, aDF.shape)"
   ]
  },
  {
   "cell_type": "markdown",
   "metadata": {},
   "source": [
    "#### 改變欄位名稱的次序"
   ]
  },
  {
   "cell_type": "code",
   "execution_count": 47,
   "metadata": {},
   "outputs": [
    {
     "name": "stdout",
     "output_type": "stream",
     "text": [
      "    state  year  pop       year   state  pop\n",
      "0    Ohio  2000  1.5    0  2000    Ohio  1.5\n",
      "1    Ohio  2001  1.7    1  2001    Ohio  1.7\n",
      "2    Ohio  2002  3.6    2  2002    Ohio  3.6\n",
      "3  Nevada  2001  2.4    3  2001  Nevada  2.4\n",
      "4  Nevada  2002  2.9    4  2002  Nevada  2.9\n",
      "5  Nevada  2003  3.2    5  2003  Nevada  3.2\n",
      "\n"
     ]
    }
   ],
   "source": [
    "# 改變欄位名稱的次序\n",
    "myColumns = ['year','state','pop']\n",
    "bDF = aDF[myColumns]\n",
    "side_by_side(aDF, bDF)"
   ]
  },
  {
   "cell_type": "markdown",
   "metadata": {},
   "source": [
    "[回本章目錄](#本章目錄)"
   ]
  },
  {
   "cell_type": "markdown",
   "metadata": {},
   "source": [
    "### 4.3 電子商務網站的交易數據的清理\n",
    "- #### 市場行銷及推廣(maketing promotion)，可以分為直接營銷(direct marketing)與數字營銷(digital marketing)。直接營銷有電子郵件(emails)，短信(text messaging)，目錄海報(catalog)發送等。數字營銷的方式則有諸如在臉書(Facebook)的社交媒體(socail media)上營銷、搜索引擎優化(SEO)、搜索引擎市場營銷(search engine marketing;SEM)，廣告展示(display advertising)，短信(SMS)和多媒體簡訊(MMS)等。在成本與效益的考量下，市場行銷及推廣的最重要的一個議題是，如何預測哪些顧客最有可能購買。\n",
    "- #### 將客戶分成不同的小組，以幫助決策者識別 更細緻的細分市場，從而製定更有效的營銷策略和促銷策略。\n",
    "- #### 將客戶分成到不同的群體中，可以幫助決策者更清晰地識別及細分市場，從而製定更有效的營銷策略以保留客戶。\n",
    "- #### 顧客終生價值的計算(customer lifetime value;CLV)可以用來了解客戶在公司的營收與淨利上的貢獻。計算CLV後可以有很多的應用，例如可以作為公司/員工績效的量測，了解目標客戶，有效益的營銷資源分配，提供產品給客戶的建議，產品定價和客戶區隔等。\n",
    "- #### RFM是用於分析客戶價值的一種方法。R(Recency)代表客戶上一次的採購時間，F(Fequency)代表客戶至今總共採購的次數，M(Monetary)則是指客戶至今採購的總額。RFM通常用於數據庫的營銷和直銷，在零售和專業服務行業中，受到特別關注。\n",
    "- #### CLV以財務的觀點，計算客戶的潛在價值，可以創造交叉銷售(cross-selling)的機會。以CLV的排名分析及細分客戶群的動作，可以為每個細分市場製定精細的營銷策略。\n",
    "- #### 在本節中，我們使用pandas來展示如何清理交易數據的清理並計算RFM。"
   ]
  },
  {
   "cell_type": "code",
   "execution_count": 48,
   "metadata": {},
   "outputs": [],
   "source": [
    "TransactionEndingDate = datetime.strptime('2016-12-31', '%Y-%m-%d')"
   ]
  },
  {
   "cell_type": "markdown",
   "metadata": {},
   "source": [
    "### 4.3.1 遺漏的數據或不當的數據清理\n",
    "DropNA, Product_id = 0"
   ]
  },
  {
   "cell_type": "code",
   "execution_count": 49,
   "metadata": {},
   "outputs": [
    {
     "name": "stdout",
     "output_type": "stream",
     "text": [
      "order_id              0    order_id             521290\n",
      "buyer_mobile         17    buyer_mobile         521273\n",
      "product_parent_id     0    product_parent_id    521290\n",
      "product_id            0    product_id           521290\n",
      "menu_id               0    menu_id              521290\n",
      "menu_name             0    menu_name            521290\n",
      "total                 0    total                521290\n",
      "crdate                0    crdate               521290\n",
      "dtype: int64               dtype: int64               \n",
      "\n"
     ]
    }
   ],
   "source": [
    "side_by_side(TransactionDataDF.isnull().sum(), TransactionDataDF.count())\n",
    "shapeA = TransactionDataDF.shape\n",
    "BuyerMobileNum = len(set(TransactionDataDF.set_index(['buyer_mobile']).index))\n",
    "TransactionDataDF.dropna(inplace=True)\n",
    "shapeB = TransactionDataDF.shape\n",
    "TransactionDataDF = TransactionDataDF[TransactionDataDF.product_id != 0]\n",
    "shapeC = TransactionDataDF.shape\n",
    "ValidBuyerMobileNum = TransactionDataDF.buyer_mobile.nunique()\n",
    "ValidOrderIDNum =  TransactionDataDF.order_id.nunique()"
   ]
  },
  {
   "cell_type": "code",
   "execution_count": 50,
   "metadata": {},
   "outputs": [
    {
     "name": "stdout",
     "output_type": "stream",
     "text": [
      "'Transactions DataFrame Original Shape = (521290, 8)'    'Total Original Unique Mobile Number = 131737'\n",
      "\n",
      "'Transactions DataFrame DropNA = (521273, 8)'    'Transactions DataFrame DropNA and Valid prduct_id = (521273, 8)'\n",
      "\n",
      "'Total Valid Unique Mobile Number = 131736'    'Total Valid Unique Order ID Number = 166008'\n",
      "\n",
      "Total Valid Unique product_parent_id = 728\n",
      "Total Valid Unique product_id = 1679\n",
      "Total Valid Unique menu_id = 143\n"
     ]
    }
   ],
   "source": [
    "side_by_side(\"Transactions DataFrame Original Shape = %s\" %(shapeA,), \n",
    "             \"Total Original Unique Mobile Number = %s\" %BuyerMobileNum)\n",
    "side_by_side(\"Transactions DataFrame DropNA = %s\" %(shapeB,),\n",
    "             \"Transactions DataFrame DropNA and Valid prduct_id = %s\" %(shapeC,))\n",
    "side_by_side(\"Total Valid Unique Mobile Number = %s\" %ValidBuyerMobileNum, \n",
    "             \"Total Valid Unique Order ID Number = %s\" %ValidOrderIDNum)\n",
    "print(\"Total Valid Unique product_parent_id = %s\" %TransactionDataDF.product_parent_id.nunique()) \n",
    "print(\"Total Valid Unique product_id = %s\" %TransactionDataDF.product_id.nunique())\n",
    "print(\"Total Valid Unique menu_id = %s\" %TransactionDataDF.menu_id.nunique())"
   ]
  },
  {
   "cell_type": "code",
   "execution_count": 51,
   "metadata": {},
   "outputs": [],
   "source": [
    "del shapeA, shapeB, shapeC, BuyerMobileNum, ValidBuyerMobileNum, ValidOrderIDNum"
   ]
  },
  {
   "cell_type": "markdown",
   "metadata": {},
   "source": [
    "[回本章目錄](#本章目錄)"
   ]
  },
  {
   "cell_type": "markdown",
   "metadata": {},
   "source": [
    "### 4.3.2 加密後的行動電話號碼之轉換處理"
   ]
  },
  {
   "cell_type": "code",
   "execution_count": 52,
   "metadata": {},
   "outputs": [
    {
     "name": "stdout",
     "output_type": "stream",
     "text": [
      "'Total Unique Mobile Number = 131736'    'Total Unique Codebook Number = 131736'\n",
      "\n"
     ]
    }
   ],
   "source": [
    "CodebookDF = pd.DataFrame()\n",
    "CodebookDF['BuyerMobileSNO'] = TransactionDataDF['buyer_mobile']\n",
    "TransactionDataDF['buyer_mobile'] = TransactionDataDF['buyer_mobile'].astype('category')\n",
    "cat_columns = TransactionDataDF.select_dtypes(['category']).columns\n",
    "TransactionDataDF[cat_columns] = TransactionDataDF[cat_columns].apply(lambda x: x.cat.codes+1000)\n",
    "CodebookDF.insert(0, 'Codebook', TransactionDataDF['buyer_mobile'])\n",
    "side_by_side(\"Total Unique Mobile Number = %s\" %(len(set(TransactionDataDF.set_index(['buyer_mobile']).index))), \n",
    "             \"Total Unique Codebook Number = %s\" %(len(set(CodebookDF.set_index(['Codebook']).index))))\n",
    "CodebookDF.to_csv('./'+IODataDir+'/Codebook.csv.zip', index=False, encoding = 'utf-8', compression=\"gzip\")\n",
    "del CodebookDF"
   ]
  },
  {
   "cell_type": "markdown",
   "metadata": {},
   "source": [
    "[回本章目錄](#本章目錄)"
   ]
  },
  {
   "cell_type": "markdown",
   "metadata": {},
   "source": [
    "### 4.3.3 轉換訂單日期的數據型態"
   ]
  },
  {
   "cell_type": "code",
   "execution_count": 53,
   "metadata": {},
   "outputs": [
    {
     "data": {
      "text/html": [
       "<div>\n",
       "<style scoped>\n",
       "    .dataframe tbody tr th:only-of-type {\n",
       "        vertical-align: middle;\n",
       "    }\n",
       "\n",
       "    .dataframe tbody tr th {\n",
       "        vertical-align: top;\n",
       "    }\n",
       "\n",
       "    .dataframe thead th {\n",
       "        text-align: right;\n",
       "    }\n",
       "</style>\n",
       "<table border=\"1\" class=\"dataframe\">\n",
       "  <thead>\n",
       "    <tr style=\"text-align: right;\">\n",
       "      <th></th>\n",
       "      <th>order_id</th>\n",
       "      <th>buyer_mobile</th>\n",
       "      <th>product_parent_id</th>\n",
       "      <th>product_id</th>\n",
       "      <th>menu_id</th>\n",
       "      <th>menu_name</th>\n",
       "      <th>total</th>\n",
       "      <th>crdate</th>\n",
       "    </tr>\n",
       "  </thead>\n",
       "  <tbody>\n",
       "    <tr>\n",
       "      <th>8744</th>\n",
       "      <td>2678593</td>\n",
       "      <td>1035</td>\n",
       "      <td>34294</td>\n",
       "      <td>34295</td>\n",
       "      <td>627</td>\n",
       "      <td>滋潤保養面霜</td>\n",
       "      <td>999</td>\n",
       "      <td>2016-10-08 09:58:24.671149</td>\n",
       "    </tr>\n",
       "    <tr>\n",
       "      <th>8745</th>\n",
       "      <td>2678593</td>\n",
       "      <td>1035</td>\n",
       "      <td>34294</td>\n",
       "      <td>34295</td>\n",
       "      <td>52</td>\n",
       "      <td>臉部保養</td>\n",
       "      <td>999</td>\n",
       "      <td>2016-10-08 09:58:24.671149</td>\n",
       "    </tr>\n",
       "    <tr>\n",
       "      <th>8815</th>\n",
       "      <td>2678621</td>\n",
       "      <td>1035</td>\n",
       "      <td>34294</td>\n",
       "      <td>34295</td>\n",
       "      <td>627</td>\n",
       "      <td>滋潤保養面霜</td>\n",
       "      <td>999</td>\n",
       "      <td>2016-10-08 10:00:42.651796</td>\n",
       "    </tr>\n",
       "    <tr>\n",
       "      <th>8816</th>\n",
       "      <td>2678621</td>\n",
       "      <td>1035</td>\n",
       "      <td>34294</td>\n",
       "      <td>34295</td>\n",
       "      <td>52</td>\n",
       "      <td>臉部保養</td>\n",
       "      <td>999</td>\n",
       "      <td>2016-10-08 10:00:42.651796</td>\n",
       "    </tr>\n",
       "    <tr>\n",
       "      <th>84227</th>\n",
       "      <td>2643582</td>\n",
       "      <td>1035</td>\n",
       "      <td>33833</td>\n",
       "      <td>33834</td>\n",
       "      <td>521</td>\n",
       "      <td>居家/休閒用品</td>\n",
       "      <td>990</td>\n",
       "      <td>2016-10-02 06:47:26.853993</td>\n",
       "    </tr>\n",
       "    <tr>\n",
       "      <th>84228</th>\n",
       "      <td>2643582</td>\n",
       "      <td>1035</td>\n",
       "      <td>33833</td>\n",
       "      <td>33834</td>\n",
       "      <td>57</td>\n",
       "      <td>樂生活愛居家</td>\n",
       "      <td>990</td>\n",
       "      <td>2016-10-02 06:47:26.853993</td>\n",
       "    </tr>\n",
       "    <tr>\n",
       "      <th>97618</th>\n",
       "      <td>2657210</td>\n",
       "      <td>1035</td>\n",
       "      <td>31094</td>\n",
       "      <td>31095</td>\n",
       "      <td>555</td>\n",
       "      <td>保養小物</td>\n",
       "      <td>999</td>\n",
       "      <td>2016-10-05 03:12:56.954995</td>\n",
       "    </tr>\n",
       "    <tr>\n",
       "      <th>97619</th>\n",
       "      <td>2657210</td>\n",
       "      <td>1035</td>\n",
       "      <td>31094</td>\n",
       "      <td>31095</td>\n",
       "      <td>550</td>\n",
       "      <td>愛美小物</td>\n",
       "      <td>999</td>\n",
       "      <td>2016-10-05 03:12:56.954995</td>\n",
       "    </tr>\n",
       "    <tr>\n",
       "      <th>227762</th>\n",
       "      <td>2797987</td>\n",
       "      <td>1035</td>\n",
       "      <td>33488</td>\n",
       "      <td>33489</td>\n",
       "      <td>555</td>\n",
       "      <td>保養小物</td>\n",
       "      <td>990</td>\n",
       "      <td>2016-11-03 13:29:39.744791</td>\n",
       "    </tr>\n",
       "    <tr>\n",
       "      <th>227763</th>\n",
       "      <td>2797987</td>\n",
       "      <td>1035</td>\n",
       "      <td>33488</td>\n",
       "      <td>33489</td>\n",
       "      <td>550</td>\n",
       "      <td>愛美小物</td>\n",
       "      <td>990</td>\n",
       "      <td>2016-11-03 13:29:39.744791</td>\n",
       "    </tr>\n",
       "    <tr>\n",
       "      <th>227764</th>\n",
       "      <td>2797987</td>\n",
       "      <td>1035</td>\n",
       "      <td>33488</td>\n",
       "      <td>33489</td>\n",
       "      <td>627</td>\n",
       "      <td>滋潤保養面霜</td>\n",
       "      <td>990</td>\n",
       "      <td>2016-11-03 13:29:39.744791</td>\n",
       "    </tr>\n",
       "    <tr>\n",
       "      <th>227765</th>\n",
       "      <td>2797987</td>\n",
       "      <td>1035</td>\n",
       "      <td>33488</td>\n",
       "      <td>33489</td>\n",
       "      <td>643</td>\n",
       "      <td>保濕鎖水乳液</td>\n",
       "      <td>990</td>\n",
       "      <td>2016-11-03 13:29:39.744791</td>\n",
       "    </tr>\n",
       "    <tr>\n",
       "      <th>227766</th>\n",
       "      <td>2797987</td>\n",
       "      <td>1035</td>\n",
       "      <td>33488</td>\n",
       "      <td>33489</td>\n",
       "      <td>52</td>\n",
       "      <td>臉部保養</td>\n",
       "      <td>990</td>\n",
       "      <td>2016-11-03 13:29:39.744791</td>\n",
       "    </tr>\n",
       "    <tr>\n",
       "      <th>281763</th>\n",
       "      <td>2837804</td>\n",
       "      <td>1035</td>\n",
       "      <td>34776</td>\n",
       "      <td>34779</td>\n",
       "      <td>627</td>\n",
       "      <td>滋潤保養面霜</td>\n",
       "      <td>1485</td>\n",
       "      <td>2016-11-13 22:19:21.823884</td>\n",
       "    </tr>\n",
       "    <tr>\n",
       "      <th>281764</th>\n",
       "      <td>2837804</td>\n",
       "      <td>1035</td>\n",
       "      <td>34776</td>\n",
       "      <td>34779</td>\n",
       "      <td>109</td>\n",
       "      <td>青春精華液</td>\n",
       "      <td>1485</td>\n",
       "      <td>2016-11-13 22:19:21.823884</td>\n",
       "    </tr>\n",
       "    <tr>\n",
       "      <th>281765</th>\n",
       "      <td>2837804</td>\n",
       "      <td>1035</td>\n",
       "      <td>34776</td>\n",
       "      <td>34779</td>\n",
       "      <td>52</td>\n",
       "      <td>臉部保養</td>\n",
       "      <td>1485</td>\n",
       "      <td>2016-11-13 22:19:21.823884</td>\n",
       "    </tr>\n",
       "    <tr>\n",
       "      <th>504038</th>\n",
       "      <td>2994553</td>\n",
       "      <td>1035</td>\n",
       "      <td>36213</td>\n",
       "      <td>36214</td>\n",
       "      <td>555</td>\n",
       "      <td>保養小物</td>\n",
       "      <td>999</td>\n",
       "      <td>2016-12-28 14:40:43.350772</td>\n",
       "    </tr>\n",
       "    <tr>\n",
       "      <th>504039</th>\n",
       "      <td>2994553</td>\n",
       "      <td>1035</td>\n",
       "      <td>36213</td>\n",
       "      <td>36214</td>\n",
       "      <td>550</td>\n",
       "      <td>愛美小物</td>\n",
       "      <td>999</td>\n",
       "      <td>2016-12-28 14:40:43.350772</td>\n",
       "    </tr>\n",
       "    <tr>\n",
       "      <th>504040</th>\n",
       "      <td>2994553</td>\n",
       "      <td>1035</td>\n",
       "      <td>36213</td>\n",
       "      <td>36214</td>\n",
       "      <td>109</td>\n",
       "      <td>青春精華液</td>\n",
       "      <td>999</td>\n",
       "      <td>2016-12-28 14:40:43.350772</td>\n",
       "    </tr>\n",
       "    <tr>\n",
       "      <th>504041</th>\n",
       "      <td>2994553</td>\n",
       "      <td>1035</td>\n",
       "      <td>36213</td>\n",
       "      <td>36214</td>\n",
       "      <td>52</td>\n",
       "      <td>臉部保養</td>\n",
       "      <td>999</td>\n",
       "      <td>2016-12-28 14:40:43.350772</td>\n",
       "    </tr>\n",
       "    <tr>\n",
       "      <th>504060</th>\n",
       "      <td>2994553</td>\n",
       "      <td>1035</td>\n",
       "      <td>34294</td>\n",
       "      <td>34295</td>\n",
       "      <td>627</td>\n",
       "      <td>滋潤保養面霜</td>\n",
       "      <td>999</td>\n",
       "      <td>2016-12-28 14:40:43.350772</td>\n",
       "    </tr>\n",
       "    <tr>\n",
       "      <th>504061</th>\n",
       "      <td>2994553</td>\n",
       "      <td>1035</td>\n",
       "      <td>34294</td>\n",
       "      <td>34295</td>\n",
       "      <td>52</td>\n",
       "      <td>臉部保養</td>\n",
       "      <td>999</td>\n",
       "      <td>2016-12-28 14:40:43.350772</td>\n",
       "    </tr>\n",
       "  </tbody>\n",
       "</table>\n",
       "</div>"
      ],
      "text/plain": [
       "        order_id  buyer_mobile  product_parent_id  product_id  menu_id  \\\n",
       "8744     2678593          1035              34294       34295      627   \n",
       "8745     2678593          1035              34294       34295       52   \n",
       "8815     2678621          1035              34294       34295      627   \n",
       "8816     2678621          1035              34294       34295       52   \n",
       "84227    2643582          1035              33833       33834      521   \n",
       "84228    2643582          1035              33833       33834       57   \n",
       "97618    2657210          1035              31094       31095      555   \n",
       "97619    2657210          1035              31094       31095      550   \n",
       "227762   2797987          1035              33488       33489      555   \n",
       "227763   2797987          1035              33488       33489      550   \n",
       "227764   2797987          1035              33488       33489      627   \n",
       "227765   2797987          1035              33488       33489      643   \n",
       "227766   2797987          1035              33488       33489       52   \n",
       "281763   2837804          1035              34776       34779      627   \n",
       "281764   2837804          1035              34776       34779      109   \n",
       "281765   2837804          1035              34776       34779       52   \n",
       "504038   2994553          1035              36213       36214      555   \n",
       "504039   2994553          1035              36213       36214      550   \n",
       "504040   2994553          1035              36213       36214      109   \n",
       "504041   2994553          1035              36213       36214       52   \n",
       "504060   2994553          1035              34294       34295      627   \n",
       "504061   2994553          1035              34294       34295       52   \n",
       "\n",
       "       menu_name  total                     crdate  \n",
       "8744      滋潤保養面霜    999 2016-10-08 09:58:24.671149  \n",
       "8745        臉部保養    999 2016-10-08 09:58:24.671149  \n",
       "8815      滋潤保養面霜    999 2016-10-08 10:00:42.651796  \n",
       "8816        臉部保養    999 2016-10-08 10:00:42.651796  \n",
       "84227    居家/休閒用品    990 2016-10-02 06:47:26.853993  \n",
       "84228     樂生活愛居家    990 2016-10-02 06:47:26.853993  \n",
       "97618       保養小物    999 2016-10-05 03:12:56.954995  \n",
       "97619       愛美小物    999 2016-10-05 03:12:56.954995  \n",
       "227762      保養小物    990 2016-11-03 13:29:39.744791  \n",
       "227763      愛美小物    990 2016-11-03 13:29:39.744791  \n",
       "227764    滋潤保養面霜    990 2016-11-03 13:29:39.744791  \n",
       "227765    保濕鎖水乳液    990 2016-11-03 13:29:39.744791  \n",
       "227766      臉部保養    990 2016-11-03 13:29:39.744791  \n",
       "281763    滋潤保養面霜   1485 2016-11-13 22:19:21.823884  \n",
       "281764     青春精華液   1485 2016-11-13 22:19:21.823884  \n",
       "281765      臉部保養   1485 2016-11-13 22:19:21.823884  \n",
       "504038      保養小物    999 2016-12-28 14:40:43.350772  \n",
       "504039      愛美小物    999 2016-12-28 14:40:43.350772  \n",
       "504040     青春精華液    999 2016-12-28 14:40:43.350772  \n",
       "504041      臉部保養    999 2016-12-28 14:40:43.350772  \n",
       "504060    滋潤保養面霜    999 2016-12-28 14:40:43.350772  \n",
       "504061      臉部保養    999 2016-12-28 14:40:43.350772  "
      ]
     },
     "execution_count": 53,
     "metadata": {},
     "output_type": "execute_result"
    }
   ],
   "source": [
    "TransactionDataDF['crdate'] = TransactionDataDF['crdate'].astype('datetime64[ns]')\n",
    "TransactionDataDF[TransactionDataDF.buyer_mobile == 1035]"
   ]
  },
  {
   "cell_type": "markdown",
   "metadata": {},
   "source": [
    "[回本章目錄](#本章目錄)"
   ]
  },
  {
   "cell_type": "markdown",
   "metadata": {},
   "source": [
    "### 4.4 數據的準備(Data Wrangling)\n",
    "### 4.4.1 計算每個顧客其最近一次消費距今的天數(recency)"
   ]
  },
  {
   "cell_type": "code",
   "execution_count": 54,
   "metadata": {},
   "outputs": [
    {
     "data": {
      "text/html": [
       "<div>\n",
       "<style scoped>\n",
       "    .dataframe tbody tr th:only-of-type {\n",
       "        vertical-align: middle;\n",
       "    }\n",
       "\n",
       "    .dataframe tbody tr th {\n",
       "        vertical-align: top;\n",
       "    }\n",
       "\n",
       "    .dataframe thead th {\n",
       "        text-align: right;\n",
       "    }\n",
       "</style>\n",
       "<table border=\"1\" class=\"dataframe\">\n",
       "  <thead>\n",
       "    <tr style=\"text-align: right;\">\n",
       "      <th></th>\n",
       "      <th>BuyerMobileSNO</th>\n",
       "      <th>LatestPurchaseDate</th>\n",
       "      <th>Recency</th>\n",
       "    </tr>\n",
       "  </thead>\n",
       "  <tbody>\n",
       "    <tr>\n",
       "      <th>35</th>\n",
       "      <td>1035</td>\n",
       "      <td>2016-12-28 14:40:43.350772</td>\n",
       "      <td>2</td>\n",
       "    </tr>\n",
       "  </tbody>\n",
       "</table>\n",
       "</div>"
      ],
      "text/plain": [
       "    BuyerMobileSNO         LatestPurchaseDate  Recency\n",
       "35            1035 2016-12-28 14:40:43.350772        2"
      ]
     },
     "execution_count": 54,
     "metadata": {},
     "output_type": "execute_result"
    }
   ],
   "source": [
    "RecencyDF = TransactionDataDF.groupby(['buyer_mobile'])['crdate'].max().reset_index()\n",
    "RecencyDF.columns = ['BuyerMobileSNO', 'LatestPurchaseDate']\n",
    "RecencyDF['Recency'] = ((TransactionEndingDate - RecencyDF['LatestPurchaseDate'])/np.timedelta64(1, 'D')).astype(int)\n",
    "RecencyDF[RecencyDF.BuyerMobileSNO == 1035]"
   ]
  },
  {
   "cell_type": "markdown",
   "metadata": {},
   "source": [
    "[回本章目錄](#本章目錄)"
   ]
  },
  {
   "cell_type": "markdown",
   "metadata": {},
   "source": [
    "### 4.4.2 計算每個顧客消費的頻率並取得消費頻率的統計量描述(frequency)\n",
    "#### <Font color='red'> 每隔多少天消費一次 </Font>\n",
    "#### diff()'s computing time takes 0:00:28 for all Three Months Transaction Data"
   ]
  },
  {
   "cell_type": "code",
   "execution_count": 55,
   "metadata": {},
   "outputs": [
    {
     "name": "stdout",
     "output_type": "stream",
     "text": [
      "Computing time takes 0:00:27.568843\n"
     ]
    },
    {
     "data": {
      "text/html": [
       "<div>\n",
       "<style scoped>\n",
       "    .dataframe tbody tr th:only-of-type {\n",
       "        vertical-align: middle;\n",
       "    }\n",
       "\n",
       "    .dataframe tbody tr th {\n",
       "        vertical-align: top;\n",
       "    }\n",
       "\n",
       "    .dataframe thead th {\n",
       "        text-align: right;\n",
       "    }\n",
       "</style>\n",
       "<table border=\"1\" class=\"dataframe\">\n",
       "  <thead>\n",
       "    <tr style=\"text-align: right;\">\n",
       "      <th></th>\n",
       "      <th>order_id</th>\n",
       "      <th>buyer_mobile</th>\n",
       "      <th>product_parent_id</th>\n",
       "      <th>product_id</th>\n",
       "      <th>menu_id</th>\n",
       "      <th>menu_name</th>\n",
       "      <th>total</th>\n",
       "      <th>crdate</th>\n",
       "      <th>TurnoverPeriod</th>\n",
       "    </tr>\n",
       "  </thead>\n",
       "  <tbody>\n",
       "    <tr>\n",
       "      <th>84227</th>\n",
       "      <td>2643582</td>\n",
       "      <td>1035</td>\n",
       "      <td>33833</td>\n",
       "      <td>33834</td>\n",
       "      <td>521</td>\n",
       "      <td>居家/休閒用品</td>\n",
       "      <td>990</td>\n",
       "      <td>2016-10-02 06:47:26.853993</td>\n",
       "      <td>NaT</td>\n",
       "    </tr>\n",
       "    <tr>\n",
       "      <th>84228</th>\n",
       "      <td>2643582</td>\n",
       "      <td>1035</td>\n",
       "      <td>33833</td>\n",
       "      <td>33834</td>\n",
       "      <td>57</td>\n",
       "      <td>樂生活愛居家</td>\n",
       "      <td>990</td>\n",
       "      <td>2016-10-02 06:47:26.853993</td>\n",
       "      <td>0 days 00:00:00</td>\n",
       "    </tr>\n",
       "    <tr>\n",
       "      <th>97618</th>\n",
       "      <td>2657210</td>\n",
       "      <td>1035</td>\n",
       "      <td>31094</td>\n",
       "      <td>31095</td>\n",
       "      <td>555</td>\n",
       "      <td>保養小物</td>\n",
       "      <td>999</td>\n",
       "      <td>2016-10-05 03:12:56.954995</td>\n",
       "      <td>2 days 20:25:30.101002</td>\n",
       "    </tr>\n",
       "    <tr>\n",
       "      <th>97619</th>\n",
       "      <td>2657210</td>\n",
       "      <td>1035</td>\n",
       "      <td>31094</td>\n",
       "      <td>31095</td>\n",
       "      <td>550</td>\n",
       "      <td>愛美小物</td>\n",
       "      <td>999</td>\n",
       "      <td>2016-10-05 03:12:56.954995</td>\n",
       "      <td>0 days 00:00:00</td>\n",
       "    </tr>\n",
       "    <tr>\n",
       "      <th>8744</th>\n",
       "      <td>2678593</td>\n",
       "      <td>1035</td>\n",
       "      <td>34294</td>\n",
       "      <td>34295</td>\n",
       "      <td>627</td>\n",
       "      <td>滋潤保養面霜</td>\n",
       "      <td>999</td>\n",
       "      <td>2016-10-08 09:58:24.671149</td>\n",
       "      <td>3 days 06:45:27.716154</td>\n",
       "    </tr>\n",
       "  </tbody>\n",
       "</table>\n",
       "</div>"
      ],
      "text/plain": [
       "       order_id  buyer_mobile  product_parent_id  product_id  menu_id  \\\n",
       "84227   2643582          1035              33833       33834      521   \n",
       "84228   2643582          1035              33833       33834       57   \n",
       "97618   2657210          1035              31094       31095      555   \n",
       "97619   2657210          1035              31094       31095      550   \n",
       "8744    2678593          1035              34294       34295      627   \n",
       "\n",
       "      menu_name  total                     crdate         TurnoverPeriod  \n",
       "84227   居家/休閒用品    990 2016-10-02 06:47:26.853993                    NaT  \n",
       "84228    樂生活愛居家    990 2016-10-02 06:47:26.853993        0 days 00:00:00  \n",
       "97618      保養小物    999 2016-10-05 03:12:56.954995 2 days 20:25:30.101002  \n",
       "97619      愛美小物    999 2016-10-05 03:12:56.954995        0 days 00:00:00  \n",
       "8744     滋潤保養面霜    999 2016-10-08 09:58:24.671149 3 days 06:45:27.716154  "
      ]
     },
     "execution_count": 55,
     "metadata": {},
     "output_type": "execute_result"
    }
   ],
   "source": [
    "FrequencyDF = TransactionDataDF.sort_values(by=['buyer_mobile', 'crdate'])\n",
    "# SortedDF.set_index(['buyer_mobile']).head()\n",
    "start = datetime.now()\n",
    "FrequencyDF['TurnoverPeriod'] = FrequencyDF.groupby(['buyer_mobile'])['crdate'].diff()\n",
    "print(\"Computing time takes %s\" %(datetime.now()-start))\n",
    "FrequencyDF[FrequencyDF.buyer_mobile == 1035].head()"
   ]
  },
  {
   "cell_type": "code",
   "execution_count": 56,
   "metadata": {},
   "outputs": [
    {
     "data": {
      "text/html": [
       "<div>\n",
       "<style scoped>\n",
       "    .dataframe tbody tr th:only-of-type {\n",
       "        vertical-align: middle;\n",
       "    }\n",
       "\n",
       "    .dataframe tbody tr th {\n",
       "        vertical-align: top;\n",
       "    }\n",
       "\n",
       "    .dataframe thead th {\n",
       "        text-align: right;\n",
       "    }\n",
       "</style>\n",
       "<table border=\"1\" class=\"dataframe\">\n",
       "  <thead>\n",
       "    <tr style=\"text-align: right;\">\n",
       "      <th></th>\n",
       "      <th>order_id</th>\n",
       "      <th>buyer_mobile</th>\n",
       "      <th>product_parent_id</th>\n",
       "      <th>product_id</th>\n",
       "      <th>menu_id</th>\n",
       "      <th>menu_name</th>\n",
       "      <th>total</th>\n",
       "      <th>crdate</th>\n",
       "      <th>TurnoverPeriod</th>\n",
       "    </tr>\n",
       "  </thead>\n",
       "  <tbody>\n",
       "    <tr>\n",
       "      <th>97618</th>\n",
       "      <td>2657210</td>\n",
       "      <td>1035</td>\n",
       "      <td>31094</td>\n",
       "      <td>31095</td>\n",
       "      <td>555</td>\n",
       "      <td>保養小物</td>\n",
       "      <td>999</td>\n",
       "      <td>2016-10-05 03:12:56.954995</td>\n",
       "      <td>2</td>\n",
       "    </tr>\n",
       "    <tr>\n",
       "      <th>8744</th>\n",
       "      <td>2678593</td>\n",
       "      <td>1035</td>\n",
       "      <td>34294</td>\n",
       "      <td>34295</td>\n",
       "      <td>627</td>\n",
       "      <td>滋潤保養面霜</td>\n",
       "      <td>999</td>\n",
       "      <td>2016-10-08 09:58:24.671149</td>\n",
       "      <td>3</td>\n",
       "    </tr>\n",
       "    <tr>\n",
       "      <th>227762</th>\n",
       "      <td>2797987</td>\n",
       "      <td>1035</td>\n",
       "      <td>33488</td>\n",
       "      <td>33489</td>\n",
       "      <td>555</td>\n",
       "      <td>保養小物</td>\n",
       "      <td>990</td>\n",
       "      <td>2016-11-03 13:29:39.744791</td>\n",
       "      <td>26</td>\n",
       "    </tr>\n",
       "    <tr>\n",
       "      <th>281763</th>\n",
       "      <td>2837804</td>\n",
       "      <td>1035</td>\n",
       "      <td>34776</td>\n",
       "      <td>34779</td>\n",
       "      <td>627</td>\n",
       "      <td>滋潤保養面霜</td>\n",
       "      <td>1485</td>\n",
       "      <td>2016-11-13 22:19:21.823884</td>\n",
       "      <td>10</td>\n",
       "    </tr>\n",
       "    <tr>\n",
       "      <th>504038</th>\n",
       "      <td>2994553</td>\n",
       "      <td>1035</td>\n",
       "      <td>36213</td>\n",
       "      <td>36214</td>\n",
       "      <td>555</td>\n",
       "      <td>保養小物</td>\n",
       "      <td>999</td>\n",
       "      <td>2016-12-28 14:40:43.350772</td>\n",
       "      <td>44</td>\n",
       "    </tr>\n",
       "  </tbody>\n",
       "</table>\n",
       "</div>"
      ],
      "text/plain": [
       "        order_id  buyer_mobile  product_parent_id  product_id  menu_id  \\\n",
       "97618    2657210          1035              31094       31095      555   \n",
       "8744     2678593          1035              34294       34295      627   \n",
       "227762   2797987          1035              33488       33489      555   \n",
       "281763   2837804          1035              34776       34779      627   \n",
       "504038   2994553          1035              36213       36214      555   \n",
       "\n",
       "       menu_name  total                     crdate  TurnoverPeriod  \n",
       "97618       保養小物    999 2016-10-05 03:12:56.954995               2  \n",
       "8744      滋潤保養面霜    999 2016-10-08 09:58:24.671149               3  \n",
       "227762      保養小物    990 2016-11-03 13:29:39.744791              26  \n",
       "281763    滋潤保養面霜   1485 2016-11-13 22:19:21.823884              10  \n",
       "504038      保養小物    999 2016-12-28 14:40:43.350772              44  "
      ]
     },
     "execution_count": 56,
     "metadata": {},
     "output_type": "execute_result"
    }
   ],
   "source": [
    "FrequencyDF.dropna(inplace=True)\n",
    "FrequencyDF['TurnoverPeriod'] = (FrequencyDF['TurnoverPeriod']/np.timedelta64(1, 'D')).astype(int)\n",
    "FrequencyDF = FrequencyDF[FrequencyDF.TurnoverPeriod != 0]\n",
    "# buyer_mobile Examples: 1035, 1002\n",
    "FrequencyDF[FrequencyDF.buyer_mobile == 1035].head()"
   ]
  },
  {
   "cell_type": "markdown",
   "metadata": {},
   "source": [
    "#### <Font color='red'> 每隔多少天消費統計值 </Font>"
   ]
  },
  {
   "cell_type": "code",
   "execution_count": 57,
   "metadata": {},
   "outputs": [
    {
     "name": "stdout",
     "output_type": "stream",
     "text": [
      "Computing time takes 0:00:00.108472\n"
     ]
    },
    {
     "data": {
      "text/html": [
       "<div>\n",
       "<style scoped>\n",
       "    .dataframe tbody tr th:only-of-type {\n",
       "        vertical-align: middle;\n",
       "    }\n",
       "\n",
       "    .dataframe tbody tr th {\n",
       "        vertical-align: top;\n",
       "    }\n",
       "\n",
       "    .dataframe thead th {\n",
       "        text-align: right;\n",
       "    }\n",
       "</style>\n",
       "<table border=\"1\" class=\"dataframe\">\n",
       "  <thead>\n",
       "    <tr style=\"text-align: right;\">\n",
       "      <th></th>\n",
       "      <th>BuyerMobileSNO</th>\n",
       "      <th>MeanTurnover</th>\n",
       "      <th>StdTurnover</th>\n",
       "      <th>MinTurnover</th>\n",
       "      <th>MaxTurnover</th>\n",
       "      <th>CVTurnover</th>\n",
       "      <th>PurchaseTimes</th>\n",
       "    </tr>\n",
       "  </thead>\n",
       "  <tbody>\n",
       "    <tr>\n",
       "      <th>7</th>\n",
       "      <td>1035</td>\n",
       "      <td>17.0</td>\n",
       "      <td>17.888544</td>\n",
       "      <td>2</td>\n",
       "      <td>44</td>\n",
       "      <td>1.052267</td>\n",
       "      <td>6</td>\n",
       "    </tr>\n",
       "  </tbody>\n",
       "</table>\n",
       "</div>"
      ],
      "text/plain": [
       "   BuyerMobileSNO  MeanTurnover  StdTurnover  MinTurnover  MaxTurnover  \\\n",
       "7            1035          17.0    17.888544            2           44   \n",
       "\n",
       "   CVTurnover  PurchaseTimes  \n",
       "7    1.052267              6  "
      ]
     },
     "execution_count": 57,
     "metadata": {},
     "output_type": "execute_result"
    }
   ],
   "source": [
    "start = datetime.now()\n",
    "FrequencyStatisticsDF = FrequencyDF.groupby('buyer_mobile')['TurnoverPeriod'].aggregate([np.mean, np.std, \n",
    "                                                                                         np.min, np.max, len])\n",
    "FrequencyStatisticsDF['CoefficientVariation'] = FrequencyStatisticsDF['std']/FrequencyStatisticsDF['mean']\n",
    "FrequencyStatisticsDF['PurchaseTimes'] = FrequencyStatisticsDF['len']+1\n",
    "# FrequencyStatistics = FrequencyDF.groupby(['buyer_mobile'])['TurnoverPeriod'].describe()\n",
    "print(\"Computing time takes %s\" %(datetime.now()-start))\n",
    "FrequencyStatisticsDF.reset_index(inplace=True)\n",
    "FrequencyStatisticsDF.drop('len', axis=1, inplace=True)\n",
    "FrequencyStatisticsDF.columns = ['BuyerMobileSNO', 'MeanTurnover', 'StdTurnover', 'MinTurnover',\n",
    "                                 'MaxTurnover', 'CVTurnover', 'PurchaseTimes']\n",
    "del start, FrequencyDF\n",
    "FrequencyStatisticsDF[FrequencyStatisticsDF.BuyerMobileSNO == 1035]"
   ]
  },
  {
   "cell_type": "markdown",
   "metadata": {},
   "source": [
    "[回本章目錄](#本章目錄)"
   ]
  },
  {
   "cell_type": "markdown",
   "metadata": {},
   "source": [
    "### 4.4.3 計算每個顧客消費總額的統計量描述(monetary)"
   ]
  },
  {
   "cell_type": "code",
   "execution_count": 58,
   "metadata": {},
   "outputs": [
    {
     "name": "stdout",
     "output_type": "stream",
     "text": [
      "Total Spending within The Given Transactions Time Period: NT$171,728,034.84\n"
     ]
    },
    {
     "data": {
      "text/html": [
       "<div>\n",
       "<style scoped>\n",
       "    .dataframe tbody tr th:only-of-type {\n",
       "        vertical-align: middle;\n",
       "    }\n",
       "\n",
       "    .dataframe tbody tr th {\n",
       "        vertical-align: top;\n",
       "    }\n",
       "\n",
       "    .dataframe thead th {\n",
       "        text-align: right;\n",
       "    }\n",
       "</style>\n",
       "<table border=\"1\" class=\"dataframe\">\n",
       "  <thead>\n",
       "    <tr style=\"text-align: right;\">\n",
       "      <th></th>\n",
       "      <th>BuyerMobileSNO</th>\n",
       "      <th>TotalSpending</th>\n",
       "      <th>MeanSpending</th>\n",
       "      <th>StdSpending</th>\n",
       "      <th>MinSpending</th>\n",
       "      <th>MaxSpending</th>\n",
       "    </tr>\n",
       "  </thead>\n",
       "  <tbody>\n",
       "    <tr>\n",
       "      <th>35</th>\n",
       "      <td>1035</td>\n",
       "      <td>7461.0</td>\n",
       "      <td>1065.857143</td>\n",
       "      <td>184.873316</td>\n",
       "      <td>990.0</td>\n",
       "      <td>1485.0</td>\n",
       "    </tr>\n",
       "  </tbody>\n",
       "</table>\n",
       "</div>"
      ],
      "text/plain": [
       "    BuyerMobileSNO  TotalSpending  MeanSpending  StdSpending  MinSpending  \\\n",
       "35            1035         7461.0   1065.857143   184.873316        990.0   \n",
       "\n",
       "    MaxSpending  \n",
       "35       1485.0  "
      ]
     },
     "execution_count": 58,
     "metadata": {},
     "output_type": "execute_result"
    }
   ],
   "source": [
    "MonetaryDF = TransactionDataDF.groupby(['buyer_mobile', 'order_id'])['total'].aggregate([np.mean]).reset_index()\n",
    "print ('Total Spending within The Given Transactions Time Period: NT${:,.2f}'.format(MonetaryDF['mean'].sum()))\n",
    "MonetaryDF= MonetaryDF.drop(['order_id'],  axis=1)\n",
    "MonetaryDF.columns = ['buyer_mobile','total']\n",
    "MonetaryStatisticsDF = MonetaryDF.groupby('buyer_mobile')['total'].aggregate([np.sum, np.mean, np.std, \n",
    "                                                                              np.min, np.max])\n",
    "MonetaryStatisticsDF = MonetaryStatisticsDF.reset_index()\n",
    "MonetaryStatisticsDF.columns = ['BuyerMobileSNO', 'TotalSpending', 'MeanSpending', 'StdSpending', \n",
    "                                'MinSpending','MaxSpending']\n",
    "del MonetaryDF\n",
    "MonetaryStatisticsDF[MonetaryStatisticsDF.BuyerMobileSNO == 1035]"
   ]
  },
  {
   "cell_type": "markdown",
   "metadata": {},
   "source": [
    "[回本章目錄](#本章目錄)"
   ]
  },
  {
   "cell_type": "markdown",
   "metadata": {},
   "source": [
    "### 4.4.4 計算每個顧客消費於各商品的統計量描述"
   ]
  },
  {
   "cell_type": "markdown",
   "metadata": {},
   "source": [
    "#### 除了上述的RFM計算以外，當然，我們也可計算每個顧客消費於各商品的統計量，例如：計算每個顧客消費於各類商品組合的統計量、計算每個顧客消費於各類商品組合內容的統計量以及計算每個顧客消費於商品分類的統計量。我們提供了計算每個顧客消費於各類商品組合的統計量的程式碼，其他的部分，讀著不妨自行嘗試計算。"
   ]
  },
  {
   "cell_type": "code",
   "execution_count": 59,
   "metadata": {},
   "outputs": [
    {
     "name": "stdout",
     "output_type": "stream",
     "text": [
      "Computing time takes 0:00:15.286964\n"
     ]
    }
   ],
   "source": [
    "# 計算完成的時間約0:00:12.30:00:11.9\n",
    "start = datetime.now()\n",
    "ProductParentPurchasedDF = TransactionDataDF.groupby(['buyer_mobile'])['product_parent_id'].nunique().reset_index()\n",
    "ProductParentPurchasedDF.columns = ['BuyerMobileSNO', 'NoVarProdParentPurchased']\n",
    "# ProductPurchasedDF[ProductPurchasedDF.BuyerMobileSNO == 1035]\n",
    "ProductParentPurchasedListDF = TransactionDataDF.groupby(['buyer_mobile'])['product_parent_id'].unique().reset_index()\n",
    "ProductParentPurchasedListDF.columns = ['BuyerMobileSNO', 'ParentProdList']\n",
    "# ProductPurchasedListDF[ProductPurchasedListDF.BuyerMobileSNO == 1035]\n",
    "ProductParentPurchasedDF = pd.merge(ProductParentPurchasedDF, ProductParentPurchasedListDF, \n",
    "                                    on='BuyerMobileSNO', how='outer')\n",
    "print(\"Computing time takes %s\" %(datetime.now()-start))\n",
    "ProductParentPurchasedDF[ProductParentPurchasedDF.BuyerMobileSNO == 1035]\n",
    "del ProductParentPurchasedListDF"
   ]
  },
  {
   "cell_type": "markdown",
   "metadata": {},
   "source": [
    "[回本章目錄](#本章目錄)"
   ]
  },
  {
   "cell_type": "markdown",
   "metadata": {},
   "source": [
    "### 4.5 整合並構建處理後的數據表格以利後續數據分析"
   ]
  },
  {
   "cell_type": "code",
   "execution_count": 60,
   "metadata": {},
   "outputs": [
    {
     "data": {
      "text/html": [
       "<div>\n",
       "<style scoped>\n",
       "    .dataframe tbody tr th:only-of-type {\n",
       "        vertical-align: middle;\n",
       "    }\n",
       "\n",
       "    .dataframe tbody tr th {\n",
       "        vertical-align: top;\n",
       "    }\n",
       "\n",
       "    .dataframe thead th {\n",
       "        text-align: right;\n",
       "    }\n",
       "</style>\n",
       "<table border=\"1\" class=\"dataframe\">\n",
       "  <thead>\n",
       "    <tr style=\"text-align: right;\">\n",
       "      <th></th>\n",
       "      <th>35</th>\n",
       "    </tr>\n",
       "  </thead>\n",
       "  <tbody>\n",
       "    <tr>\n",
       "      <th>BuyerMobileSNO</th>\n",
       "      <td>1035</td>\n",
       "    </tr>\n",
       "    <tr>\n",
       "      <th>LatestPurchaseDate</th>\n",
       "      <td>2016-12-28 14:40:43.350772</td>\n",
       "    </tr>\n",
       "    <tr>\n",
       "      <th>Recency</th>\n",
       "      <td>2</td>\n",
       "    </tr>\n",
       "    <tr>\n",
       "      <th>MeanTurnover</th>\n",
       "      <td>17</td>\n",
       "    </tr>\n",
       "    <tr>\n",
       "      <th>StdTurnover</th>\n",
       "      <td>17.8885</td>\n",
       "    </tr>\n",
       "    <tr>\n",
       "      <th>MinTurnover</th>\n",
       "      <td>2</td>\n",
       "    </tr>\n",
       "    <tr>\n",
       "      <th>MaxTurnover</th>\n",
       "      <td>44</td>\n",
       "    </tr>\n",
       "    <tr>\n",
       "      <th>CVTurnover</th>\n",
       "      <td>1.05227</td>\n",
       "    </tr>\n",
       "    <tr>\n",
       "      <th>PurchaseTimes</th>\n",
       "      <td>6</td>\n",
       "    </tr>\n",
       "    <tr>\n",
       "      <th>TotalSpending</th>\n",
       "      <td>7461</td>\n",
       "    </tr>\n",
       "    <tr>\n",
       "      <th>MeanSpending</th>\n",
       "      <td>1065.86</td>\n",
       "    </tr>\n",
       "    <tr>\n",
       "      <th>StdSpending</th>\n",
       "      <td>184.873</td>\n",
       "    </tr>\n",
       "    <tr>\n",
       "      <th>MinSpending</th>\n",
       "      <td>990</td>\n",
       "    </tr>\n",
       "    <tr>\n",
       "      <th>MaxSpending</th>\n",
       "      <td>1485</td>\n",
       "    </tr>\n",
       "    <tr>\n",
       "      <th>NoVarProdParentPurchased</th>\n",
       "      <td>6</td>\n",
       "    </tr>\n",
       "    <tr>\n",
       "      <th>ParentProdList</th>\n",
       "      <td>[34294, 33833, 31094, 33488, 34776, 36213]</td>\n",
       "    </tr>\n",
       "  </tbody>\n",
       "</table>\n",
       "</div>"
      ],
      "text/plain": [
       "                                                                  35\n",
       "BuyerMobileSNO                                                  1035\n",
       "LatestPurchaseDate                        2016-12-28 14:40:43.350772\n",
       "Recency                                                            2\n",
       "MeanTurnover                                                      17\n",
       "StdTurnover                                                  17.8885\n",
       "MinTurnover                                                        2\n",
       "MaxTurnover                                                       44\n",
       "CVTurnover                                                   1.05227\n",
       "PurchaseTimes                                                      6\n",
       "TotalSpending                                                   7461\n",
       "MeanSpending                                                 1065.86\n",
       "StdSpending                                                  184.873\n",
       "MinSpending                                                      990\n",
       "MaxSpending                                                     1485\n",
       "NoVarProdParentPurchased                                           6\n",
       "ParentProdList            [34294, 33833, 31094, 33488, 34776, 36213]"
      ]
     },
     "execution_count": 60,
     "metadata": {},
     "output_type": "execute_result"
    }
   ],
   "source": [
    "RFMsDF = pd.merge(RecencyDF, FrequencyStatisticsDF, on='BuyerMobileSNO', how='outer')\n",
    "RFMsDF = pd.merge(RFMsDF, MonetaryStatisticsDF, on='BuyerMobileSNO', how='outer')\n",
    "RFMsDF = pd.merge(RFMsDF, ProductParentPurchasedDF, on='BuyerMobileSNO', how='outer')\n",
    "RFMsDF[RFMsDF.BuyerMobileSNO == 1035].T"
   ]
  },
  {
   "cell_type": "code",
   "execution_count": 61,
   "metadata": {},
   "outputs": [
    {
     "data": {
      "text/html": [
       "<div>\n",
       "<style scoped>\n",
       "    .dataframe tbody tr th:only-of-type {\n",
       "        vertical-align: middle;\n",
       "    }\n",
       "\n",
       "    .dataframe tbody tr th {\n",
       "        vertical-align: top;\n",
       "    }\n",
       "\n",
       "    .dataframe thead th {\n",
       "        text-align: right;\n",
       "    }\n",
       "</style>\n",
       "<table border=\"1\" class=\"dataframe\">\n",
       "  <thead>\n",
       "    <tr style=\"text-align: right;\">\n",
       "      <th></th>\n",
       "      <th>1</th>\n",
       "    </tr>\n",
       "  </thead>\n",
       "  <tbody>\n",
       "    <tr>\n",
       "      <th>BuyerMobileSNO</th>\n",
       "      <td>1001</td>\n",
       "    </tr>\n",
       "    <tr>\n",
       "      <th>LatestPurchaseDate</th>\n",
       "      <td>2016-11-04 14:44:47.476260</td>\n",
       "    </tr>\n",
       "    <tr>\n",
       "      <th>Recency</th>\n",
       "      <td>56</td>\n",
       "    </tr>\n",
       "    <tr>\n",
       "      <th>MeanTurnover</th>\n",
       "      <td>NaN</td>\n",
       "    </tr>\n",
       "    <tr>\n",
       "      <th>StdTurnover</th>\n",
       "      <td>NaN</td>\n",
       "    </tr>\n",
       "    <tr>\n",
       "      <th>MinTurnover</th>\n",
       "      <td>NaN</td>\n",
       "    </tr>\n",
       "    <tr>\n",
       "      <th>MaxTurnover</th>\n",
       "      <td>NaN</td>\n",
       "    </tr>\n",
       "    <tr>\n",
       "      <th>CVTurnover</th>\n",
       "      <td>NaN</td>\n",
       "    </tr>\n",
       "    <tr>\n",
       "      <th>PurchaseTimes</th>\n",
       "      <td>NaN</td>\n",
       "    </tr>\n",
       "    <tr>\n",
       "      <th>TotalSpending</th>\n",
       "      <td>990</td>\n",
       "    </tr>\n",
       "    <tr>\n",
       "      <th>MeanSpending</th>\n",
       "      <td>990</td>\n",
       "    </tr>\n",
       "    <tr>\n",
       "      <th>StdSpending</th>\n",
       "      <td>NaN</td>\n",
       "    </tr>\n",
       "    <tr>\n",
       "      <th>MinSpending</th>\n",
       "      <td>990</td>\n",
       "    </tr>\n",
       "    <tr>\n",
       "      <th>MaxSpending</th>\n",
       "      <td>990</td>\n",
       "    </tr>\n",
       "    <tr>\n",
       "      <th>NoVarProdParentPurchased</th>\n",
       "      <td>1</td>\n",
       "    </tr>\n",
       "    <tr>\n",
       "      <th>ParentProdList</th>\n",
       "      <td>[33488]</td>\n",
       "    </tr>\n",
       "  </tbody>\n",
       "</table>\n",
       "</div>"
      ],
      "text/plain": [
       "                                                   1\n",
       "BuyerMobileSNO                                  1001\n",
       "LatestPurchaseDate        2016-11-04 14:44:47.476260\n",
       "Recency                                           56\n",
       "MeanTurnover                                     NaN\n",
       "StdTurnover                                      NaN\n",
       "MinTurnover                                      NaN\n",
       "MaxTurnover                                      NaN\n",
       "CVTurnover                                       NaN\n",
       "PurchaseTimes                                    NaN\n",
       "TotalSpending                                    990\n",
       "MeanSpending                                     990\n",
       "StdSpending                                      NaN\n",
       "MinSpending                                      990\n",
       "MaxSpending                                      990\n",
       "NoVarProdParentPurchased                           1\n",
       "ParentProdList                               [33488]"
      ]
     },
     "execution_count": 61,
     "metadata": {},
     "output_type": "execute_result"
    }
   ],
   "source": [
    "RFMsDF[RFMsDF.BuyerMobileSNO == 1001].T"
   ]
  },
  {
   "cell_type": "markdown",
   "metadata": {},
   "source": [
    "#### 將'NA' 取代為特定的值"
   ]
  },
  {
   "cell_type": "code",
   "execution_count": 62,
   "metadata": {},
   "outputs": [
    {
     "name": "stdout",
     "output_type": "stream",
     "text": [
      "(131736, 16)\n"
     ]
    },
    {
     "data": {
      "text/html": [
       "<div>\n",
       "<style scoped>\n",
       "    .dataframe tbody tr th:only-of-type {\n",
       "        vertical-align: middle;\n",
       "    }\n",
       "\n",
       "    .dataframe tbody tr th {\n",
       "        vertical-align: top;\n",
       "    }\n",
       "\n",
       "    .dataframe thead th {\n",
       "        text-align: right;\n",
       "    }\n",
       "</style>\n",
       "<table border=\"1\" class=\"dataframe\">\n",
       "  <thead>\n",
       "    <tr style=\"text-align: right;\">\n",
       "      <th></th>\n",
       "      <th>1</th>\n",
       "    </tr>\n",
       "  </thead>\n",
       "  <tbody>\n",
       "    <tr>\n",
       "      <th>BuyerMobileSNO</th>\n",
       "      <td>1001</td>\n",
       "    </tr>\n",
       "    <tr>\n",
       "      <th>LatestPurchaseDate</th>\n",
       "      <td>2016-11-04 14:44:47.476260</td>\n",
       "    </tr>\n",
       "    <tr>\n",
       "      <th>Recency</th>\n",
       "      <td>56</td>\n",
       "    </tr>\n",
       "    <tr>\n",
       "      <th>MeanTurnover</th>\n",
       "      <td>-9999</td>\n",
       "    </tr>\n",
       "    <tr>\n",
       "      <th>StdTurnover</th>\n",
       "      <td>9999</td>\n",
       "    </tr>\n",
       "    <tr>\n",
       "      <th>MinTurnover</th>\n",
       "      <td>-9999</td>\n",
       "    </tr>\n",
       "    <tr>\n",
       "      <th>MaxTurnover</th>\n",
       "      <td>-9999</td>\n",
       "    </tr>\n",
       "    <tr>\n",
       "      <th>CVTurnover</th>\n",
       "      <td>9999</td>\n",
       "    </tr>\n",
       "    <tr>\n",
       "      <th>PurchaseTimes</th>\n",
       "      <td>1</td>\n",
       "    </tr>\n",
       "    <tr>\n",
       "      <th>TotalSpending</th>\n",
       "      <td>990</td>\n",
       "    </tr>\n",
       "    <tr>\n",
       "      <th>MeanSpending</th>\n",
       "      <td>990</td>\n",
       "    </tr>\n",
       "    <tr>\n",
       "      <th>StdSpending</th>\n",
       "      <td>9999</td>\n",
       "    </tr>\n",
       "    <tr>\n",
       "      <th>MinSpending</th>\n",
       "      <td>990</td>\n",
       "    </tr>\n",
       "    <tr>\n",
       "      <th>MaxSpending</th>\n",
       "      <td>990</td>\n",
       "    </tr>\n",
       "    <tr>\n",
       "      <th>NoVarProdParentPurchased</th>\n",
       "      <td>1</td>\n",
       "    </tr>\n",
       "    <tr>\n",
       "      <th>ParentProdList</th>\n",
       "      <td>[33488]</td>\n",
       "    </tr>\n",
       "  </tbody>\n",
       "</table>\n",
       "</div>"
      ],
      "text/plain": [
       "                                                   1\n",
       "BuyerMobileSNO                                  1001\n",
       "LatestPurchaseDate        2016-11-04 14:44:47.476260\n",
       "Recency                                           56\n",
       "MeanTurnover                                   -9999\n",
       "StdTurnover                                     9999\n",
       "MinTurnover                                    -9999\n",
       "MaxTurnover                                    -9999\n",
       "CVTurnover                                      9999\n",
       "PurchaseTimes                                      1\n",
       "TotalSpending                                    990\n",
       "MeanSpending                                     990\n",
       "StdSpending                                     9999\n",
       "MinSpending                                      990\n",
       "MaxSpending                                      990\n",
       "NoVarProdParentPurchased                           1\n",
       "ParentProdList                               [33488]"
      ]
     },
     "execution_count": 62,
     "metadata": {},
     "output_type": "execute_result"
    }
   ],
   "source": [
    "RFMsDF.PurchaseTimes.fillna(1, inplace=True)\n",
    "# RFMsDF.CountTurnover.fillna(0, inplace=True)\n",
    "RFMsDF.MeanTurnover.fillna(-9999, inplace=True)\n",
    "RFMsDF.MinTurnover.fillna(-9999, inplace=True) # Purchase only once\n",
    "RFMsDF.MaxTurnover.fillna(-9999, inplace=True)\n",
    "RFMsDF.StdTurnover.fillna(9999, inplace=True)\n",
    "RFMsDF.CVTurnover.fillna(9999, inplace=True)\n",
    "RFMsDF.StdSpending.fillna(9999,inplace=True)\n",
    "print (RFMsDF.shape,)\n",
    "RFMsDF[RFMsDF.BuyerMobileSNO == 1001].T"
   ]
  },
  {
   "cell_type": "markdown",
   "metadata": {},
   "source": [
    "#### 將DataFrame表格壓縮後儲存"
   ]
  },
  {
   "cell_type": "code",
   "execution_count": 63,
   "metadata": {},
   "outputs": [
    {
     "name": "stdout",
     "output_type": "stream",
     "text": [
      "Computing time takes 0:00:08.760428\n"
     ]
    },
    {
     "data": {
      "text/plain": [
       "348"
      ]
     },
     "execution_count": 63,
     "metadata": {},
     "output_type": "execute_result"
    }
   ],
   "source": [
    "start = datetime.now()\n",
    "RFMsDF.to_csv('./'+IODataDir+'/RFMsDF.csv.zip', index=False, encoding = 'utf-8', compression=\"gzip\")\n",
    "# RFMsDF.to_csv('./'+IODataDir+'/RFMsDF.csv', index=False, encoding = 'utf-8')\n",
    "print(\"Computing time takes %s\" %(datetime.now()-start))\n",
    "RFMsDF[RFMsDF.BuyerMobileSNO == 1035]\n",
    "del RecencyDF, FrequencyStatisticsDF, MonetaryStatisticsDF, ProductParentPurchasedDF, \n",
    "del RFMsDF, TransactionDataDF, start, TransactionEndingDate\n",
    "import gc\n",
    "gc.collect()"
   ]
  },
  {
   "cell_type": "markdown",
   "metadata": {},
   "source": [
    "[回本章目錄](#本章目錄)"
   ]
  },
  {
   "cell_type": "markdown",
   "metadata": {},
   "source": [
    "### 總結\n",
    "- #### 在這一章章節裡，我們介紹了NumPy在向量/矢量(vector)的運算功能，包括陣列/數組(arrays)和數據類型(data types)的相關運算。統計學和線性代數中的常用函數(Statistics and Linear Algebra)，幾乎是以Numpy作為基礎的衍生，了解NumPy的基本概念後，就更能利用上述的常用函數來進行數據分析了。\n",
    "- #### Pandas是個Python資料分析的軟件包。我們以一個電子商務網站的交易數據實例，為大家介紹我們如何利用Pandas的功能來處理數據。\n",
    "- #### NumPy和Pandas的搭配使用，讓準備數據以及執行基本的統計分析變成相當容易上手。 \n",
    "- #### 雖然，我們並沒有著磨在Matplotlib這個Python數據視覺化的軟件包上，隨著後面幾個章節的學習，讀者將能了解Matplotlib的使用。\n",
    "- #### 我們提供許多參考文件的位址，非常建議讀者能善用與自我探索。\n",
    "- #### 下一章起，我們將開始進入數據分析的的領域，伴隨理論的講解，我們以Python與Python軟件包來印證一些實例。"
   ]
  }
 ],
 "metadata": {
  "kernelspec": {
   "display_name": "Python 3",
   "language": "python",
   "name": "python3"
  },
  "language_info": {
   "codemirror_mode": {
    "name": "ipython",
    "version": 3
   },
   "file_extension": ".py",
   "mimetype": "text/x-python",
   "name": "python",
   "nbconvert_exporter": "python",
   "pygments_lexer": "ipython3",
   "version": "3.6.5"
  }
 },
 "nbformat": 4,
 "nbformat_minor": 2
}
