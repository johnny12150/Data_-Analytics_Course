{
 "cells": [
  {
   "cell_type": "markdown",
   "metadata": {},
   "source": [
    "**建議的參考書籍 Text Book -Python for Data Analysis, 2nd Edition**\n",
    "- 這本書的程式碼在[Github](https://github.com/wesm/pydata-book)可以找到，而且可以免費自由使用。中、英文版的説明都有。\n",
    "- 作者Wes McKinney是Python Package - Pandas的原創者，所以書中關於pandas的講解也是最實用的部分。\n",
    "- 使用Anaconda Python發行版，內含有其他一些需要的Python軟件包\n",
    "- 除了以Pandas的介紹外，也涉及到scipy, statsmodels和scikit-learn軟件包，這些軟件包都跟Data Science的應用，習習相關。\n",
    "- 中文書中文書或許有第二版，鼓勵多看英文。\n",
    "<div class=\"fig figcenter fighighlight\">\n",
    "  <img src=\"./Data_and_Images/BookCover.webp\" width=\"350\" style = \"display: inline; float: left; margin-top: 24px; margin-left: 40px\"/>\n",
    "  <img src=\"./Data_and_Images/BookGithub.png\" width=\"350\" style = \"display: inline; float: left; margin-top: 120px; margin-left: 30px\"/>\n",
    "</div>"
   ]
  },
  {
   "cell_type": "markdown",
   "metadata": {},
   "source": [
    "### 第一章：序言\n",
    "### Chapter 1. Preliminary"
   ]
  },
  {
   "cell_type": "markdown",
   "metadata": {},
   "source": [
    "#### 本章目錄"
   ]
  },
  {
   "cell_type": "markdown",
   "metadata": {},
   "source": [
    "* [1. 洪水般的數據湧現](#1.-洪水般的數據湧現)\n",
    "* [2. 洪水般的數據中採摘鑽石](#2.-洪水般的數據中採摘鑽石)\n",
    "* [3. 數據分析與數據科學](#3.-數據分析與數據科學)\n",
    "    * [3.1 探索性數據分析與數據可視化技術 - Exploratory Data Analysis and Data Visualization](#3.1-探索性數據分析與數據可視化技術---Exploratory-Data-Analysis-and-Data-Visualization)\n",
    "    * [3.2 預測性分析 - Predictive Analytics](#3.2-預測性分析---Predictive-Analytics)\n",
    "    * [3.3 指導性分析 - Prescriptive Analytics](#3.3-指導性分析---Prescriptive-Analytics)\n",
    "* [4. 數據科學 - Data Science](#4.-數據科學---Data-Science)\n",
    "    * [4.1 開放資料源(Open Data)](#4.1-開放資料源&#40;Open-Data&#41;)\n",
    "* [5. 工欲善其事，必先利其器 - A Handy Tool Makes a Handy Man](#5.-工欲善其事，必先利其器---A-Handy-Tool-Makes-a-Handy-Man)\n",
    "    * [5.1 Python程式語言](#5.1-Python程式語言)\n",
    "    * [5.2 使用Anaconda發行版進行Python相關軟體的安裝與執行](#5.2-使用Anaconda發行版進行Python相關軟體的安裝與執行)\n",
    "* [6. Python、IPython以及Jupyter Notebook](#6.-Python、IPython以及Jupyter-Notebook)\n",
    "    * [6.1 執行Python解釋器](#6.1-執行Python解釋器)\n",
    "    * [6.2 執行IPython解釋器](#6.2-執行IPython解釋器)\n",
    "    * [6.3 執行Jupyter Notebook](#6.3-執行Jupyter-Notebook)\n",
    "    * [6.4 基本的Python軟件包介紹](#6.4-基本的Python軟件包介紹)\n",
    "* [7. 本章參考文件](#7.-本章參考文件)"
   ]
  },
  {
   "cell_type": "markdown",
   "metadata": {},
   "source": [
    "#### 1. 洪水般的數據湧現\n",
    "- 當今，數據似洪水氾濫(deluge)，它流經著我們生活的每一個渠道，數據已然無處不在。利豐有限公司(Li & Fund)是在香港交易所上市的一家供應鏈的零售商公司，主要業務是消費產品之出口貿易，消費產品包括成衣、時尚飾物、玩具與遊戲、運動用品、傢具、手工藝品、鞋類與餐具等。以往，其每天流經自家網站的數據大約可以有100千兆字元(100 gigabytes)。而今，這樣的數據已悄然地增加了數十倍之多。隨著蒐集數據裝置與模式的改進，在飛越伊拉克和阿富汗的美國無人駕駛飛機其蒐集並傳回的監控錄像與過去相比也已達到30～40倍之多。\n",
    "- 無論從任何地方看，世界上的數據數量正在飆升。據估計，人類在2005年創建了約十億兆字元(billion gigabytes; $10^{15}$ bytes)的數據。我們目前的數據輸出`每天`大約2.5百京字元($10^{18}$ bytes) ，而這樣規模中的90％數據是在過去的兩年裡創造的。隨著越來越多的電子終端設備的相互聯結，數據量的增長真是永遠不眠的([Data Never Sleeps](https://www.domo.com/learn/data-never-sleeps-5?aid=ogsm072517_1&sf100871281=1) )。\n",
    "- 根據[Data Never Sleep 5.0](https://www.domo.com/learn/data-never-sleeps-5?aid=ogsm072517_1&sf100871281=1)的報告，我們發覺，整體互聯網人口自2016年以來已經增長了7.5％，超過了37億人。而單就數據的使用方面，平均每個美國人每分鐘就產生了265.7萬千兆字元(gigabytes)的互聯網數據。互聯網的媒體平台和服務的增長如日中天，以互聯網頻帶的最大用戶 Amazon，YouTube以及Netflix為例，亞馬遜網站的每分鐘銷售額以達到258,751美元的歷史紀錄，相較於去年的222,283美元，有近12%的增長; 每分鐘在YouTube觀看的視頻數量已經達到414萬，流量比以往任何時候都要多; Netflix的“每單位小時數下每分鐘所觀看的次數”與2016年相比，下降了20％，代表著觀看者在觀看節目的時間正在拉長。有趣的是，天氣訊息的請求竟悄悄地成長了，天氣頻道的網站收到了大約1800萬個預測請求，比去年報告增加了22％。每分鐘發送的短信已超過350萬條。在本文(text)的數量上，現在約有一千五百二十萬個文本，比去年報告增長了%334。但這還不是全部，其他的亮點還包括：平均每分鐘，Uber執行著45,787行程，Spotify增加13首新歌，在Twitter上發送訊息456,000，Instagram發表46,740次照片，Google的360萬次搜尋，Wikipedia發布600次新的頁面編輯。互聯網每分鐘約有103,447,520封垃圾郵件。\n",
    "- 這些如洪水般的數據，可能是有用的，但要將它存儲起來，卻是非常困難。分析數據，以發現模式和提取出有用的信息，甚至更難。即時如此，這股數據洪水的來臨，已經開始轉變了企業，政府，科學和我們的日常生活。政府和社會也開始努力去挖掘數據擁有的巨大潛力，因為大家了解到如果能正確地運用這些數據，對企業，政府，科學和我們的日常生活上的幫助是深具意義的。"
   ]
  },
  {
   "cell_type": "markdown",
   "metadata": {},
   "source": [
    "[回本章目錄](#本章目錄)"
   ]
  },
  {
   "cell_type": "markdown",
   "metadata": {},
   "source": [
    "#### 2. 洪水般的數據中採摘鑽石\n",
    "- 以企業的商業運作而言，數據(Data)的重要性，在於我們經常需要數據的訊息，來了解企業當前的狀態以及數據如何影響整體的商業運作。例如，如果我們沒有每月銷售多少個單位量的數據，我們就沒有辦法確定我們的業務狀況進行的如何。當然還有很多其他類別的重要數據，關係著一個企業商業運作的成功與否。不同的企業商業運作模式，在數據運用上的目的自然不同。例如：\n",
    "    - 信用卡公司從數十億過往的交易數據中，產生盜刷詐欺行為的規則(rules)，在監視每個購買交易的同時，能在高度準確率下，識別出盜刷的詐欺行為。\n",
    "    - 保險公司從過往的索賠數據，分析並找出欺詐索賠的跡象，以便日後能偵查並發現可疑的索賠。\n",
    "    - 電信業者從用戶的電話使用數據上，可以了解到用戶在網外或網內的使用狀況，以適時地提供方案，吸引用戶邀約其網外的聯絡人加入該電信業。\n",
    "    - 零售商在蒐集了客戶多年來的交易數據後，可經由分析而了解客戶的類型，進而針對特定類型的客戶進行相對的行銷活動。\n",
    "    - 在醫療保健方面，分析數字化的記錄數據，將更容易發現和監測健康狀況，也可評估不同的治療方式下的治療有效性。\n",
    "\n",
    "- 產業在其高度競爭的環境下，蒐集和利用數據的能力以強化其競爭優勢，已然是基本的認知。在本書中，我們將藉由許許多多的範例來探討各式各樣的數據以及它們在給定的範例中所代表的意義，並藉由分析方法的介紹來達到我們運用數據的目地。"
   ]
  },
  {
   "cell_type": "markdown",
   "metadata": {},
   "source": [
    "[回本章目錄](#本章目錄)"
   ]
  },
  {
   "cell_type": "markdown",
   "metadata": {},
   "source": [
    "#### 3. 數據分析與數據科學\n",
    "- 談到數據分析的程序，首先面對的就是蒐集數據。企業的數據來源範圍可以從客戶數據，到銷售數據，到產品或服務數據。來自企業的內部數據最常見的是交易的數據，它來自包括銷售報告、分類帳、網絡的支付交易，以及客戶關係管理系統中的客戶及其購買產品等等的數據。企業的數據來源也可能是來自外部的，例如，利用社交媒體LinkedIn，Twitter和Facebook提供的洞察報告(insights)，以取得網路頁面的流量與客戶種類的分析。上述這些平台也提供較具成本效益的方法，幫助企業進行關於客戶對產品或服務的滿意度調查和客戶的偏好。企業也可以使用如Google Analytics提供的客戶在線參與報告(Online Engagement Reporting)，以獲得客戶與企業網站互動的數據，從中了解如何才能夠吸引訪客的注意力或如何引導訪客瀏覽網站。下圖描述了電子商務公司AMZ的內、外部數據與訊息的共通平台:\n",
    "<img src=\"./Data_and_Images/DataInformationCommon.jpg\" height=\"800\" width=\"600\">\n",
    "- 蒐集後的數據需要更進一步去分析它，數據分析是個程序(procedure)，它的生命週期(lifecycle)包含定義、量測、分析、增進與控制五大程序，如下圖所示：\n",
    "<img src='./Data_and_Images/DMAIC_Flow.png'height=\"800\" width=\"600\">\n",
    "- 首先是設定(define)數據分析的目標，目標有時是為了達到某些商業活動或商業分析的目的，目標是相當具專業性的。在企業活動中，目標設定的參與人，是不同領域的專家，這些專家們能決定為了達成目標需要什麼類型的數據？選擇蒐集數據需要的衡量(measure)的標準？，亦即單位、比率、時間區間或甚至數據精確度。 這些衡量的標準影響著蒐集數據的方式，進而影響到決定以後如何分析的決策。下一步就是蒐集數據，藉由整理、檢查和解釋數據的過程，以便處理不正確、遺漏或空缺的數據，這個動作我們稱為數據清理(data munging)。\n",
    "- 上圖的分析(analyze)方塊中，若以分析的複雜度而言，則可以涵蓋如下圖的幾個面相(phases)。讓我們詳細來解釋他們:\n",
    "<img src=\"./Data_and_Images/Data Analytics Phases.png\" height=\"800\" width=\"600\">"
   ]
  },
  {
   "cell_type": "markdown",
   "metadata": {},
   "source": [
    "[回本章目錄](#本章目錄)"
   ]
  },
  {
   "cell_type": "markdown",
   "metadata": {},
   "source": [
    "#### 3.1 探索性數據分析與數據可視化技術 - Exploratory Data Analysis and Data Visualization\n",
    "- 完成上述動作後，這時可以開始探索與分析數據了，探索性數據分析(exploratory data analysis;EDA)是一種分析數據的方法之一，主要目的是總結出數據的主要特徵。在正式建模或假設測試任務之前，EDA主要是用於查看數據可以告訴我們什麼？在探索性數據分析中，描述性統計(descriptive statistics)的方法可以理清出數據樣本的主要統計量(statistics)，例如，攸關集中趨勢(central tendency)的平均值(mean)、中位數(median)、眾數(mode)以及數據變數的峰度(kurtosis)和偏度(skewnes);攸關分散(dispersion)狀況的標準差(standard deviation)、四分位間距(quartile range)、範圍(range;最小值和最大值);攸關數據分佈(distribution)的直方圖或密度估計)(histogram or density estimate)，分位數圖(quantile plot)，累積分佈函數(cumulative distribution function)，相對頻率表(relative frequencies)以及攸關關聯性的數據變數間之相關性(correlation)、勝算比(odds-ratio)以及標準化平均差(standardized mean difference)等等，以做為數據樣本的趨勢總結(summarize)。\n",
    "- EDA通常可伴隨著視覺化的技術，以協助我們觀察數據。數據可視化(data visualization; DV)是個圖形化技術，利用各種各樣的圖表，線性圖、圓餅圖等等，將描述性分析以視覺化來呈現數據的趨勢。數據可視化技術的應用很廣，它不單單只能用於較偏於統計分析的EDA，它可以藉由人的想像力和創造力來洞察非結構化(unstructured)數據的內含。它也廣泛被泛運用於企業的報表顯現，特別是對於業務活動監控和企業的績效管理。\n",
    "- EDA及DV的分析，可以讓我們建立這些蒐集來的數據它們之間因果關係的假設，藉由統計推斷(statistical inference)以評估前述所提出假設，繼而達到一個以信賴度(confidence level)來解釋的結論，進而協助未來蒐集數據的方向與動作。EDA是統計思維的一種技術方式，雖然EDA透過描述性分析以統計量測呈現過去的狀況，並不著眼於對未來的預測，然而這樣的分析，其重要的價值之一是可以用於預警(alerts)，亦即當數值高於或低於某些統計量測值時會發出通知。例如，當地震發生時，震動波高於平常的數值時，發出通知就是一種例子。在本書中，我們將藉由範例來介紹EDA與DV的分析方法。"
   ]
  },
  {
   "cell_type": "markdown",
   "metadata": {},
   "source": [
    "[回本章目錄](#本章目錄)"
   ]
  },
  {
   "cell_type": "markdown",
   "metadata": {},
   "source": [
    "#### 3.2 預測性分析 - Predictive Analytics\n",
    "- 數據分析中另一個重要的應用就是預測。預測分析用於預測未知的未來事件。它可以使用統計演算法(例如，以貝氏理論為基礎的分類)、數據挖掘(data mining)、類神經網絡與深度學習(neural networks and deep learning)、機器學習(machine learning)或者是人工智慧(artificial intelligence)等多種技術，並搭配當前蒐集的數據來建模(modeling)以對未來進行預測。預測分析的應用是廣泛且有價值的，然而預測分析的技術相當多樣，在本書中，我們將從決策樹與線性回歸的學習概念開始，探討預測與分類的不同點。我們帶讀者們來了解分類問題的兩大參數估計的模型:判别模型生成模型。然後將重點置於類神經網絡與深度學習。並介紹Google TensorFlow軟體的應用。"
   ]
  },
  {
   "cell_type": "markdown",
   "metadata": {},
   "source": [
    "[回本章目錄](#本章目錄)"
   ]
  },
  {
   "cell_type": "markdown",
   "metadata": {},
   "source": [
    "#### 3.3 指導性分析 - Prescriptive Analytics\n",
    "- 數據分析可以是敘述性的，也就是將過去發生的事情，總結在簡單的數字報告和數字圖表中。數據分析可以是預測性的，使用過去的數據來建模並使用它來預測未來。如果不僅可以基於過去的數據或未來可能發生的事件制定決策，我們將此種分析歸類於指導性分析。換言之，指導性數據分析是著重在給定的某一情況下，能提供最佳的行動方案。指導性分析的建模同時使用了商業規則(business rules)、歷史數據、交易數據以及即時的數據饋入(data feed)，藉由情境模擬與自動的最佳化演算法，達到機器學習(machine learning)的效果。因此，指導性分析可以視為是一種推薦模型，根據未來的場景(scenarios)提出最佳的處理建議、策略或採取某些對應的行動方針。以零售行業為例，實體店的銷售額取決於多個因數，例如產品價格、促銷活動、推廣活動、銷售時段、產品擺放位置以及顧客排隊結賬的平均時間等等。利用數據分析歸納不同情況下的銷售額，再根據公司的實際條件，總結最佳的方案。根據分析建議，調整指定因數，例如在某個時期的某個時段對產品進行某個建議的價格調整和工作人員的調配，將有助於把銷售額做最大化的提升。\n",
    "- 指導性分析在科技的應用上，最令人熟悉的是自駕車(self-driving car)，在駕駛的過程中，接受即時數據，即時分析並做出決策，並將數據與決策儲存起來，不斷地道路模擬，使得自駕車越來越能安全的自駕。本書中，我們將介紹強化式學習(reinforcement learning)，強化式學習不但可以執行行動，也可觀察結果，然後從經驗中學習，以便將來可以採取更好的行動。強化學習是一種藉由與外部環境互動的目標式學習方法(goal-oriented)，其目的是讓程式在一個環境中的決策動作乃基於能獲得最大化的獎勵。在不斷與外部環境互動下，隨著時間的進展，強化式學習會制定一個如何在熟悉環境中進行動作的好策略。有名的應用例子就是AlphaGO。\n",
    "\n",
    "在數據分析的過程中，有時獲得的結果未必與目標相符，這時需要更正使用的分析方法或技術，也有可能重新定義需要蒐集的數據，這過動作謂之改進(improve)。當獲得滿意的結果後，我們需要將整個從定義、量測、分析以及改進的流程記錄下來，我們稱這個過程是個控制(control)的過程，每個過程成為一個知識集，累積的知識集將有助於我們型成<font color='red'>自動化分析(Automating Analytics)</font>的目標。自動化分析，也是工業化 4.0 的最終奧義。根據數據分析，自動化定義製造流程。無論是在金融市場，或是工業製造正在往這個方向前進。然而，這一塊的發展正在持續發展中，值得保持注意。"
   ]
  },
  {
   "cell_type": "markdown",
   "metadata": {},
   "source": [
    "[回本章目錄](#本章目錄)"
   ]
  },
  {
   "cell_type": "markdown",
   "metadata": {},
   "source": [
    "#### 4. 數據科學 - Data Science\n",
    "- 數據分析是個程序(procedure)，它包含定義、量測、分析、增進與控制的五大循環與反饋機制。它也內涵了我們對科學方法五大步驟的定義，這五大步驟為:(1)觀察與研究:定義量測和數據證據;(2)假設:基於知識和研究提出可能的解決方案;(3)預測:建立從事實或例子中得出的一般規則或結論;(4)實驗:設計的一個工具，在重複，批判性分析，驗證和測試下，確定假設是否正確或錯誤;(5)結論。也因此，在洪水般的數據湧現的時代，孕育出了數據科學(data science)這個領域。執行一數據科學項目，所需的技能涵蓋編程(programming)、數學與統計學以及特定領域的專業知識。可見，執行一數據科學項目是需要多項專業的人員參與，它囊括了以下內容:\n",
    "    - 1.定義和建構分析性的議題：妥善的定義和建構議題，一開始要先確認一個問題或決定，再著手解決它。在決策分析中，這個步驟稱為建構問題(framing)，這是一個好的決策過程中最關鍵的部分。在建構議題的階段，經理人需要專注完成的是(1)有系統地確認議題;(2)評估議題題;(3)考慮建構議題的所有可行性方式等等。此外，經理人要具備與團隊人員溝通的技能與知識，才能建立一個可行的分析議題。\n",
    "    - 2.和量化人員共事：與計量分析師們(quants)建立緊密的工作關係，對經理人來說相當重要。因為經理人懂得商業問題；而計量分析師懂得如何蒐集有關那個議題的數據，並加以分析。為了讓這樣的合作關係順利運作，雙方都要互相援助，設法找到形成共識的基礎。\n",
    "    - 3.理解不同類型的數據和它們的涵義：大多數的經理人，並不真正了解數據大與小的差異，並濫用大數據這個詞彙。其實，大與小這名稱並不是那麼重要，但是，知道不同類型數據的差別，卻相當重要。事實上，小數據儘管「小」，但卻很有用，「小」的真確意義是(1)數據量的規模大小是能被管理的(能夠置於單一伺服器內);(2)數據型式已經結構化或表格化;(3)數據變動相對是較不頻繁。小數據最有可能來自企業的交易系統，例如財務系統、客戶關係管理(CRM)系統，或是訂單管理系統。大多數的公司在分析這種類型的數據已經很多年了，雖然最近小數據沒有得到媒體太多關注，但是它對理解客戶、公司的財務表現以及供應鏈的狀況，都是必要的數據分析與應用。大數據事實上是比較則難以駕馭的，數據量太大無法放進單一伺服器，相對比較不結構化，而且變動快速。大數據更有可能來自企業以外的業務交易，例如顧客和潛在顧客在社群媒體上談論的內容、他們向客服中心說了什麼、還有他們在商店裡的舉動等等。大數據帶來非常好的機會，但是將它轉化為易於分析的結構化形式，往往是個挑戰。如果想成功運用它，合作的計量人員可能必須是數據科學家。\n",
    "    - 4.理解不同類型的分析和它們的涵義：許多年來，大多數的分析都是敘述性的，也就是說，將過去發生的事情，總結在簡單的數字報告和數字圖表中，但那不是唯一的理解方式。其它如(1)預測分析運用統計模型，使用過去的數據來預測未來;(2)指導性分析為人們如何在工作中做決策提出建議。大部分的經理人，需要別人催促才會採用這些他們不太熟悉的預測性分析或指導性分析，但是它們的價值通常遠遠高過敘述分析。\n",
    "    - 5.探索分析的內部與外部運用：最後，經理人必須知道分析在內部、外部運用有何區別。過去以來，分析幾乎只用在支援內部決策。當然，這方面仍然有用，但是公司現在也應該使用數據分析，來創造新產品和新服務。\n",
    "\n",
    "- 掌握這些基本知識無法讓人成為分析專家，但會讓人更有效地使用「數據」這一項重要資源。在現代商業世界中，不懂得分析，會對自己和自己的公司榮景造成危險。本書的最大目的即是帶領讀者來了解這個數據科學的領域。數據科學的確是個跨領域的學門，我們可以由下圖來描述:"
   ]
  },
  {
   "cell_type": "markdown",
   "metadata": {},
   "source": [
    "<img src=\"./Data_and_Images/DS.png\" height=\"666\" width=\"500\"/>"
   ]
  },
  {
   "cell_type": "markdown",
   "metadata": {},
   "source": [
    "<div class=\"fig figcenter fighighlight\">\n",
    "  <img src=\"./Data_and_Images/Buzzwords.png\" width=\"400\" style = \"display: inline; float: left; margin-top: 12px; margin-left: 140px\"/>\n",
    "  <img src=\"./Data_and_Images/ML_Stat_DM.png\" width=\"400\" style = \"display: inline; float: left; margin-left: 12px\"/>\n",
    "</div>"
   ]
  },
  {
   "cell_type": "markdown",
   "metadata": {},
   "source": [
    "成為數據科學家 - 以地鐵地圖描述學程(Become a Data Sciencist – Curriculum via Metromap)\n",
    "下圖的出處：[Swami Chandrasekaran貼文於 07/08/2013](http://nirvacana.com/thoughts/2013/07/08/becoming-a-data-scientist/)"
   ]
  },
  {
   "cell_type": "markdown",
   "metadata": {},
   "source": [
    "<img src=\"./Data_and_Images/Becoming a Data Scientist – Curriculum via Metromap.png\" height=\"666\" width=\"500\"/>"
   ]
  },
  {
   "cell_type": "markdown",
   "metadata": {},
   "source": [
    "上圖為作者認為要成為一位數據科學家所需的學程訓練，並以地鐵的行程規劃圖來描繪。圖中描述了十個領域學程:\n",
    "- (1)基礎學程(Fundamentals)、(2)統計學程(Statistics)、(3)程式設計(Programming)、(4)機器學習Machine Learning、(5)文本挖掘/自然語言處理Text Mining / Natural Language Processing、(6)數據視覺化(Data Visualization)、(7)大數據(Big Data)、(8)數據攝取(Data Ingestion)、(9)數據處理(Data Munging)、(10)軟體工具箱(Toolbox)。\n",
    "- 每一條幹線基本上是一個領域，而幹線上每個站都是該領域中的一個專有主題或理論，當你想選擇一個領域開始學習時，就從起點出發，不是經過的每一站都是必需學習的。例如，以程式設計這條幹線來說，可以選擇Python Basics，當到達R Studio這一站時，就可以選擇是否過站或停靠。藉由幹線的分岔點可轉到另一條幹線上，並開始學習另一個領域的技術。走完一整條幹線的領域全程，意味著具備該領域的足夠能力了。\n",
    "- 要具備這張圖中每條幹線的能力，絕對是一條漫長的旅程。這著實讓人有被打擊的感覺，而這正意味者數據科學是跨領域而且是一項團隊合作的專業項目。"
   ]
  },
  {
   "cell_type": "markdown",
   "metadata": {},
   "source": [
    "我們以產業的實況來描述數據科學家到底在做些什麼？\n",
    "- 以首席數據科學家的角色開始，首席數據科學家首先應該設定公司的數據戰略，這涉及到各種各樣的事情：從工程和基礎設施設置下，收集數據和日誌(logs)，考量隱私議題，決定哪些數據是用戶的面向，數據如何被用來作出決定，以及最終如何建立一個數據科學產品。首席數據科學家要管理一個含有工程師，科學家和分析師的團隊，並應與上層領導溝通。首席數據科學家在設置研究目標當下，更要聚焦在創新的解決方案與獲取專利的思維。\n",
    "- 一般而言，數據科學家是一位知道如何擷取數據並能解釋數據的人，這是需要工具和方法的(例如：統計和機器學習)。數據科學家在蒐集，清理和處理數據過程中，通常要花費大量的時間，因為數據往往是不完備的(例如：數據錯誤、數據遺漏等等)。這樣的工作，是個持久性的過程，需要統計學和軟件工程技能， 要能理解數據中的偏差，並能適時調整的能力。一旦數據完備了，接下來是藉由數據視覺化和對數據的敏感度，來做探索性的數據分析。\n",
    "- 探索性的數據分析之後，數據科學家的下一步是找數據式樣(patterns)，建立模型和演算法，設計實驗，科學驗證。最終，交付出數據科學下的產品。\n",
    "- 在以上的過程中，數據科學家要能以領導者的角色以及清晰的語言和數據視覺化的呈現，進行與技術及非技術團隊成員溝通。即便有些成員並沒有直接處理或分析數據，經由溝通後，也要使他們理解這些數據原始的含義以及分析後的推論。"
   ]
  },
  {
   "cell_type": "markdown",
   "metadata": {},
   "source": [
    "[回本章目錄](#本章目錄)"
   ]
  },
  {
   "cell_type": "markdown",
   "metadata": {},
   "source": [
    "#### 4.1 開放資料源(Open Data)\n",
    "#### 為了支持不斷增長的資料需求，現在有大量的開放資料可在互聯網上找到。 這些資料源提供的資訊，任何人只要有需求都可以自由地使用，這些資料源被稱為開放資料源。以下提供的是一些線上開放資料列表。 \n",
    "**政治和政府數據**\n",
    "   * [DataHub](http://datahub.io/dataset), [Socrata](http://www.socrata.com/resources/), [Data.gov](http://data.gov), [美國人口普查局(US Census Bureau)](http://www.census.gov/data.html), [聯合國統計數據庫(UN3ta)](https://data.un.org/), [歐盟開放數據門戶網站](http://open-data.europa.eu/en/data/), [Data.gov.uk](http://data.gov.uk/), [The CIA World Factbook](https://www.cia.gov/library/publications/the-world-factbook/)\n",
    "\n",
    "**醫療健康數據**\n",
    "   * [世界衛生組織](http://www.who.int), [Healthdata.gov](https://www.healthdata.gov/), [NHS健康與社會關懷信息中心(NHS Health and Social Care Information Centre)](http://www.hscic.gov.uk/home)\n",
    "\n",
    "**社交數據**\n",
    "  * [Facebook Graph](http://developers.facebook.com/docs/graph-api), [Facebook Likebutton](http://likebutton.com/), [Google Trends](http://www.google.com/trends/explore)\n",
    "\n",
    "**其他公共數據集**\n",
    "  * [Amazon Web Service公共數據集](http://aws.amazon.com/datasets), [DBPedia](http://wiki.dbpedia.org), [Freebase](http://www.freebase.com/), [Gapminder](http://www.gapminder.org/data/), [Google Finance](https://www.google.com/finance)\n",
    "\n",
    "**氣候數據**\n",
    "  * [National Climatic Data Center](http://www.ncdc.noaa.gov/data-access/quick-links#loc-clim), [WeatherBase](http://www.weatherbase.com/), [Wunderground](http://www.wunderground.com/)\n",
    "\n",
    "**體育數據**\n",
    "  * [Pro-Football-Reference](http://www.pro-football-reference.com/)\n",
    "\n",
    "**出版物，報紙和書籍**\n",
    "  * [New York Times](http://developer.nytimes.com/docs), [Google Books Ngrams](http://storage.googleapis.com/books/ngrams/books/datasetsv2.html)\n",
    "\n",
    "**音樂數據**\n",
    "  * [Million Song Data Set](http://aws.amazon.com/datasets/6468931156960467)\n",
    "\n",
    "**AI and Machine Learning**\n",
    "  * [Machine Learning Repository](http://archive.ics.uci.edu/ml/), [kaggle](https://www.kaggle.com/)\n",
    "\n",
    "您也可以查看[LOD clouddiagram](http://lod-cloud.net)網站，它顯示了網絡上當前可用的開放資料源。"
   ]
  },
  {
   "cell_type": "code",
   "execution_count": 1,
   "metadata": {},
   "outputs": [
    {
     "data": {
      "text/html": [
       "\n",
       "        <iframe\n",
       "            width=\"800\"\n",
       "            height=\"600\"\n",
       "            src=\"http://lod-cloud.net\"\n",
       "            frameborder=\"0\"\n",
       "            allowfullscreen\n",
       "        ></iframe>\n",
       "        "
      ],
      "text/plain": [
       "<IPython.lib.display.IFrame at 0x110e92e80>"
      ]
     },
     "metadata": {},
     "output_type": "display_data"
    }
   ],
   "source": [
    "from IPython.display import display,IFrame\n",
    "display(IFrame(\"http://lod-cloud.net\", height ='600' ,width='800'))"
   ]
  },
  {
   "cell_type": "markdown",
   "metadata": {},
   "source": [
    "[回本章目錄](#本章目錄)"
   ]
  },
  {
   "cell_type": "markdown",
   "metadata": {},
   "source": [
    "#### 5. 工欲善其事，必先利其器 - A Handy Tool Makes a Handy Man\n",
    "#### 5.1 Python程式語言"
   ]
  },
  {
   "cell_type": "markdown",
   "metadata": {},
   "source": [
    "[Python](http://www.python.org/) 是一物件導向、通用目的(general-purpose)以及高階的手稿式編程語言(scripting language)。\n",
    "- Python語言的一般特性是清晰簡單、易於閱讀和直觀的編碼、語法簡易而易於學習、可維護性高、高階的表達式語言(expressive language)且編碼簡潔而可維護性高。\n",
    "- 就技術性規格來說，Python語言的變數是動態語言的變數，只用來參考數據，本身不帶有型態資訊，也因此不需先宣告變數及函數傳回的數據型態。在記憶體的管理上，不需要先對變數或陣列(array)的大小要求記憶的分配和釋放記憶的分配。自動的記憶體垃圾回收(garbage collection)外，也可以手動式執行。無記憶體洩漏(memory leak)的錯誤。不需要編譯(compile)程式碼。此外，Python有多樣性的標準或附帶的(add-on)功能庫，龐大的使用者社群，很容易透過網路尋求到幫助或取得相關文件檔。\n",
    "- #### 下圖是2016數據分析使用程式語言的排行榜，如左下圖可知，近年來Python在科學運算(scientific computing)與數據分析上，已佔有極重要的地位。Python的環境生態系統相當廣泛，尤其在數據科學的功能庫(libraries)/軟件包(package)，其中最常用的是[numpy(numerical python)](http://www.numpy.org)、[scipy(scientific python)](http://www.scipy.org)、視覺化的繪圖功能庫[matplotlib](http://www.matplotlib.org)以及高效能、使用簡易且讓使用者可以快速操作及分析數據的[pandas功能庫](https://pandas.pydata.org)。右下圖為[前15名常用於數據科學的功能庫](http://www.kdnuggets.com/2017/06/top-15-python-libraries-data-science.html)。\n",
    "- Python因為是直譯式且動態變數的語言，所以在執行上較編譯式語言慢，為提高效能，Python與高度優化的程式代碼如C和Fortran是緊密整合的。除此之外，Python支援平行與多緒的處理(parellel and multi-threads processing)、進程間通信(interprocess communcation;IPC)、平行計算的應用程式接口-訊息傳遞介面(Message Passing Interface; MPI)以及GPU計算(例如OpenCL和CUDA)等等，可適合在高性能計算集群(computing clusters)上使用。使用Python是不需要許可費用的，可以省下研究預算。"
   ]
  },
  {
   "cell_type": "markdown",
   "metadata": {},
   "source": [
    "<div class=\"fig figcenter fighighlight\">\n",
    "  <img src=\"./Data_and_Images/SoftwarePoll.jpeg\" width=\"400\" style = \"display: inline; float: left; margin-left: 40px\"/>\n",
    "  <img src=\"./Data_and_Images/Top15PythonLibraries.png\" width=\"400\" style = \"display: inline; float: left; margin-left: 40px\"/>\n",
    "</div>"
   ]
  },
  {
   "cell_type": "markdown",
   "metadata": {},
   "source": [
    "[回本章目錄](#本章目錄)"
   ]
  },
  {
   "cell_type": "markdown",
   "metadata": {},
   "source": [
    "#### 5.2 使用Anaconda發行版進行Python相關軟體的安裝與執行\n",
    "- 本書將使用**Anaconda**，Anaconda發行版(distribution)含有許多免費的科學計算和數據科學軟件包(package)，免費許可的範圍包括用於商業用途和軟件可以被重新發布(redistribution)。 當然，還有其他的發行版和安裝選項(如Enthought Canopy，WinPython，Pytho(x，y)等等)，有興趣的讀者可以自行參考。這裡是Anaconda Python的[下載位置](http://continuum.io/downloads.html)，請依照您使用的作業系統(OS);並請選擇「64-bit」以及「Python 3.6 version」。**Anaconda**安裝程序根據不同的操作系統有不同的程序：\n",
    "> Linux：安裝程序是一個bash `.sh`腳本(script)，請以`bash Anaconda3-5.X.X-Linux-x86_64.sh`這樣的命令執行它。\n",
    "> Mac圖形安裝程序是一個`.pkg`文件，以雙擊(double-click)執行。\n",
    "> Windows圖形安裝程序是一個`.exe`文件，以雙擊(double-click)執行。\n",
    "\n",
    "- 接著跟隨安裝的指示進行安裝。**Anaconda**內附conda的軟件包管理器，它可以管理Anaconda發行版，也就是說**conda**可以用來安裝新軟件包或更新舊的軟件包。除了conda的軟件包管理器，`pip`也是常用的軟件包管理器，我們後續會在課本中提及他們的使用\n",
    "- 安裝後在開始使用**Anaconda**之前，需要執行以下步驟:"
   ]
  },
  {
   "cell_type": "markdown",
   "metadata": {},
   "source": [
    "<div class=\"fig figcenter fighighlight\">\n",
    "  <img src=\"./Data_and_Images/AnacondaPromptWindows.png\" width=\"450\" style = \"display: inline; float: left; margin-left: 40px; margin-top: 12px\"/>\n",
    "  <img src=\"./Data_and_Images/OSX_Terminal.png\" width=\"450\" style = \"display: inline; float: left; margin-left: 24px\"/>\n",
    "</div>"
   ]
  },
  {
   "cell_type": "markdown",
   "metadata": {},
   "source": [
    "1. Windows使用者可以在視窗功能上選取執行`Anaconda Prompt`。OSX及Linux的使用者可以打開終端機(`Terminal`)應用程式。如上圖所示：\n",
    "2. 決定工作目錄，在終端機視窗中，使用cd /path/to/directory 命令移動到給定的目錄。\n",
    "3. 一旦安裝完成，讓我們來測試Anaconda的安裝。首先，打開一個終端機視窗並輸入python。 這將打開一個Python控制台，不要與OS終端機視窗混淆。 Python控制台的標識是由一個>>>的提示字符串，而MacOS以及Linux的標識是由一個『$\\$$』的提示字符串，而Windows的標識為『>』。 這些字符串顯示在終端機視窗中，通常以計算機名稱，登錄名和當前目錄為提示字符串。 請在提示字符串之後鍵入python命令。 輸入python後，你應該看到如下圖的類似內容：\n",
    "\n",
    "4. 接下來，通過輸入`exit()`並按下*Enter*來退出Python提示字符串。"
   ]
  },
  {
   "cell_type": "raw",
   "metadata": {},
   "source": [
    "Macmini-Hilary:~ todger$ python\n",
    "Python 3.5.4 |Anaconda custom (64-bit)| (default, Nov  8 2017, 18:11:28) \n",
    "[GCC 4.2.1 Compatible Clang 4.0.1 (tags/RELEASE_401/final)] on darwin\n",
    "Type \"help\", \"copyright\", \"credits\" or \"license\" for more information.\n",
    ">>> "
   ]
  },
  {
   "cell_type": "markdown",
   "metadata": {},
   "source": [
    "[回本章目錄](#本章目錄)"
   ]
  },
  {
   "cell_type": "markdown",
   "metadata": {},
   "source": [
    "#### 6. Python、IPython以及Jupyter Notebook\n",
    "#### 6.1 執行Python解釋器\n",
    "- 使用Python編程語言的標準方法是使用Python解釋器來運行Python代碼。 Python解釋器是一個程序，它讀取並執行傳遞給它的文件中的python代碼作為參數。 在命令提示符下，使用“python”命令來調用Python解釋器。例如，要從命令提示符號來執行一個包含python代碼的*my-program.py*程式文件，請使用 `$ python my-program.py` 。\n",
    "- 我們也可以通過在命令行鍵入``python``來啟動解釋器，然後在解釋器中以交互式地輸入python代碼，如下圖:\n",
    "<img src=\"./Data_and_Images/PythonScreenshot.png\" height=\"666\" width=\"500\">\n",
    "- 上圖中發生的語法錯誤，Python解釋器會立即停止並告知錯誤原因。\n",
    "- 在開發科學應用程式或進行小計算時，我們通常會這樣做。但是由於一些限制，標準的python解釋器對於這類工作並不是很方便。"
   ]
  },
  {
   "cell_type": "markdown",
   "metadata": {},
   "source": [
    "[回本章目錄](#本章目錄)"
   ]
  },
  {
   "cell_type": "markdown",
   "metadata": {},
   "source": [
    "#### 6.2 執行IPython解釋器\n",
    "- IPython以交互式介面的方式，解決了標準python解釋器的局限性，它是python在科學運用上常用的工具。 它為標準python解釋器提供了一個交互式的提示介面，也因此大大提高了用戶友好性(user-friendliness)。\n",
    "- IPython的許多有用的功能包括：\n",
    "    - 命令歷史記錄，可以使用鍵盤上的向上和向下箭頭來瀏覽。\n",
    "    - Tab鍵自動完成。\n",
    "    - 在線編輯代碼(in-line coding)。\n",
    "    - 與作業系統shell有良好的互動。\n",
    "- 如下圖:\n",
    "<img src=\"./Data_and_Images/ipythonScreenshot.png\" height=\"666\" width=\"500\">"
   ]
  },
  {
   "cell_type": "markdown",
   "metadata": {},
   "source": [
    "[回本章目錄](#本章目錄)"
   ]
  },
  {
   "cell_type": "markdown",
   "metadata": {},
   "source": [
    "#### 6.3 執行Jupyter Notebook\n",
    "參考位址: [Jupyter Notebook](http://jupyter.org)"
   ]
  },
  {
   "cell_type": "markdown",
   "metadata": {},
   "source": [
    "[Jupyter Notebook](https://jupyter.org/) 是一個基於HTML環境下的筆記本式介面。 它是從IPython shell演進而來，但是提供了一個以小方格單元(cell)為基礎的環境，交互性非常好，結構化的組織方式與結構化的計算編錄。本書即是以Jupyter Notebook編撰而成。雖然使用Web瀏覽器作為圖形界面，但是Jupyter Notebook通常在本地運行，也就是說與執行瀏覽器的電腦為同地進行。要啟動新的Jupyter Notebook，請先選擇存儲筆記本的目錄，然後執行以下命令：\n",
    "\n",
    "     $ jupyter notebook [--port = 8888]\n",
    "\n",
    "這時，電腦將打開一個新的瀏覽器窗口(或現有窗口中的新標籤)，其索引頁面顯示現有的筆記本，並可從中選擇建立新的筆記本或編輯既有的筆記本。\n",
    "- 如下圖:\n",
    "\n",
    "<img src=\"./Data_and_Images/JupyterNotebookScreenshot.png\" height=\"666\" width=\"500\">\n",
    "\n",
    "Jupyter Notebook 界面介紹可參考: http://jupyter-notebook.readthedocs.org/en/latest/notebook.html\n",
    "Jupyter的文件區: http://jupyter.readthedocs.org/en/latest/\n",
    "在Jupyter Notebook的單元格(cell)裡，常用的幾個鍵盤快捷鍵：\n",
    "* `Ctrl`+`Enter`：執行該單元格\n",
    "* `Shift`+`Enter`：執行該單元格後，跳到下一個單元格\n",
    "* `Alt`+`Enter`：執行該單元格後，在下面插入一個新的單元格\n",
    "* `Ctrl`+`s`：儲存筆記本\n",
    "要顯示所有鍵盤快捷鍵列表可按`h`鍵來顯示它們。"
   ]
  },
  {
   "cell_type": "markdown",
   "metadata": {},
   "source": [
    "[回本章目錄](#本章目錄)"
   ]
  },
  {
   "cell_type": "markdown",
   "metadata": {},
   "source": [
    "#### 6.4 基本的Python軟件包介紹"
   ]
  },
  {
   "cell_type": "markdown",
   "metadata": {},
   "source": [
    "** NumPy **\n",
    "- NumPy是Numerical Python的縮寫，長期以來一直是Python數值計算的基石。它提供了大多數涉及數據科學應用所需的數據結構、演算法和功能庫。 NumPy包含以下內容：\n",
    "    - 快速高效的多維數陣列(組對)物件(array object)ndarray。\n",
    "    - 提供陣列或陣列間的數學運算或依元素(element-wise)計算的函數。\n",
    "    - 用於讀取和寫入基於陣列的數據集(表格，如Excel)到磁盤的工具。\n",
    "    - 提供線性代數(linear algebra)運算，傅里葉變換(Fourier transform)和隨機數(random number)的生成。\n",
    "    - 提供C語言API，使得原生的C或C ++程式碼可以取得NumPy的數據結構和計算功能。也就是說使用C或Fortran編寫的函數庫，可以對存儲在NumPy數組中的數據進行操作，而無需將數據複製到某些其他內存表示中。因此，許多用於Python的數值計算工具要麼將NumPy陣列作為主要數據結構，要麼與NumPy進行無縫的相互操作。"
   ]
  },
  {
   "cell_type": "markdown",
   "metadata": {},
   "source": [
    "** Pandas **\n",
    "- Pandas的功能強大而且是個具高效的數據分析環境。Pamdas的數據物件主要是DataFrame以及Series。DataFrame是個有列和行標籤的列表式(tabular)，數據結構就，像Excel的工作表格(spreadsheets)一樣。Series則是一維標籤化陣列物件，適合時間序列的數據處理。Pandas將NumPy的高性能陣列計算、工作表格(如Excel spreadsheets)以及關聯式數據庫(如SQL)等的數據處理功能融為了一體。Pandas提供了複雜的索引功能(indexing)，以便輕鬆重塑(reshape)，切片和切塊(slice and dice)，執行聚合(aggregations)以及選擇數據子集合(subset)。由於數據的清理、處理以及準備是數據分析中的一項重要技能，Pandas是個非常有用的軟件包。"
   ]
  },
  {
   "cell_type": "markdown",
   "metadata": {},
   "source": [
    "** Matplotlib **\n",
    "- matplotlib是用於生成繪圖和其他二維數據可視化的最流行的Python軟件包。雖然Pythont程式設計師還可以使用其他可視化軟件包，但matplotlib是最廣泛使用的，而且與Pandas也有很好的整合。"
   ]
  },
  {
   "cell_type": "markdown",
   "metadata": {},
   "source": [
    "** SciPy**\n",
    "- Scipy 是處理科學的軟件包。它提供了諸如積分、線性代數、函數優化、訊號處理、疏鬆矩陣的求解、整合Fortran的數值分析函數庫、連續或離散的統計概率分佈函數以及敘述性及統計推論等科學解決方法。"
   ]
  },
  {
   "cell_type": "markdown",
   "metadata": {},
   "source": [
    "** Scikit-learn **\n",
    "- Scikit-learn可以說是Python程式設計師的首要的機器學習軟件包。它包括以下機器學習學門中的模型：\n",
    "    - 分類(classification)：支持向量機器(Support Vector Machine;SVM)、最近鄰居(nearest neighbors)、隨機森林(random forest)、邏輯式回歸(logistic regression)等等。\n",
    "    - 回歸分析(regression)：Lasso以及ridge regression等等。\n",
    "    - 聚類(clustering)：k均值(k-means)、譜聚類(spectral clustering)等等。\n",
    "    - 降維(dimensionality reduction)：主成份分析(principle component analysis;PCA)、特徵選擇(feature selecgion)、矩陣分解(matrix factorization)等等。\n",
    "    - 模型選擇(model selection)：網格搜索(grid search)、交叉驗證(cross-validation)、度量(metric)等等。\n",
    "    - 前置處理(preprocessing)：特徵提取(feature extraction)，正規化(normalization)等等。"
   ]
  },
  {
   "cell_type": "markdown",
   "metadata": {},
   "source": [
    "** Statsmodels **\n",
    "- statsmodels是統計分析的軟件包。與scikit-learn相比，statsmodels包含古典統計(頻率論)和計量經濟學的演算法，而且較聚焦在統計推斷，諸如為參數提供不確定性估計和p值。相反地，scikit-learn較關注於預測。statsmodels包括如下子模塊：\n",
    "    - 回歸模型：線性回歸，廣義線性模型，強健線性\n",
    "模型，線性混合效應模型等。\n",
    "    - 方差分析(Analysis of Variance;ANOVA)。\n",
    "    - 時間序列分析：AR，ARMA，ARIMA，VAR和其他模型。\n",
    "    - 非參數(母數)方法：核密度估計(kernal density estimation; KDE)以及核回歸(kernal regression)。\n",
    "    - 統計模型結果的視覺化。\n",
    "\n",
    "- 我們會在本書的第三章中為大家介紹及教授他的應用。"
   ]
  },
  {
   "cell_type": "markdown",
   "metadata": {},
   "source": [
    "[回本章目錄](#本章目錄)"
   ]
  },
  {
   "cell_type": "markdown",
   "metadata": {},
   "source": [
    "#### 7. 本章參考文件"
   ]
  },
  {
   "cell_type": "markdown",
   "metadata": {},
   "source": [
    "在結束本章之前，我們提供了在數據科學中，前15名最常使用的程式庫，我們也提供以下關於Python的參考網址。\n",
    "\n",
    "[Top 15 Python Libraries for Data Science in 2017](http://www.kdnuggets.com/2017/06/top-15-python-libraries-data-science.html)\n",
    "<img src=\"./Data_and_Images/Top15PythonLibraries.png\" height=\"666\" width=\"500\"/>"
   ]
  },
  {
   "cell_type": "markdown",
   "metadata": {},
   "source": [
    "常用的conda命令\n",
    "* `conda help`：顯示conda命令列表。\n",
    "* `conda list`：列出當前環境中安裝的所有軟件包。\n",
    "* `conda info`：顯示系統信息。\n",
    "* `conda env list`：顯示安裝的環境列表。當前激活的是用星號“*”標記的。\n",
    "* `conda install somepackage`：安裝一個Python軟件包（用你想安裝的軟件包名稱替換`somepackage`）。\n",
    "* `conda install somepackage = 0.7`：安裝特定版本的軟件包。\n",
    "* `conda update somepackage`：更新一個Python軟件包到最新的可用版本。\n",
    "*  `conda update anaconda`：更新所有軟件包。\n",
    "* `conda update conda`：更新conda本身。\n",
    "* `conda update --all`：更新所有軟件包。\n",
    "* `conda remove somepackage`：卸載一個Python包。\n",
    "* `conda remove -n myenv --all`：刪除名為`myenv`的環境（將其替換為您想要卸載的環境名稱）。\n",
    "* `conda clean -t`：刪除安裝和更新後留下的舊tarballs(打包工具)。"
   ]
  },
  {
   "cell_type": "markdown",
   "metadata": {},
   "source": [
    "由於某些軟件包在Anaconda上得不到，conda安裝該軟件包時會導致失敗，這時可以嘗試使用pip install somepackage這個方法來安裝該軟件包。讀者請參考：pip [文件](https://pip.pypa.io/en/stable/)以及[PyPI](https://pypi.python.org/pypi)知識庫(repository) at https://pypi.python.org/pypi"
   ]
  },
  {
   "cell_type": "markdown",
   "metadata": {},
   "source": [
    "這裡有一些關於Anaconda的參考文件\n",
    "* [Continuum Analytics 網站](http://continuum.io/)\n",
    "* [Anaconda主頁](https://store.continuum.io/cshop/anaconda/)\n",
    "* [Anaconda下載區](http://continuum.io/downloads)\n",
    "* [Anaconda軟件包列表](http://docs.continuum.io/anaconda/pkg-docs)\n",
    "* [Conda主頁](http://conda.io/)\n",
    "* [Conda FAQ](http://conda.pydata.org/docs/faq.html)\n",
    "* [精選的Python軟件包](http://awesome-python.com/)"
   ]
  },
  {
   "cell_type": "markdown",
   "metadata": {},
   "source": [
    "有關Jupyter Notebooks的範例\n",
    "* [Jupyter Notebook的範例](https://github.com/jupyter/jupyter/wiki/A-gallery-of-interesting-Jupyter-Notebooks)\n",
    "* [精選的Python軟件包](http://awesome-python.com/)"
   ]
  },
  {
   "cell_type": "markdown",
   "metadata": {},
   "source": [
    "[回本章目錄](#本章目錄)"
   ]
  }
 ],
 "metadata": {
  "kernelspec": {
   "display_name": "Python 3",
   "language": "python",
   "name": "python3"
  },
  "language_info": {
   "codemirror_mode": {
    "name": "ipython",
    "version": 3
   },
   "file_extension": ".py",
   "mimetype": "text/x-python",
   "name": "python",
   "nbconvert_exporter": "python",
   "pygments_lexer": "ipython3",
   "version": "3.6.5"
  }
 },
 "nbformat": 4,
 "nbformat_minor": 1
}
